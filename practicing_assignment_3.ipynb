{
 "cells": [
  {
   "cell_type": "code",
   "execution_count": 49,
   "id": "1e3ee69c",
   "metadata": {},
   "outputs": [
    {
     "data": {
      "text/plain": [
       "'\"dcba4321\"'"
      ]
     },
     "execution_count": 49,
     "metadata": {},
     "output_type": "execute_result"
    }
   ],
   "source": [
    "k=('\"1234abcd\"')\n",
    "k[::-1]\n"
   ]
  },
  {
   "cell_type": "code",
   "execution_count": 50,
   "id": "f75a8e38",
   "metadata": {},
   "outputs": [
    {
     "name": "stdout",
     "output_type": "stream",
     "text": [
      "\"ydder rahkes ardnahc\"\n"
     ]
    }
   ],
   "source": [
    "def ty(p):\n",
    "    for i in p:        \n",
    "        res = p[::-1]\n",
    "    return res\n",
    "r =  ('\"chandra sekhar reddy\"')\n",
    "ress = ty(r)\n",
    "print (ress)\n"
   ]
  },
  {
   "cell_type": "code",
   "execution_count": 22,
   "id": "06d71953",
   "metadata": {},
   "outputs": [
    {
     "name": "stdout",
     "output_type": "stream",
     "text": [
      "15\n"
     ]
    }
   ],
   "source": [
    "def su(z):\n",
    "    sum=0\n",
    "    for l in z:\n",
    "        sum += l\n",
    "    return sum\n",
    "u = (1,2,3,4,5)\n",
    "res = su(u)\n",
    "print (res)"
   ]
  },
  {
   "cell_type": "code",
   "execution_count": 6,
   "id": "7143489c",
   "metadata": {},
   "outputs": [],
   "source": [
    "o = (1,2,1,2,3,3,3,3,3,3,3,1,1,4,5)\n",
    "l = len(o)\n",
    "for i in o:\n",
    "    if i > (l//2):      \n",
    "        print(\"highest itrated number is\", i,\"and the itrated no is\")\n",
    "        \n"
   ]
  },
  {
   "cell_type": "code",
   "execution_count": null,
   "id": "e331ea90",
   "metadata": {},
   "outputs": [],
   "source": []
  }
 ],
 "metadata": {
  "kernelspec": {
   "display_name": "Python 3 (ipykernel)",
   "language": "python",
   "name": "python3"
  },
  "language_info": {
   "codemirror_mode": {
    "name": "ipython",
    "version": 3
   },
   "file_extension": ".py",
   "mimetype": "text/x-python",
   "name": "python",
   "nbconvert_exporter": "python",
   "pygments_lexer": "ipython3",
   "version": "3.10.0"
  }
 },
 "nbformat": 4,
 "nbformat_minor": 5
}
