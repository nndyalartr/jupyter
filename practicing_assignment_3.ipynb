{
 "cells": [
  {
   "cell_type": "code",
   "execution_count": 49,
   "id": "1e3ee69c",
   "metadata": {},
   "outputs": [
    {
     "data": {
      "text/plain": [
       "'\"dcba4321\"'"
      ]
     },
     "execution_count": 49,
     "metadata": {},
     "output_type": "execute_result"
    }
   ],
   "source": [
    "k=('\"1234abcd\"')\n",
    "k[::-1]\n"
   ]
  },
  {
   "cell_type": "code",
   "execution_count": 50,
   "id": "52534e55",
   "metadata": {},
   "outputs": [
    {
     "name": "stdout",
     "output_type": "stream",
     "text": [
      "\"ydder rahkes ardnahc\"\n"
     ]
    }
   ],
   "source": [
    "def ty(p):\n",
    "    for i in p:        \n",
    "        res = p[::-1]\n",
    "    return res\n",
    "r =  ('\"chandra sekhar reddy\"')\n",
    "ress = ty(r)\n",
    "print (ress)\n"
   ]
  },
  {
   "cell_type": "code",
   "execution_count": 22,
   "id": "06d71953",
   "metadata": {},
   "outputs": [
    {
     "name": "stdout",
     "output_type": "stream",
     "text": [
      "15\n"
     ]
    }
   ],
   "source": [
    "def su(z):\n",
    "    sum=0\n",
    "    for l in z:\n",
    "        sum += l\n",
    "    return sum\n",
    "u = (1,2,3,4,5)\n",
    "res = su(u)\n",
    "print (res)"
   ]
  },
  {
   "cell_type": "code",
   "execution_count": 6,
   "id": "e2005e58",
   "metadata": {},
   "outputs": [],
   "source": [
    "o = (1,2,1,2,3,3,3,3,3,3,3,1,1,4,5)\n",
    "l = len(o)\n",
    "for i in o:\n",
    "    if i > (l//2):      \n",
    "        print(\"highest itrated number is\", i,\"and the itrated no is\")\n",
    "        \n"
   ]
  },
  {
   "cell_type": "code",
   "execution_count": 11,
   "id": "fe145fbf",
   "metadata": {},
   "outputs": [
    {
     "name": "stdout",
     "output_type": "stream",
     "text": [
      "dict_values([2, 4, 4])\n"
     ]
    }
   ],
   "source": [
    "t = {1:2,5:4,3:4}\n",
    "p = (t.values())\n",
    "print (p)"
   ]
  },
  {
   "cell_type": "code",
   "execution_count": 1,
   "id": "58091644",
   "metadata": {},
   "outputs": [
    {
     "name": "stdout",
     "output_type": "stream",
     "text": [
      "{'a': 97, 'b': 98, 'c': 99}\n",
      "dict_keys(['a', 'b', 'c'])\n",
      "{'a': 'apple', 'b': 'banana', 'c': 'cherry'}\n"
     ]
    }
   ],
   "source": [
    "fruits = [\"apple\", \"banana\", \"cherry\"]\n",
    "my_dict = {}\n",
    "for i in range(97,97+3):\n",
    "    my_dict[chr(i)] = i\n",
    "print(my_dict)\n",
    "print(my_dict.keys())\n",
    "k= (my_dict.keys())\n",
    "l = [\"apple\", \"banana\", \"cherry\"]\n",
    "dictionary = dict(zip(k,l))\n",
    "print(dictionary)"
   ]
  },
  {
   "cell_type": "code",
   "execution_count": 13,
   "id": "9c0b9638",
   "metadata": {},
   "outputs": [
    {
     "name": "stdout",
     "output_type": "stream",
     "text": [
      "{0: 11, 1: 12, 2: 13, 3: 14, 4: 15, 5: 16, 6: 17, 7: 18, 8: 19, 9: 20}\n"
     ]
    }
   ],
   "source": [
    "y= range(10)\n",
    "r= range(11,21,1)\n",
    "df = dict(zip(y,r))\n",
    "print (df)"
   ]
  },
  {
   "cell_type": "code",
   "execution_count": 15,
   "id": "fdbc78b0",
   "metadata": {},
   "outputs": [
    {
     "name": "stdout",
     "output_type": "stream",
     "text": [
      "Rahul Gandhi\n",
      "{'name': 'Rahul Gandhi'}\n"
     ]
    }
   ],
   "source": [
    "class Employee:\n",
    "    \n",
    "    def setName(self,name):\n",
    "        self.name = name\n",
    "        \n",
    "    def getName(self):\n",
    "        return self.name\n",
    "        \n",
    "\n",
    "e1 = Employee()\n",
    "e1.setName(\"Rahul Gandhi\")\n",
    "print(e1.getName())\n",
    "print(e1.__dict__)"
   ]
  },
  {
   "cell_type": "code",
   "execution_count": 16,
   "id": "b99e75d4",
   "metadata": {},
   "outputs": [
    {
     "name": "stdout",
     "output_type": "stream",
     "text": [
      "['False', 'None', 'True', 'and', 'as', 'assert', 'async', 'await', 'break', 'class', 'continue', 'def', 'del', 'elif', 'else', 'except', 'finally', 'for', 'from', 'global', 'if', 'import', 'in', 'is', 'lambda', 'nonlocal', 'not', 'or', 'pass', 'raise', 'return', 'try', 'while', 'with', 'yield']\n"
     ]
    }
   ],
   "source": [
    "import keyword\n",
    "print(keyword.kwlist)"
   ]
  },
  {
   "cell_type": "code",
   "execution_count": 27,
   "id": "f246fb79",
   "metadata": {},
   "outputs": [
    {
     "name": "stdout",
     "output_type": "stream",
     "text": [
      "{}\n",
      "{'__module__': '__main__', 'min_Bal': 500, '__dict__': <attribute '__dict__' of 'Bank' objects>, '__weakref__': <attribute '__weakref__' of 'Bank' objects>, '__doc__': None}\n"
     ]
    }
   ],
   "source": [
    "class Bank:\n",
    "    min_Bal = 500\n",
    "    \n",
    "\n",
    "c1 = Bank()\n",
    "print(c1.__dict__)    # {}  - no instance variable\n",
    "print(Bank.__dict__)"
   ]
  },
  {
   "cell_type": "code",
   "execution_count": 39,
   "id": "98258773",
   "metadata": {},
   "outputs": [
    {
     "name": "stdout",
     "output_type": "stream",
     "text": [
      "50\n",
      " hi  Rahul  your account balence is  49450\n",
      "50\n",
      " hi  Priyanka  your account balence is  5950\n"
     ]
    }
   ],
   "source": [
    "class Bank:\n",
    "    min_Bal = 500 \n",
    "    \n",
    "    def __init__(self,a,b,c):\n",
    "        self.name = a\n",
    "        self.deposite_amount = b\n",
    "        self.location = c        \n",
    "        self.balence()\n",
    "        #print(\"Constructor executing automatically\")\n",
    "    def balence(self):\n",
    "        self.withdrawl_amount = int(input())\n",
    "        #ban = ((self.deposite_amount + self.min_Bal)- self.withdrawl_amount)\n",
    "        print(\" hi \", self.name, \" your account balence is \", (self.deposite_amount + self.min_Bal)-self.withdrawl_amount) \n",
    "        #return ('hi' , self.name,ban )\n",
    "        \n",
    "                \n",
    "c1 = Bank(\"Rahul\", 49000, \"delhi\")\n",
    "#withdrawl_amount = int(input(()))\n",
    "#print(c1.balence())\n",
    "c2 = Bank(\"Priyanka\", 5500, \"mumbai\")\n",
    "#print(c2.__dict__)\n"
   ]
  },
  {
   "cell_type": "code",
   "execution_count": 84,
   "id": "36318468",
   "metadata": {},
   "outputs": [
    {
     "name": "stdout",
     "output_type": "stream",
     "text": [
      "100\n",
      "1000\n"
     ]
    }
   ],
   "source": [
    "class power:\n",
    "    def __init__(self,p,n):\n",
    "        self.number = p\n",
    "        self.exponent = n\n",
    "        res = p**n\n",
    "        print(res)\n",
    "k = power(10,2)\n",
    "l = power(10,3)"
   ]
  },
  {
   "cell_type": "code",
   "execution_count": 77,
   "id": "86928e4d",
   "metadata": {},
   "outputs": [
    {
     "name": "stdout",
     "output_type": "stream",
     "text": [
      "10  power of  2  is :  100\n",
      "10  power of  3  is :  1000\n"
     ]
    }
   ],
   "source": [
    "class power:\n",
    "    def __init__(self,p,n):\n",
    "        self.number = p\n",
    "        self.exponent = n\n",
    "        self.po()\n",
    "    def po(self):\n",
    "        print(self.number, \" power of \", self.exponent, \" is : \",(self.number**self.exponent))\n",
    "k = power(10,2)\n",
    "l = power(10,3)"
   ]
  },
  {
   "cell_type": "code",
   "execution_count": 79,
   "id": "dab0003a",
   "metadata": {},
   "outputs": [
    {
     "name": "stdout",
     "output_type": "stream",
     "text": [
      "1000\n",
      "None\n"
     ]
    }
   ],
   "source": [
    "class power:\n",
    "    def __init__(self,p,n):\n",
    "        self.number = p\n",
    "        self.exponent = n\n",
    "    def po(self):\n",
    "        print(self.number**self.exponent)\n",
    "k = power(10,2)\n",
    "l = power(10,3)\n",
    "print(l.po())"
   ]
  },
  {
   "cell_type": "code",
   "execution_count": 14,
   "id": "508f2bae",
   "metadata": {},
   "outputs": [
    {
     "name": "stdout",
     "output_type": "stream",
     "text": [
      "child Class - Contrcutor\n",
      "Parent class - Constructor\n",
      "1922514329392\n",
      "1922514329392\n",
      "1922514329392\n"
     ]
    }
   ],
   "source": [
    "class Parent:\n",
    "    def __init__(self):\n",
    "        print(\"Parent class - Constructor\")\n",
    "        print(id(self))\n",
    "       \n",
    "\n",
    "class Child(Parent):\n",
    "    def __init__(self):\n",
    "        print(\"child Class - Contrcutor\")\n",
    "        super().__init__()\n",
    "        print(id(self))\n",
    "        \n",
    "c = Child()\n",
    "print(id(c))"
   ]
  },
  {
   "cell_type": "code",
   "execution_count": 21,
   "id": "a61708db",
   "metadata": {},
   "outputs": [
    {
     "name": "stdout",
     "output_type": "stream",
     "text": [
      "{'__module__': '__main__', 'display': <function D.display at 0x000001BF9ED4A290>, '__doc__': None}\n"
     ]
    }
   ],
   "source": [
    "class A:\n",
    "    def display(self):\n",
    "        print(\"A - display\")\n",
    "class B(A):\n",
    "     def display(self):\n",
    "        print(\"B - display\")\n",
    "class C(A):\n",
    "       def display(self):\n",
    "        print(\"C - display\")\n",
    "class D(B,C):\n",
    "       def display(self):\n",
    "        print(\"D - display\")\n",
    "D()\n",
    "#d.display()\n",
    "print(D.__dict__)"
   ]
  },
  {
   "cell_type": "code",
   "execution_count": 27,
   "id": "0568ddbf",
   "metadata": {},
   "outputs": [
    {
     "name": "stdout",
     "output_type": "stream",
     "text": [
      "divide\n",
      "0\n",
      "10\n",
      "I am going to divide 0 and 10\n",
      "Whoops! cannot divide\n"
     ]
    }
   ],
   "source": [
    "def smart_divide(func):\n",
    "    print(func.__name__)\n",
    "    def inner(a, b):\n",
    "        print(a)\n",
    "        print(b)\n",
    "        print(\"I am going to divide\", a, \"and\", b)\n",
    "        if b or a == 0:\n",
    "            print(\"Whoops! cannot divide\")\n",
    "            return\n",
    "\n",
    "        return func(a, b)\n",
    "    return inner\n",
    "\n",
    "\n",
    "@smart_divide\n",
    "def divide(a, b):\n",
    "    print(a/b)\n",
    "\n",
    "divide(0,10)"
   ]
  },
  {
   "cell_type": "code",
   "execution_count": 42,
   "id": "ab542621",
   "metadata": {},
   "outputs": [
    {
     "name": "stdout",
     "output_type": "stream",
     "text": [
      "Please Enter your Net Salary :75000\n"
     ]
    },
    {
     "ename": "NEFMarriage",
     "evalue": "voila ! ur eligible for matches",
     "output_type": "error",
     "traceback": [
      "\u001b[1;31m---------------------------------------------------------------------------\u001b[0m",
      "\u001b[1;31mNEFMarriage\u001b[0m                               Traceback (most recent call last)",
      "\u001b[1;32m~\\AppData\\Local\\Temp/ipykernel_16748/3369121914.py\u001b[0m in \u001b[0;36m<module>\u001b[1;34m\u001b[0m\n\u001b[0;32m      6\u001b[0m     \u001b[1;32mraise\u001b[0m \u001b[0mNEFMarriage\u001b[0m\u001b[1;33m(\u001b[0m\u001b[1;34m\"Your Not Eligible for Marriage\"\u001b[0m\u001b[1;33m)\u001b[0m\u001b[1;33m\u001b[0m\u001b[1;33m\u001b[0m\u001b[0m\n\u001b[0;32m      7\u001b[0m \u001b[1;32melse\u001b[0m\u001b[1;33m:\u001b[0m\u001b[1;33m\u001b[0m\u001b[1;33m\u001b[0m\u001b[0m\n\u001b[1;32m----> 8\u001b[1;33m     \u001b[1;32mraise\u001b[0m \u001b[0mNEFMarriage\u001b[0m\u001b[1;33m(\u001b[0m\u001b[1;34m\"voila ! ur eligible for matches\"\u001b[0m\u001b[1;33m)\u001b[0m\u001b[1;33m\u001b[0m\u001b[1;33m\u001b[0m\u001b[0m\n\u001b[0m",
      "\u001b[1;31mNEFMarriage\u001b[0m: voila ! ur eligible for matches"
     ]
    }
   ],
   "source": [
    "class NEFMarriage(Exception):\n",
    "    def __init__(self,msg):\n",
    "        self.msg = msg\n",
    "salary = int(input(\"Please Enter your Net Salary :\"))\n",
    "if salary < 75000:\n",
    "    raise NEFMarriage(\"Your Not Eligible for Marriage\")\n",
    "else:\n",
    "    raise NEFMarriage(\"voila ! ur eligible for matches\")"
   ]
  },
  {
   "cell_type": "code",
   "execution_count": 62,
   "id": "72a7be92",
   "metadata": {},
   "outputs": [
    {
     "ename": "AttributeError",
     "evalue": "'power' object has no attribute 'n'",
     "output_type": "error",
     "traceback": [
      "\u001b[1;31m---------------------------------------------------------------------------\u001b[0m",
      "\u001b[1;31mAttributeError\u001b[0m                            Traceback (most recent call last)",
      "\u001b[1;32m~\\AppData\\Local\\Temp/ipykernel_16748/3346316494.py\u001b[0m in \u001b[0;36m<module>\u001b[1;34m\u001b[0m\n\u001b[0;32m      8\u001b[0m     \u001b[1;32mdef\u001b[0m \u001b[0mpo\u001b[0m\u001b[1;33m(\u001b[0m\u001b[0mself\u001b[0m\u001b[1;33m)\u001b[0m\u001b[1;33m:\u001b[0m\u001b[1;33m\u001b[0m\u001b[1;33m\u001b[0m\u001b[0m\n\u001b[0;32m      9\u001b[0m         \u001b[0mprint\u001b[0m\u001b[1;33m(\u001b[0m\u001b[0mself\u001b[0m\u001b[1;33m.\u001b[0m\u001b[0mnumber\u001b[0m\u001b[1;33m**\u001b[0m\u001b[0mself\u001b[0m\u001b[1;33m.\u001b[0m\u001b[0mn\u001b[0m\u001b[1;33m)\u001b[0m\u001b[1;33m\u001b[0m\u001b[1;33m\u001b[0m\u001b[0m\n\u001b[1;32m---> 10\u001b[1;33m \u001b[0mk\u001b[0m \u001b[1;33m=\u001b[0m \u001b[0mpower\u001b[0m\u001b[1;33m(\u001b[0m\u001b[1;36m10\u001b[0m\u001b[1;33m,\u001b[0m\u001b[1;36m2\u001b[0m\u001b[1;33m)\u001b[0m\u001b[1;33m\u001b[0m\u001b[1;33m\u001b[0m\u001b[0m\n\u001b[0m\u001b[0;32m     11\u001b[0m \u001b[0ml\u001b[0m \u001b[1;33m=\u001b[0m \u001b[0mpower\u001b[0m\u001b[1;33m(\u001b[0m\u001b[1;36m10\u001b[0m\u001b[1;33m,\u001b[0m\u001b[1;36m3\u001b[0m\u001b[1;33m)\u001b[0m\u001b[1;33m\u001b[0m\u001b[1;33m\u001b[0m\u001b[0m\n",
      "\u001b[1;32m~\\AppData\\Local\\Temp/ipykernel_16748/3346316494.py\u001b[0m in \u001b[0;36m__init__\u001b[1;34m(self, p, n)\u001b[0m\n\u001b[0;32m      3\u001b[0m         \u001b[0mself\u001b[0m\u001b[1;33m.\u001b[0m\u001b[0mnumber\u001b[0m \u001b[1;33m=\u001b[0m \u001b[0mp\u001b[0m\u001b[1;33m\u001b[0m\u001b[1;33m\u001b[0m\u001b[0m\n\u001b[0;32m      4\u001b[0m         \u001b[0mself\u001b[0m\u001b[1;33m.\u001b[0m\u001b[0mexponent\u001b[0m \u001b[1;33m=\u001b[0m \u001b[0mn\u001b[0m\u001b[1;33m\u001b[0m\u001b[1;33m\u001b[0m\u001b[0m\n\u001b[1;32m----> 5\u001b[1;33m         \u001b[0mself\u001b[0m\u001b[1;33m.\u001b[0m\u001b[0mpo\u001b[0m\u001b[1;33m(\u001b[0m\u001b[1;33m)\u001b[0m\u001b[1;33m\u001b[0m\u001b[1;33m\u001b[0m\u001b[0m\n\u001b[0m\u001b[0;32m      6\u001b[0m         \u001b[1;31m#res = p**n\u001b[0m\u001b[1;33m\u001b[0m\u001b[1;33m\u001b[0m\u001b[0m\n\u001b[0;32m      7\u001b[0m        \u001b[1;31m# print(res)\u001b[0m\u001b[1;33m\u001b[0m\u001b[1;33m\u001b[0m\u001b[0m\n",
      "\u001b[1;32m~\\AppData\\Local\\Temp/ipykernel_16748/3346316494.py\u001b[0m in \u001b[0;36mpo\u001b[1;34m(self)\u001b[0m\n\u001b[0;32m      7\u001b[0m        \u001b[1;31m# print(res)\u001b[0m\u001b[1;33m\u001b[0m\u001b[1;33m\u001b[0m\u001b[0m\n\u001b[0;32m      8\u001b[0m     \u001b[1;32mdef\u001b[0m \u001b[0mpo\u001b[0m\u001b[1;33m(\u001b[0m\u001b[0mself\u001b[0m\u001b[1;33m)\u001b[0m\u001b[1;33m:\u001b[0m\u001b[1;33m\u001b[0m\u001b[1;33m\u001b[0m\u001b[0m\n\u001b[1;32m----> 9\u001b[1;33m         \u001b[0mprint\u001b[0m\u001b[1;33m(\u001b[0m\u001b[0mself\u001b[0m\u001b[1;33m.\u001b[0m\u001b[0mnumber\u001b[0m\u001b[1;33m**\u001b[0m\u001b[0mself\u001b[0m\u001b[1;33m.\u001b[0m\u001b[0mn\u001b[0m\u001b[1;33m)\u001b[0m\u001b[1;33m\u001b[0m\u001b[1;33m\u001b[0m\u001b[0m\n\u001b[0m\u001b[0;32m     10\u001b[0m \u001b[0mk\u001b[0m \u001b[1;33m=\u001b[0m \u001b[0mpower\u001b[0m\u001b[1;33m(\u001b[0m\u001b[1;36m10\u001b[0m\u001b[1;33m,\u001b[0m\u001b[1;36m2\u001b[0m\u001b[1;33m)\u001b[0m\u001b[1;33m\u001b[0m\u001b[1;33m\u001b[0m\u001b[0m\n\u001b[0;32m     11\u001b[0m \u001b[0ml\u001b[0m \u001b[1;33m=\u001b[0m \u001b[0mpower\u001b[0m\u001b[1;33m(\u001b[0m\u001b[1;36m10\u001b[0m\u001b[1;33m,\u001b[0m\u001b[1;36m3\u001b[0m\u001b[1;33m)\u001b[0m\u001b[1;33m\u001b[0m\u001b[1;33m\u001b[0m\u001b[0m\n",
      "\u001b[1;31mAttributeError\u001b[0m: 'power' object has no attribute 'n'"
     ]
    }
   ],
   "source": [
    "class power:\n",
    "    def __init__(self,p,n):\n",
    "        self.number = p\n",
    "        self.exponent = n\n",
    "        self.po()\n",
    "        #res = p**n\n",
    "       # print(res)\n",
    "    def po(self):\n",
    "        print(self.number**self.n)\n",
    "k = power(10,2)\n",
    "l = power(10,3)"
   ]
  },
  {
   "cell_type": "code",
   "execution_count": null,
   "id": "bb1e0efb",
   "metadata": {},
   "outputs": [],
   "source": [
    "\n",
    "\n",
    "\n"
   ]
  },
  {
   "cell_type": "code",
   "execution_count": 43,
   "id": "afe1ab5b",
   "metadata": {},
   "outputs": [
    {
     "name": "stdout",
     "output_type": "stream",
     "text": [
      "one\n",
      "Please Enter Data\n"
     ]
    }
   ],
   "source": [
    "try:\n",
    "    print(\"one\")\n",
    "    print(10/0)\n",
    "    print(\"Two\")\n",
    "except :\n",
    "    print(\"Please Enter Data\")"
   ]
  },
  {
   "cell_type": "code",
   "execution_count": 44,
   "id": "256f32c5",
   "metadata": {},
   "outputs": [
    {
     "ename": "ModuleNotFoundError",
     "evalue": "No module named 'product'",
     "output_type": "error",
     "traceback": [
      "\u001b[1;31m---------------------------------------------------------------------------\u001b[0m",
      "\u001b[1;31mModuleNotFoundError\u001b[0m                       Traceback (most recent call last)",
      "\u001b[1;32m~\\AppData\\Local\\Temp/ipykernel_16748/4150600510.py\u001b[0m in \u001b[0;36m<module>\u001b[1;34m\u001b[0m\n\u001b[1;32m----> 1\u001b[1;33m \u001b[1;32mimport\u001b[0m \u001b[0mproduct\u001b[0m \u001b[1;32mas\u001b[0m \u001b[0mak\u001b[0m\u001b[1;33m\u001b[0m\u001b[1;33m\u001b[0m\u001b[0m\n\u001b[0m\u001b[0;32m      2\u001b[0m \u001b[0mprint\u001b[0m\u001b[1;33m(\u001b[0m\u001b[0mak\u001b[0m\u001b[1;33m.\u001b[0m\u001b[0mprice\u001b[0m\u001b[1;33m)\u001b[0m\u001b[1;33m\u001b[0m\u001b[1;33m\u001b[0m\u001b[0m\n\u001b[0;32m      3\u001b[0m \u001b[0mprint\u001b[0m\u001b[1;33m(\u001b[0m\u001b[0mak\u001b[0m\u001b[1;33m.\u001b[0m\u001b[0mdiscount\u001b[0m\u001b[1;33m)\u001b[0m\u001b[1;33m\u001b[0m\u001b[1;33m\u001b[0m\u001b[0m\n\u001b[0;32m      4\u001b[0m \u001b[1;33m\u001b[0m\u001b[0m\n\u001b[0;32m      5\u001b[0m \u001b[0mvalue\u001b[0m \u001b[1;33m=\u001b[0m\u001b[0mak\u001b[0m\u001b[1;33m.\u001b[0m\u001b[0mcal_price\u001b[0m\u001b[1;33m(\u001b[0m\u001b[1;36m800\u001b[0m\u001b[1;33m,\u001b[0m\u001b[1;36m20\u001b[0m\u001b[1;33m)\u001b[0m\u001b[1;33m\u001b[0m\u001b[1;33m\u001b[0m\u001b[0m\n",
      "\u001b[1;31mModuleNotFoundError\u001b[0m: No module named 'product'"
     ]
    }
   ],
   "source": [
    "import product as ak\n",
    "print(ak.price)\n",
    "print(ak.discount)\n",
    "\n",
    "value =ak.cal_price(800,20)\n",
    "print(value)"
   ]
  },
  {
   "cell_type": "code",
   "execution_count": 51,
   "id": "f6ead596",
   "metadata": {},
   "outputs": [
    {
     "ename": "FileNotFoundError",
     "evalue": "[Errno 2] No such file or directory: 'mbox-short.txt'",
     "output_type": "error",
     "traceback": [
      "\u001b[1;31m---------------------------------------------------------------------------\u001b[0m",
      "\u001b[1;31mFileNotFoundError\u001b[0m                         Traceback (most recent call last)",
      "\u001b[1;32m~\\AppData\\Local\\Temp/ipykernel_16748/181675729.py\u001b[0m in \u001b[0;36m<module>\u001b[1;34m\u001b[0m\n\u001b[0;32m      1\u001b[0m \u001b[1;32mimport\u001b[0m \u001b[0mre\u001b[0m\u001b[1;33m\u001b[0m\u001b[1;33m\u001b[0m\u001b[0m\n\u001b[1;32m----> 2\u001b[1;33m \u001b[0mhand\u001b[0m \u001b[1;33m=\u001b[0m \u001b[0mopen\u001b[0m\u001b[1;33m(\u001b[0m\u001b[1;34m\"mbox-short.txt\"\u001b[0m\u001b[1;33m)\u001b[0m\u001b[1;33m\u001b[0m\u001b[1;33m\u001b[0m\u001b[0m\n\u001b[0m\u001b[0;32m      3\u001b[0m \u001b[1;32mfor\u001b[0m \u001b[0mline\u001b[0m \u001b[1;32min\u001b[0m \u001b[0mhand\u001b[0m\u001b[1;33m:\u001b[0m\u001b[1;33m\u001b[0m\u001b[1;33m\u001b[0m\u001b[0m\n\u001b[0;32m      4\u001b[0m     \u001b[0mline\u001b[0m \u001b[1;33m=\u001b[0m \u001b[0mline\u001b[0m\u001b[1;33m.\u001b[0m\u001b[0mrstrip\u001b[0m\u001b[1;33m(\u001b[0m\u001b[1;33m)\u001b[0m\u001b[1;33m\u001b[0m\u001b[1;33m\u001b[0m\u001b[0m\n\u001b[0;32m      5\u001b[0m     \u001b[1;32mif\u001b[0m \u001b[0mre\u001b[0m\u001b[1;33m.\u001b[0m\u001b[0msearch\u001b[0m\u001b[1;33m(\u001b[0m\u001b[1;34m\"\\$.+\"\u001b[0m\u001b[1;33m,\u001b[0m\u001b[0mline\u001b[0m\u001b[1;33m)\u001b[0m\u001b[1;33m:\u001b[0m\u001b[1;33m\u001b[0m\u001b[1;33m\u001b[0m\u001b[0m\n",
      "\u001b[1;31mFileNotFoundError\u001b[0m: [Errno 2] No such file or directory: 'mbox-short.txt'"
     ]
    }
   ],
   "source": [
    "import re\n",
    "hand = open(\"mbox-short.txt\")\n",
    "for line in hand:\n",
    "    line = line.rstrip()\n",
    "    if re.search(\"\\$.+\",line):\n",
    "        print(line)"
   ]
  },
  {
   "cell_type": "code",
   "execution_count": null,
   "id": "d236bacf",
   "metadata": {},
   "outputs": [],
   "source": []
  }
 ],
 "metadata": {
  "kernelspec": {
   "display_name": "Python 3 (ipykernel)",
   "language": "python",
   "name": "python3"
  },
  "language_info": {
   "codemirror_mode": {
    "name": "ipython",
    "version": 3
   },
   "file_extension": ".py",
   "mimetype": "text/x-python",
   "name": "python",
   "nbconvert_exporter": "python",
   "pygments_lexer": "ipython3",
   "version": "3.10.0"
  }
 },
 "nbformat": 4,
 "nbformat_minor": 5
}
