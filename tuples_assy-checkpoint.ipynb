{
 "cells": [
  {
   "cell_type": "code",
   "execution_count": 1,
   "id": "bc6ed47f",
   "metadata": {},
   "outputs": [
    {
     "name": "stdout",
     "output_type": "stream",
     "text": [
      "[(2, 1), (1, 2), (2, 3), (4, 4), (2, 5)]\n"
     ]
    }
   ],
   "source": [
    "def last(n): return n[-1]\n",
    "\n",
    "def sort_list_last(tuples):\n",
    "  return sorted(tuples, key=last)\n",
    "\n",
    "print(sort_list_last([(2, 5), (1, 2), (4, 4), (2, 3), (2, 1)]))\n"
   ]
  },
  {
   "cell_type": "code",
   "execution_count": null,
   "id": "c7b71135",
   "metadata": {},
   "outputs": [],
   "source": [
    "values = []\n",
    "print(\"Enter -1 -1 to finish input\")\n",
    "while True:\n",
    "    ip = input(\"Enter two numeric values separated by space:\")\n",
    "    x, y = ip.split(\" \")\n",
    "    if int(x) == -1 and int(y) == -1:\n",
    "        break\n",
    "    values.append((int(x), int(y)))"
   ]
  },
  {
   "cell_type": "code",
   "execution_count": 7,
   "id": "c10675af",
   "metadata": {},
   "outputs": [
    {
     "data": {
      "text/plain": [
       "[(1, 2), (2, 8)]"
      ]
     },
     "execution_count": 7,
     "metadata": {},
     "output_type": "execute_result"
    }
   ],
   "source": [
    "values"
   ]
  },
  {
   "cell_type": "code",
   "execution_count": 17,
   "id": "495dd0a2",
   "metadata": {},
   "outputs": [
    {
     "name": "stdout",
     "output_type": "stream",
     "text": [
      "aklup\n"
     ]
    }
   ],
   "source": [
    "def puk(rev):\n",
    "    reverse = rev[::-1]\n",
    "    print(reverse)\n",
    "s = (\"pulka\")\n",
    "result = puk(s)"
   ]
  },
  {
   "cell_type": "code",
   "execution_count": 61,
   "id": "3727cf0f",
   "metadata": {},
   "outputs": [
    {
     "name": "stdout",
     "output_type": "stream",
     "text": [
      "3\n",
      "5\n",
      "7\n",
      "11\n",
      "13\n",
      "17\n",
      "19\n",
      "23\n",
      "29\n",
      "31\n",
      "37\n",
      "41\n",
      "43\n",
      "47\n"
     ]
    }
   ],
   "source": [
    "def lanja(value):\n",
    "    for i in range(50):\n",
    "        if i>2:\n",
    "            for k in range(2,i):\n",
    "                if (i % k)==0:\n",
    "                    break\n",
    "            else:\n",
    "                print(i, end=\" \")\n",
    "puka = lanja(value)"
   ]
  },
  {
   "cell_type": "code",
   "execution_count": 22,
   "id": "02a910a1",
   "metadata": {},
   "outputs": [
    {
     "name": "stdout",
     "output_type": "stream",
     "text": [
      "[0, 1, 2, 3, 4, 5, 6, 7, 8, 9, 10, 11, 12, 13, 14, 15, 16, 17, 18, 19, 20, 21, 22, 23, 24, 25, 26, 27, 28, 29, 30, 31, 32, 33, 34, 35, 36, 37, 38, 39, 40, 41, 42, 43, 44, 45, 46, 47, 48, 49]\n"
     ]
    }
   ],
   "source": [
    "k = list(range(50))\n",
    "print(k)"
   ]
  },
  {
   "cell_type": "code",
   "execution_count": 62,
   "id": "9aa53d82",
   "metadata": {},
   "outputs": [
    {
     "name": "stdout",
     "output_type": "stream",
     "text": [
      "3\n",
      "5\n",
      "7\n",
      "11\n",
      "13\n",
      "17\n",
      "19\n",
      "23\n",
      "29\n",
      "31\n",
      "37\n",
      "41\n",
      "43\n",
      "47\n",
      "None\n"
     ]
    }
   ],
   "source": [
    "print(lanja(value))"
   ]
  },
  {
   "cell_type": "code",
   "execution_count": null,
   "id": "3fc0e93e",
   "metadata": {},
   "outputs": [],
   "source": []
  }
 ],
 "metadata": {
  "kernelspec": {
   "display_name": "Python 3 (ipykernel)",
   "language": "python",
   "name": "python3"
  },
  "language_info": {
   "codemirror_mode": {
    "name": "ipython",
    "version": 3
   },
   "file_extension": ".py",
   "mimetype": "text/x-python",
   "name": "python",
   "nbconvert_exporter": "python",
   "pygments_lexer": "ipython3",
   "version": "3.10.0"
  }
 },
 "nbformat": 4,
 "nbformat_minor": 5
}
