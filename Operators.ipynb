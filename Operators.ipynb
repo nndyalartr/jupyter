{
 "cells": [
  {
   "cell_type": "raw",
   "id": "ba83c3a9",
   "metadata": {},
   "source": [
    "User code (your python file)\n",
    "Python module (python interpreter)\n",
    "C\n",
    "(Gcc compiler -> many compilers)\n",
    "Hardware Instructions (binary interpretations)\n",
    "Kernel\n",
    "OS (as per requirement)"
   ]
  },
  {
   "cell_type": "code",
   "execution_count": null,
   "id": "75420b00",
   "metadata": {},
   "outputs": [],
   "source": []
  },
  {
   "cell_type": "code",
   "execution_count": 2,
   "id": "4ee24348",
   "metadata": {},
   "outputs": [],
   "source": [
    "# Virat Kohli, Captain, 183  # data"
   ]
  },
  {
   "cell_type": "code",
   "execution_count": null,
   "id": "8a7fc6ed",
   "metadata": {},
   "outputs": [],
   "source": [
    "1 way of presenting. the data:- (repr)\n",
    "Virat Kohli, Captain, 183\n",
    "\n",
    "2 way of presenting the data:- (str)\n",
    "Virat Kohli is the Captain of the Indian Cricket Team. His ODI best is 183"
   ]
  },
  {
   "cell_type": "code",
   "execution_count": null,
   "id": "2a990436",
   "metadata": {},
   "outputs": [],
   "source": [
    "Everything in Python is an object\n",
    "\n",
    "every object -> 2 representations\n",
    "  str (mandatory, pretty display of the data)\n",
    "  repr (optional, minimalistic representation for debugging purposes -> log something)\n",
    "\n",
    "\n",
    "Python program running -> UI (application) \n",
    "Clicks a button -> o/p tell me about Virat Kohli\n",
    "Return the str presentation for data\n",
    "\n",
    "Click button --> line of code in your program (save repr in a DB) -> \n",
    "                                   helps you to debug -> o/p str reprsentation\n",
    "    \n",
    "# Debug -> Code output or behaviour is different than expected "
   ]
  },
  {
   "cell_type": "code",
   "execution_count": null,
   "id": "fadc4eaf",
   "metadata": {},
   "outputs": [],
   "source": [
    "2D Point\n",
    "\n",
    "P 5 -3 # debug notation -> repr\n",
    "P(5, -3) # mathematical notation -> str"
   ]
  },
  {
   "cell_type": "code",
   "execution_count": 3,
   "id": "3fd810d4",
   "metadata": {},
   "outputs": [],
   "source": []
  },
  {
   "cell_type": "code",
   "execution_count": null,
   "id": "b9e11ca2",
   "metadata": {},
   "outputs": [],
   "source": []
  },
  {
   "cell_type": "code",
   "execution_count": null,
   "id": "d8989003",
   "metadata": {},
   "outputs": [],
   "source": []
  },
  {
   "cell_type": "code",
   "execution_count": 4,
   "id": "12b6225b",
   "metadata": {},
   "outputs": [],
   "source": [
    "# set -> list\n",
    "d = {12, \"abc\", 45, \"ABC\", -4}"
   ]
  },
  {
   "cell_type": "code",
   "execution_count": 6,
   "id": "866db08f",
   "metadata": {},
   "outputs": [],
   "source": [
    "l_d = list(d)"
   ]
  },
  {
   "cell_type": "code",
   "execution_count": 7,
   "id": "50753be5",
   "metadata": {},
   "outputs": [
    {
     "data": {
      "text/plain": [
       "[-4, 'ABC', 12, 45, 'abc']"
      ]
     },
     "execution_count": 7,
     "metadata": {},
     "output_type": "execute_result"
    }
   ],
   "source": [
    "l_d"
   ]
  },
  {
   "cell_type": "code",
   "execution_count": 8,
   "id": "dd54287f",
   "metadata": {},
   "outputs": [],
   "source": [
    "l_dd = [*d]"
   ]
  },
  {
   "cell_type": "code",
   "execution_count": 9,
   "id": "5762531a",
   "metadata": {},
   "outputs": [
    {
     "data": {
      "text/plain": [
       "[-4, 'ABC', 12, 45, 'abc']"
      ]
     },
     "execution_count": 9,
     "metadata": {},
     "output_type": "execute_result"
    }
   ],
   "source": [
    "l_dd"
   ]
  },
  {
   "cell_type": "code",
   "execution_count": null,
   "id": "f6c46259",
   "metadata": {},
   "outputs": [],
   "source": []
  },
  {
   "cell_type": "code",
   "execution_count": 10,
   "id": "78f9e4a5",
   "metadata": {},
   "outputs": [
    {
     "data": {
      "text/plain": [
       "{-4, 12, 45, 'ABC', 'abc'}"
      ]
     },
     "execution_count": 10,
     "metadata": {},
     "output_type": "execute_result"
    }
   ],
   "source": [
    "d # repr representation of set d\n",
    "# repr -> sorted representation of the set"
   ]
  },
  {
   "cell_type": "code",
   "execution_count": 11,
   "id": "70dafee3",
   "metadata": {},
   "outputs": [
    {
     "name": "stdout",
     "output_type": "stream",
     "text": [
      "{-4, 'ABC', 12, 45, 'abc'}\n"
     ]
    }
   ],
   "source": [
    "print(d) # str representation of set d"
   ]
  },
  {
   "cell_type": "code",
   "execution_count": 12,
   "id": "d86f6cac",
   "metadata": {},
   "outputs": [
    {
     "data": {
      "text/plain": [
       "65"
      ]
     },
     "execution_count": 12,
     "metadata": {},
     "output_type": "execute_result"
    }
   ],
   "source": [
    "ord(\"A\") # ord is ordinal -> python convert any char to a number"
   ]
  },
  {
   "cell_type": "code",
   "execution_count": 14,
   "id": "8e806582",
   "metadata": {},
   "outputs": [
    {
     "data": {
      "text/plain": [
       "66"
      ]
     },
     "execution_count": 14,
     "metadata": {},
     "output_type": "execute_result"
    }
   ],
   "source": [
    "ord(\"B\") # char to int conversion is called an encoding, ASCII encoding"
   ]
  },
  {
   "cell_type": "code",
   "execution_count": 13,
   "id": "a0c6d6cc",
   "metadata": {},
   "outputs": [
    {
     "data": {
      "text/plain": [
       "97"
      ]
     },
     "execution_count": 13,
     "metadata": {},
     "output_type": "execute_result"
    }
   ],
   "source": [
    "ord(\"a\")"
   ]
  },
  {
   "cell_type": "code",
   "execution_count": 15,
   "id": "efa34400",
   "metadata": {},
   "outputs": [
    {
     "data": {
      "text/plain": [
       "98"
      ]
     },
     "execution_count": 15,
     "metadata": {},
     "output_type": "execute_result"
    }
   ],
   "source": [
    "ord(\"b\")"
   ]
  },
  {
   "cell_type": "code",
   "execution_count": 17,
   "id": "34a07393",
   "metadata": {},
   "outputs": [
    {
     "data": {
      "text/plain": [
       "49"
      ]
     },
     "execution_count": 17,
     "metadata": {},
     "output_type": "execute_result"
    }
   ],
   "source": [
    "ord(\"1\")"
   ]
  },
  {
   "cell_type": "code",
   "execution_count": null,
   "id": "86e43dda",
   "metadata": {},
   "outputs": [],
   "source": []
  },
  {
   "cell_type": "code",
   "execution_count": 18,
   "id": "fcc0f71a",
   "metadata": {},
   "outputs": [],
   "source": [
    "l = [123, \"asd\", -2.3, 12, \"dnajd\"]"
   ]
  },
  {
   "cell_type": "code",
   "execution_count": 19,
   "id": "20a07ed1",
   "metadata": {},
   "outputs": [
    {
     "data": {
      "text/plain": [
       "[123, 'asd', -2.3, 12, 'dnajd']"
      ]
     },
     "execution_count": 19,
     "metadata": {},
     "output_type": "execute_result"
    }
   ],
   "source": [
    "l "
   ]
  },
  {
   "cell_type": "code",
   "execution_count": 20,
   "id": "88451ad2",
   "metadata": {},
   "outputs": [
    {
     "name": "stdout",
     "output_type": "stream",
     "text": [
      "[123, 'asd', -2.3, 12, 'dnajd']\n"
     ]
    }
   ],
   "source": [
    "print(l)"
   ]
  },
  {
   "cell_type": "code",
   "execution_count": null,
   "id": "2dae8f3f",
   "metadata": {},
   "outputs": [],
   "source": [
    "ASCII encoding:-"
   ]
  },
  {
   "cell_type": "code",
   "execution_count": null,
   "id": "8b441d00",
   "metadata": {},
   "outputs": [],
   "source": [
    "Computers understand only binary (0, 1) -> int to binary -> \n",
    "                            every char needs to be a assigned a unique int value\n",
    "\n",
    "x = \"a\" # (=97)\n",
    "y = \"c\"\n",
    "Memory\n",
    "id(x) --> value 97 -> 1100001\n",
    "id(y) --> value 99 -> ...."
   ]
  },
  {
   "cell_type": "code",
   "execution_count": 22,
   "id": "8bbc139f",
   "metadata": {},
   "outputs": [
    {
     "data": {
      "text/plain": [
       "38"
      ]
     },
     "execution_count": 22,
     "metadata": {},
     "output_type": "execute_result"
    }
   ],
   "source": [
    "ord(\"&\")"
   ]
  },
  {
   "cell_type": "code",
   "execution_count": 23,
   "id": "151c3cba",
   "metadata": {},
   "outputs": [
    {
     "data": {
      "text/plain": [
       "(140373567800688, 140373571334768)"
      ]
     },
     "execution_count": 23,
     "metadata": {},
     "output_type": "execute_result"
    }
   ],
   "source": [
    "# literal\n",
    "id(97), id(\"a\")   # \"97\" --> binary (57) next byte binary(55)\n",
    "                  # \"a\" --> binary(97)"
   ]
  },
  {
   "cell_type": "code",
   "execution_count": null,
   "id": "01326177",
   "metadata": {},
   "outputs": [],
   "source": []
  },
  {
   "cell_type": "code",
   "execution_count": null,
   "id": "ff6c5cda",
   "metadata": {},
   "outputs": [],
   "source": []
  },
  {
   "cell_type": "markdown",
   "id": "6d8f9311",
   "metadata": {},
   "source": [
    "Operators:-"
   ]
  },
  {
   "cell_type": "code",
   "execution_count": null,
   "id": "164b2df8",
   "metadata": {},
   "outputs": [],
   "source": [
    "Arithmetic Operators are + - * / % // **"
   ]
  },
  {
   "cell_type": "code",
   "execution_count": 25,
   "id": "34d081dc",
   "metadata": {},
   "outputs": [
    {
     "data": {
      "text/plain": [
       "5"
      ]
     },
     "execution_count": 25,
     "metadata": {},
     "output_type": "execute_result"
    }
   ],
   "source": [
    "x = 3\n",
    "x+2"
   ]
  },
  {
   "cell_type": "code",
   "execution_count": 26,
   "id": "ea829d7b",
   "metadata": {},
   "outputs": [
    {
     "data": {
      "text/plain": [
       "-7"
      ]
     },
     "execution_count": 26,
     "metadata": {},
     "output_type": "execute_result"
    }
   ],
   "source": [
    "x - 10"
   ]
  },
  {
   "cell_type": "code",
   "execution_count": 27,
   "id": "d2592d72",
   "metadata": {},
   "outputs": [
    {
     "data": {
      "text/plain": [
       "12"
      ]
     },
     "execution_count": 27,
     "metadata": {},
     "output_type": "execute_result"
    }
   ],
   "source": [
    "x * 4"
   ]
  },
  {
   "cell_type": "code",
   "execution_count": 28,
   "id": "ba669d67",
   "metadata": {},
   "outputs": [],
   "source": [
    "x = 13"
   ]
  },
  {
   "cell_type": "code",
   "execution_count": 29,
   "id": "6733cb93",
   "metadata": {},
   "outputs": [
    {
     "data": {
      "text/plain": [
       "3.25"
      ]
     },
     "execution_count": 29,
     "metadata": {},
     "output_type": "execute_result"
    }
   ],
   "source": [
    "x/4"
   ]
  },
  {
   "cell_type": "code",
   "execution_count": 30,
   "id": "4eaa350e",
   "metadata": {},
   "outputs": [
    {
     "data": {
      "text/plain": [
       "3"
      ]
     },
     "execution_count": 30,
     "metadata": {},
     "output_type": "execute_result"
    }
   ],
   "source": [
    "x // 4  # quotient"
   ]
  },
  {
   "cell_type": "code",
   "execution_count": 31,
   "id": "6425d845",
   "metadata": {},
   "outputs": [
    {
     "data": {
      "text/plain": [
       "8"
      ]
     },
     "execution_count": 31,
     "metadata": {},
     "output_type": "execute_result"
    }
   ],
   "source": [
    "2 ** 3 # a**m --> multiplying a (m times) -> a * a * a ... mtimes"
   ]
  },
  {
   "cell_type": "code",
   "execution_count": 33,
   "id": "14ef9f6e",
   "metadata": {},
   "outputs": [
    {
     "data": {
      "text/plain": [
       "1"
      ]
     },
     "execution_count": 33,
     "metadata": {},
     "output_type": "execute_result"
    }
   ],
   "source": [
    "x%2  # remainder"
   ]
  },
  {
   "cell_type": "code",
   "execution_count": null,
   "id": "e09f3ff2",
   "metadata": {},
   "outputs": [],
   "source": []
  },
  {
   "cell_type": "code",
   "execution_count": 32,
   "id": "527b31ea",
   "metadata": {},
   "outputs": [],
   "source": [
    "f = 12.3"
   ]
  },
  {
   "cell_type": "code",
   "execution_count": 34,
   "id": "5dd08feb",
   "metadata": {},
   "outputs": [
    {
     "data": {
      "text/plain": [
       "(14.3, 10.3, 24.6)"
      ]
     },
     "execution_count": 34,
     "metadata": {},
     "output_type": "execute_result"
    }
   ],
   "source": [
    "f + 2, f - 2, f * 2"
   ]
  },
  {
   "cell_type": "code",
   "execution_count": 35,
   "id": "11d9e06b",
   "metadata": {},
   "outputs": [
    {
     "data": {
      "text/plain": [
       "0.3000000000000007"
      ]
     },
     "execution_count": 35,
     "metadata": {},
     "output_type": "execute_result"
    }
   ],
   "source": [
    "f % 2   # before decimal is taken and mod is applied on that"
   ]
  },
  {
   "cell_type": "code",
   "execution_count": 36,
   "id": "0c8dd24f",
   "metadata": {},
   "outputs": [
    {
     "data": {
      "text/plain": [
       "6.15"
      ]
     },
     "execution_count": 36,
     "metadata": {},
     "output_type": "execute_result"
    }
   ],
   "source": [
    "f / 2"
   ]
  },
  {
   "cell_type": "code",
   "execution_count": 37,
   "id": "b4cfe68f",
   "metadata": {},
   "outputs": [
    {
     "data": {
      "text/plain": [
       "6.0"
      ]
     },
     "execution_count": 37,
     "metadata": {},
     "output_type": "execute_result"
    }
   ],
   "source": [
    "f // 2  # quotient"
   ]
  },
  {
   "cell_type": "code",
   "execution_count": 38,
   "id": "09c8c029",
   "metadata": {},
   "outputs": [
    {
     "data": {
      "text/plain": [
       "151.29000000000002"
      ]
     },
     "execution_count": 38,
     "metadata": {},
     "output_type": "execute_result"
    }
   ],
   "source": [
    "f ** 2"
   ]
  },
  {
   "cell_type": "code",
   "execution_count": null,
   "id": "de65d4a5",
   "metadata": {},
   "outputs": [],
   "source": []
  },
  {
   "cell_type": "code",
   "execution_count": 39,
   "id": "7a66ad14",
   "metadata": {},
   "outputs": [],
   "source": [
    "x = True # 1 is default\n",
    "x = False # 0 is default"
   ]
  },
  {
   "cell_type": "code",
   "execution_count": 40,
   "id": "7457528a",
   "metadata": {},
   "outputs": [
    {
     "data": {
      "text/plain": [
       "2"
      ]
     },
     "execution_count": 40,
     "metadata": {},
     "output_type": "execute_result"
    }
   ],
   "source": [
    "x + 1"
   ]
  },
  {
   "cell_type": "code",
   "execution_count": 42,
   "id": "5544aca3",
   "metadata": {},
   "outputs": [
    {
     "data": {
      "text/plain": [
       "True"
      ]
     },
     "execution_count": 42,
     "metadata": {},
     "output_type": "execute_result"
    }
   ],
   "source": [
    "bool(15) == True"
   ]
  },
  {
   "cell_type": "code",
   "execution_count": null,
   "id": "466352be",
   "metadata": {},
   "outputs": [],
   "source": []
  },
  {
   "cell_type": "code",
   "execution_count": 43,
   "id": "5b01fd56",
   "metadata": {},
   "outputs": [
    {
     "data": {
      "text/plain": [
       "False"
      ]
     },
     "execution_count": 43,
     "metadata": {},
     "output_type": "execute_result"
    }
   ],
   "source": [
    "x = 2 # assignment\n",
    "x == 3 # comparison"
   ]
  },
  {
   "cell_type": "code",
   "execution_count": null,
   "id": "bbf11f5d",
   "metadata": {},
   "outputs": [],
   "source": []
  },
  {
   "cell_type": "code",
   "execution_count": null,
   "id": "1612df23",
   "metadata": {},
   "outputs": [],
   "source": [
    "Extending arithmetic operations\n",
    "+= -= *= /= %= //=  **= (compound operations)"
   ]
  },
  {
   "cell_type": "code",
   "execution_count": 44,
   "id": "d8f73e16",
   "metadata": {},
   "outputs": [],
   "source": [
    "x = 25"
   ]
  },
  {
   "cell_type": "code",
   "execution_count": 45,
   "id": "8dd53f56",
   "metadata": {},
   "outputs": [
    {
     "data": {
      "text/plain": [
       "28"
      ]
     },
     "execution_count": 45,
     "metadata": {},
     "output_type": "execute_result"
    }
   ],
   "source": [
    "x += 3   # x + 3 then assign it to x -> x = x + 3\n",
    "x"
   ]
  },
  {
   "cell_type": "code",
   "execution_count": 46,
   "id": "a212383d",
   "metadata": {},
   "outputs": [
    {
     "data": {
      "text/plain": [
       "112"
      ]
     },
     "execution_count": 46,
     "metadata": {},
     "output_type": "execute_result"
    }
   ],
   "source": [
    "x *= 4 \n",
    "x"
   ]
  },
  {
   "cell_type": "code",
   "execution_count": 47,
   "id": "381a86a5",
   "metadata": {},
   "outputs": [],
   "source": [
    "x /= 3"
   ]
  },
  {
   "cell_type": "code",
   "execution_count": 48,
   "id": "e299c629",
   "metadata": {},
   "outputs": [
    {
     "data": {
      "text/plain": [
       "37.333333333333336"
      ]
     },
     "execution_count": 48,
     "metadata": {},
     "output_type": "execute_result"
    }
   ],
   "source": [
    "x"
   ]
  },
  {
   "cell_type": "code",
   "execution_count": 49,
   "id": "392655e0",
   "metadata": {},
   "outputs": [],
   "source": [
    "x = 112"
   ]
  },
  {
   "cell_type": "code",
   "execution_count": 50,
   "id": "86a053a7",
   "metadata": {},
   "outputs": [],
   "source": [
    "x //= 3   # when you do a//b -> quotient and when you do a/b -> fractional quotient"
   ]
  },
  {
   "cell_type": "code",
   "execution_count": 56,
   "id": "626194f9",
   "metadata": {},
   "outputs": [
    {
     "data": {
      "text/plain": [
       "(2.4, 2)"
      ]
     },
     "execution_count": 56,
     "metadata": {},
     "output_type": "execute_result"
    }
   ],
   "source": [
    "# 12/5, 12//5"
   ]
  },
  {
   "cell_type": "code",
   "execution_count": 51,
   "id": "7a87604d",
   "metadata": {},
   "outputs": [
    {
     "data": {
      "text/plain": [
       "37"
      ]
     },
     "execution_count": 51,
     "metadata": {},
     "output_type": "execute_result"
    }
   ],
   "source": [
    "x"
   ]
  },
  {
   "cell_type": "code",
   "execution_count": 52,
   "id": "b400671d",
   "metadata": {},
   "outputs": [],
   "source": [
    "x %= 5"
   ]
  },
  {
   "cell_type": "code",
   "execution_count": 53,
   "id": "51043df7",
   "metadata": {},
   "outputs": [
    {
     "data": {
      "text/plain": [
       "2"
      ]
     },
     "execution_count": 53,
     "metadata": {},
     "output_type": "execute_result"
    }
   ],
   "source": [
    "x"
   ]
  },
  {
   "cell_type": "code",
   "execution_count": 54,
   "id": "27d4b0e6",
   "metadata": {},
   "outputs": [],
   "source": [
    "x **= 3"
   ]
  },
  {
   "cell_type": "code",
   "execution_count": 55,
   "id": "936f1aa6",
   "metadata": {},
   "outputs": [
    {
     "data": {
      "text/plain": [
       "8"
      ]
     },
     "execution_count": 55,
     "metadata": {},
     "output_type": "execute_result"
    }
   ],
   "source": [
    "x"
   ]
  },
  {
   "cell_type": "code",
   "execution_count": null,
   "id": "b7ede7dd",
   "metadata": {},
   "outputs": [],
   "source": []
  },
  {
   "cell_type": "code",
   "execution_count": null,
   "id": "eb0acc5e",
   "metadata": {},
   "outputs": [],
   "source": []
  },
  {
   "cell_type": "markdown",
   "id": "27032001",
   "metadata": {},
   "source": [
    "Logical Operators:-"
   ]
  },
  {
   "cell_type": "code",
   "execution_count": null,
   "id": "390241fd",
   "metadata": {},
   "outputs": [],
   "source": [
    "and && \n",
    "or || \n",
    "not \n",
    "\n",
    "compound conditions\n",
    "inside if else, for and while loops"
   ]
  },
  {
   "cell_type": "code",
   "execution_count": null,
   "id": "0cf3e339",
   "metadata": {},
   "outputs": [],
   "source": [
    "age = 24\n",
    "gender = \"male\"\n",
    "\n",
    "task :- if the person is eligible to vote and gender is male -> booth 1\n",
    "        if the person is eligible to vote and gender is female -> booth 2\n",
    "        if the person is not elgibile to vote -> return\n",
    "    \n",
    "age >= 18 && gender == \"male\" \n",
    "age >= 18 and gender == \"female\"\n",
    "age < 18  # not age >= 18"
   ]
  },
  {
   "cell_type": "code",
   "execution_count": null,
   "id": "9633356f",
   "metadata": {},
   "outputs": [],
   "source": []
  },
  {
   "cell_type": "markdown",
   "id": "f878916f",
   "metadata": {},
   "source": [
    "Relational Operators:-"
   ]
  },
  {
   "cell_type": "code",
   "execution_count": null,
   "id": "d23cb23e",
   "metadata": {},
   "outputs": [],
   "source": [
    "> < >= <= == !="
   ]
  },
  {
   "cell_type": "code",
   "execution_count": 57,
   "id": "b6076b41",
   "metadata": {},
   "outputs": [
    {
     "data": {
      "text/plain": [
       "True"
      ]
     },
     "execution_count": 57,
     "metadata": {},
     "output_type": "execute_result"
    }
   ],
   "source": [
    "x = 34\n",
    "x > 24"
   ]
  },
  {
   "cell_type": "code",
   "execution_count": null,
   "id": "33a6cce0",
   "metadata": {},
   "outputs": [],
   "source": [
    "age = 24\n",
    "gender = \"male\"\n",
    "\n",
    "age >= 18 && gender == \"male\"\n",
    "24 >= 18 && \"male\" == \"male\"\n",
    "True && True\n",
    "True  -> Condition satisfied\n",
    "\n",
    "Truth Tables for AND, OR, NOT:-\n",
    "AND (multiplication):-\n",
    "True && True --> True\n",
    "True && False --> False\n",
    "False && True --> False\n",
    "False && False --> False\n",
    "\n",
    "OR (addition):-\n",
    "True || True --> True\n",
    "True || False --> True\n",
    "False || True --> True\n",
    "False || False --> False\n",
    "\n",
    "Not (negation):-\n",
    "not True --> False\n",
    "not False --> True\n",
    "\n",
    "# ECE fundamentals\n",
    "True = 1\n",
    "False = 0\n",
    "\n",
    "Every 1 bit -> is actually operated by \"flip-flop\"\n",
    "addition to power"
   ]
  },
  {
   "cell_type": "code",
   "execution_count": null,
   "id": "066776d5",
   "metadata": {},
   "outputs": [],
   "source": []
  },
  {
   "cell_type": "markdown",
   "id": "b44dffa7",
   "metadata": {},
   "source": [
    "Identity, Membership Operators"
   ]
  },
  {
   "cell_type": "code",
   "execution_count": 60,
   "id": "68424fe9",
   "metadata": {},
   "outputs": [],
   "source": [
    "l = [1, 2, 3]\n",
    "l2 = l\n",
    "t = tuple(l)"
   ]
  },
  {
   "cell_type": "code",
   "execution_count": null,
   "id": "49e38ee7",
   "metadata": {},
   "outputs": [],
   "source": [
    "Identity operators -> is, is not\n",
    "Applied on sequence types and object (user defined objects)"
   ]
  },
  {
   "cell_type": "code",
   "execution_count": 59,
   "id": "cd0a5d31",
   "metadata": {},
   "outputs": [
    {
     "data": {
      "text/plain": [
       "True"
      ]
     },
     "execution_count": 59,
     "metadata": {},
     "output_type": "execute_result"
    }
   ],
   "source": [
    "l is l2"
   ]
  },
  {
   "cell_type": "code",
   "execution_count": 61,
   "id": "1697d1bc",
   "metadata": {},
   "outputs": [
    {
     "data": {
      "text/plain": [
       "False"
      ]
     },
     "execution_count": 61,
     "metadata": {},
     "output_type": "execute_result"
    }
   ],
   "source": [
    "t is l"
   ]
  },
  {
   "cell_type": "code",
   "execution_count": 62,
   "id": "2763572f",
   "metadata": {},
   "outputs": [
    {
     "data": {
      "text/plain": [
       "False"
      ]
     },
     "execution_count": 62,
     "metadata": {},
     "output_type": "execute_result"
    }
   ],
   "source": [
    "l is not l2"
   ]
  },
  {
   "cell_type": "code",
   "execution_count": 63,
   "id": "1c01f063",
   "metadata": {},
   "outputs": [
    {
     "data": {
      "text/plain": [
       "True"
      ]
     },
     "execution_count": 63,
     "metadata": {},
     "output_type": "execute_result"
    }
   ],
   "source": [
    "l is not t"
   ]
  },
  {
   "cell_type": "code",
   "execution_count": null,
   "id": "9f67da79",
   "metadata": {},
   "outputs": [],
   "source": []
  },
  {
   "cell_type": "code",
   "execution_count": 64,
   "id": "e43dc82d",
   "metadata": {},
   "outputs": [],
   "source": [
    "x = 1\n",
    "y = 1\n",
    "\n",
    "# x and y point to the same memory location that holds the value 1\n",
    "# x and y are references to the memory location that holds the value 1"
   ]
  },
  {
   "cell_type": "code",
   "execution_count": 65,
   "id": "d7a183ba",
   "metadata": {},
   "outputs": [
    {
     "data": {
      "text/plain": [
       "True"
      ]
     },
     "execution_count": 65,
     "metadata": {},
     "output_type": "execute_result"
    }
   ],
   "source": [
    "x is y"
   ]
  },
  {
   "cell_type": "code",
   "execution_count": 66,
   "id": "2fcafe26",
   "metadata": {},
   "outputs": [
    {
     "data": {
      "text/plain": [
       "(140373567609136, 140373567609136)"
      ]
     },
     "execution_count": 66,
     "metadata": {},
     "output_type": "execute_result"
    }
   ],
   "source": [
    "id(x), id(y)"
   ]
  },
  {
   "cell_type": "code",
   "execution_count": 67,
   "id": "05e98140",
   "metadata": {},
   "outputs": [
    {
     "data": {
      "text/plain": [
       "False"
      ]
     },
     "execution_count": 67,
     "metadata": {},
     "output_type": "execute_result"
    }
   ],
   "source": [
    "x = 1234321\n",
    "y = 1234321 \n",
    "\n",
    "# x and y hold the same random value which is greater than 1M, x is y?\n",
    "# x and y hold  123, x is y? -> stupid qn -> depends \n",
    "\n",
    "\n",
    "x is y"
   ]
  },
  {
   "cell_type": "code",
   "execution_count": 68,
   "id": "3bb08b24",
   "metadata": {},
   "outputs": [
    {
     "data": {
      "text/plain": [
       "(140373703424976, 140373703425232)"
      ]
     },
     "execution_count": 68,
     "metadata": {},
     "output_type": "execute_result"
    }
   ],
   "source": [
    "id(x), id(y)"
   ]
  },
  {
   "cell_type": "code",
   "execution_count": null,
   "id": "0e5b19df",
   "metadata": {},
   "outputs": [],
   "source": []
  },
  {
   "cell_type": "code",
   "execution_count": 69,
   "id": "421634bd",
   "metadata": {},
   "outputs": [
    {
     "data": {
      "text/plain": [
       "True"
      ]
     },
     "execution_count": 69,
     "metadata": {},
     "output_type": "execute_result"
    }
   ],
   "source": [
    "# Difference between is and ==\n",
    "l = [1, 2, 3]\n",
    "l2 = l\n",
    "\n",
    "l is l2 # memory locations are compared"
   ]
  },
  {
   "cell_type": "code",
   "execution_count": 70,
   "id": "741b886e",
   "metadata": {},
   "outputs": [
    {
     "data": {
      "text/plain": [
       "True"
      ]
     },
     "execution_count": 70,
     "metadata": {},
     "output_type": "execute_result"
    }
   ],
   "source": [
    "l == [1, 2, 3] # values are compared"
   ]
  },
  {
   "cell_type": "code",
   "execution_count": 73,
   "id": "c6895357",
   "metadata": {},
   "outputs": [
    {
     "data": {
      "text/plain": [
       "[1, 2, 3]"
      ]
     },
     "execution_count": 73,
     "metadata": {},
     "output_type": "execute_result"
    }
   ],
   "source": [
    "l3 = [1] + [2] + [3]\n",
    "l3"
   ]
  },
  {
   "cell_type": "code",
   "execution_count": 74,
   "id": "bbf8ec85",
   "metadata": {},
   "outputs": [
    {
     "data": {
      "text/plain": [
       "False"
      ]
     },
     "execution_count": 74,
     "metadata": {},
     "output_type": "execute_result"
    }
   ],
   "source": [
    "l is l3"
   ]
  },
  {
   "cell_type": "code",
   "execution_count": 75,
   "id": "c3f64aff",
   "metadata": {},
   "outputs": [
    {
     "data": {
      "text/plain": [
       "True"
      ]
     },
     "execution_count": 75,
     "metadata": {},
     "output_type": "execute_result"
    }
   ],
   "source": [
    "l == l3"
   ]
  },
  {
   "cell_type": "code",
   "execution_count": null,
   "id": "2dad5138",
   "metadata": {},
   "outputs": [],
   "source": [
    "Warning V/s Error\n",
    "* Warning will pop up, deliver a msg and stay silent\n",
    "* Never halt your program"
   ]
  },
  {
   "cell_type": "code",
   "execution_count": 77,
   "id": "5d4f1bcd",
   "metadata": {},
   "outputs": [
    {
     "name": "stdout",
     "output_type": "stream",
     "text": [
      "True\n",
      "23\n"
     ]
    },
    {
     "name": "stderr",
     "output_type": "stream",
     "text": [
      "<>:1: SyntaxWarning: \"is\" with a literal. Did you mean \"==\"?\n",
      "<>:1: SyntaxWarning: \"is\" with a literal. Did you mean \"==\"?\n",
      "/var/folders/wx/bxxcv1hd2fn6pgpvlymttc680000gn/T/ipykernel_83261/2634628893.py:1: SyntaxWarning: \"is\" with a literal. Did you mean \"==\"?\n",
      "  print(\"i\" is \"i\")  # --> Warning\n"
     ]
    }
   ],
   "source": [
    "print(\"i\" is \"i\")  # --> Warning\n",
    "x = 23\n",
    "print(x)\n",
    "# \"i\" == \"i\" # "
   ]
  },
  {
   "cell_type": "code",
   "execution_count": null,
   "id": "94872a12",
   "metadata": {},
   "outputs": [],
   "source": []
  },
  {
   "cell_type": "code",
   "execution_count": null,
   "id": "3b559e2c",
   "metadata": {},
   "outputs": [],
   "source": [
    "Membership operators are in and not in\n",
    "* Sequenence types -> test membership"
   ]
  },
  {
   "cell_type": "code",
   "execution_count": 78,
   "id": "00670f0c",
   "metadata": {},
   "outputs": [
    {
     "data": {
      "text/plain": [
       "[1, 2, 3]"
      ]
     },
     "execution_count": 78,
     "metadata": {},
     "output_type": "execute_result"
    }
   ],
   "source": [
    "l"
   ]
  },
  {
   "cell_type": "code",
   "execution_count": 79,
   "id": "7af224e1",
   "metadata": {},
   "outputs": [
    {
     "data": {
      "text/plain": [
       "True"
      ]
     },
     "execution_count": 79,
     "metadata": {},
     "output_type": "execute_result"
    }
   ],
   "source": [
    "1 in l"
   ]
  },
  {
   "cell_type": "code",
   "execution_count": 80,
   "id": "a592254d",
   "metadata": {},
   "outputs": [
    {
     "data": {
      "text/plain": [
       "True"
      ]
     },
     "execution_count": 80,
     "metadata": {},
     "output_type": "execute_result"
    }
   ],
   "source": [
    "4 not in l"
   ]
  },
  {
   "cell_type": "code",
   "execution_count": 81,
   "id": "8811612a",
   "metadata": {},
   "outputs": [
    {
     "data": {
      "text/plain": [
       "False"
      ]
     },
     "execution_count": 81,
     "metadata": {},
     "output_type": "execute_result"
    }
   ],
   "source": [
    "3 not in l"
   ]
  },
  {
   "cell_type": "code",
   "execution_count": 82,
   "id": "404c9a61",
   "metadata": {},
   "outputs": [
    {
     "data": {
      "text/plain": [
       "False"
      ]
     },
     "execution_count": 82,
     "metadata": {},
     "output_type": "execute_result"
    }
   ],
   "source": [
    "msg = \"Virat Kohli is the Captain of the Indian Cricket Team. His ODI best is 183\"\n",
    "\"virat\" in msg"
   ]
  },
  {
   "cell_type": "code",
   "execution_count": 83,
   "id": "2d25e1cc",
   "metadata": {},
   "outputs": [
    {
     "data": {
      "text/plain": [
       "True"
      ]
     },
     "execution_count": 83,
     "metadata": {},
     "output_type": "execute_result"
    }
   ],
   "source": [
    "\"Virat\" in msg"
   ]
  },
  {
   "cell_type": "code",
   "execution_count": null,
   "id": "6a617946",
   "metadata": {},
   "outputs": [],
   "source": []
  },
  {
   "cell_type": "markdown",
   "id": "c19fb13f",
   "metadata": {},
   "source": [
    "Bitwise Operators:-"
   ]
  },
  {
   "cell_type": "code",
   "execution_count": null,
   "id": "08bc04d2",
   "metadata": {},
   "outputs": [],
   "source": [
    "AND &\n",
    "OR |\n",
    "not ~\n",
    "<<\n",
    ">>"
   ]
  },
  {
   "cell_type": "code",
   "execution_count": null,
   "id": "d0022bf1",
   "metadata": {},
   "outputs": [],
   "source": [
    "bitwise operators\n",
    "   only work with binary values\n",
    "3 & 5 --> binary repr of 3 & binary repr of 5"
   ]
  },
  {
   "cell_type": "code",
   "execution_count": null,
   "id": "9a84b75b",
   "metadata": {},
   "outputs": [],
   "source": [
    "      16 8 4 2 1  \n",
    "13 ->  0 1 1 0 1\n",
    "21 ->  1 0 1 0 1"
   ]
  },
  {
   "cell_type": "markdown",
   "id": "1a95433f",
   "metadata": {},
   "source": [
    "2's complement:-\n",
    "* Used to represent negative numbers in binary form\n",
    "-3 ? -011 => NONO\n",
    "\n",
    "Steps:-\n",
    "1. first forget the minus sign\n",
    "2. Convert the value to its binary form\n",
    "3. Flip each bit (0->1) and (1->0)\n",
    "4. Add a 1 to the result (in its RMB -> least significant bit i.e rightmost)\n",
    "\n",
    "x = -17\n",
    "17 --> 10001 # step 2\n",
    "       01110 # step 3\n",
    "       01111 # step 4\n",
    "\n",
    "x = -22\n",
    "22 --> 10110\n",
    "       01001\n",
    "       01010\n",
    "       \n",
    "       \n",
    "01001\n",
    "    1\n",
    "01010  # result"
   ]
  },
  {
   "cell_type": "code",
   "execution_count": null,
   "id": "e886f20e",
   "metadata": {},
   "outputs": [],
   "source": [
    "4 bytes -> 32 bits\n",
    "           1[0...]01010\n",
    "           1 = negative    0 = positive\n",
    "        \n",
    "-22 -> 10000000 00000000 00000000 00001010\n",
    "10 --> 00000000 00000000 00000000 00001010"
   ]
  },
  {
   "cell_type": "code",
   "execution_count": null,
   "id": "d2f4a67e",
   "metadata": {},
   "outputs": [],
   "source": [
    "Truth table for addition\n",
    "1 + 0 = 1\n",
    "0 + 1 = 1\n",
    "0 + 0 = 0\n",
    "1 + 1 = 0 (carry with a 1 to its left)"
   ]
  },
  {
   "cell_type": "code",
   "execution_count": null,
   "id": "862b9762",
   "metadata": {},
   "outputs": [],
   "source": []
  },
  {
   "cell_type": "code",
   "execution_count": null,
   "id": "0f3a2348",
   "metadata": {},
   "outputs": [],
   "source": [
    "&, |, ~, <<, >> they operate only on bits\n",
    "&, |, <<, >>   requires 2 operands\n",
    "~  require only 1 operand"
   ]
  },
  {
   "cell_type": "code",
   "execution_count": 84,
   "id": "299b978d",
   "metadata": {},
   "outputs": [
    {
     "data": {
      "text/plain": [
       "1"
      ]
     },
     "execution_count": 84,
     "metadata": {},
     "output_type": "execute_result"
    }
   ],
   "source": [
    "3 & 5 # 011 & 101\n",
    "# 011\n",
    "# 101\n",
    "# ---\n",
    "# 001 # 1 "
   ]
  },
  {
   "cell_type": "code",
   "execution_count": 87,
   "id": "6f94d498",
   "metadata": {},
   "outputs": [],
   "source": [
    "x = 13 & 25\n",
    "# 01101\n",
    "# 11001\n",
    "# -----\n",
    "# 01001 --> 9"
   ]
  },
  {
   "cell_type": "code",
   "execution_count": 88,
   "id": "7492c78e",
   "metadata": {},
   "outputs": [
    {
     "data": {
      "text/plain": [
       "9"
      ]
     },
     "execution_count": 88,
     "metadata": {},
     "output_type": "execute_result"
    }
   ],
   "source": [
    "x"
   ]
  },
  {
   "cell_type": "code",
   "execution_count": 86,
   "id": "25ae06bd",
   "metadata": {},
   "outputs": [
    {
     "data": {
      "text/plain": [
       "12"
      ]
     },
     "execution_count": 86,
     "metadata": {},
     "output_type": "execute_result"
    }
   ],
   "source": [
    "-17 & 12"
   ]
  },
  {
   "cell_type": "code",
   "execution_count": null,
   "id": "efbc9f9e",
   "metadata": {},
   "outputs": [],
   "source": []
  },
  {
   "cell_type": "code",
   "execution_count": null,
   "id": "d3025775",
   "metadata": {},
   "outputs": [],
   "source": []
  },
  {
   "cell_type": "code",
   "execution_count": 89,
   "id": "99ab094f",
   "metadata": {},
   "outputs": [
    {
     "data": {
      "text/plain": [
       "7"
      ]
     },
     "execution_count": 89,
     "metadata": {},
     "output_type": "execute_result"
    }
   ],
   "source": [
    "4 | 7"
   ]
  },
  {
   "cell_type": "code",
   "execution_count": 90,
   "id": "009a0d1e",
   "metadata": {},
   "outputs": [
    {
     "data": {
      "text/plain": [
       "-1"
      ]
     },
     "execution_count": 90,
     "metadata": {},
     "output_type": "execute_result"
    }
   ],
   "source": [
    "-12 | 123"
   ]
  },
  {
   "cell_type": "code",
   "execution_count": 92,
   "id": "5caa37c2",
   "metadata": {},
   "outputs": [
    {
     "data": {
      "text/plain": [
       "-5"
      ]
     },
     "execution_count": 92,
     "metadata": {},
     "output_type": "execute_result"
    }
   ],
   "source": [
    "~4\n",
    "#100\n",
    "#011 -> 100 -> 101"
   ]
  },
  {
   "cell_type": "code",
   "execution_count": 93,
   "id": "91214e5a",
   "metadata": {},
   "outputs": [
    {
     "data": {
      "text/plain": [
       "-124"
      ]
     },
     "execution_count": 93,
     "metadata": {},
     "output_type": "execute_result"
    }
   ],
   "source": [
    "~123"
   ]
  },
  {
   "cell_type": "code",
   "execution_count": 94,
   "id": "0800b742",
   "metadata": {},
   "outputs": [
    {
     "data": {
      "text/plain": [
       "-12346"
      ]
     },
     "execution_count": 94,
     "metadata": {},
     "output_type": "execute_result"
    }
   ],
   "source": [
    "~12345 # f(x) = -1*(x+1)"
   ]
  },
  {
   "cell_type": "code",
   "execution_count": null,
   "id": "6ec17868",
   "metadata": {},
   "outputs": [],
   "source": []
  },
  {
   "cell_type": "code",
   "execution_count": 96,
   "id": "76dfdc67",
   "metadata": {},
   "outputs": [
    {
     "data": {
      "text/plain": [
       "20"
      ]
     },
     "execution_count": 96,
     "metadata": {},
     "output_type": "execute_result"
    }
   ],
   "source": [
    "x = 10\n",
    "# 00000000 00000000 00000000 00001010\n",
    "x << 1 # left shift \n",
    "# 01010\n",
    "# 10100 # 16+ 4 -> 20\n",
    "# mathematically -> value * 2"
   ]
  },
  {
   "cell_type": "code",
   "execution_count": 97,
   "id": "43582530",
   "metadata": {},
   "outputs": [
    {
     "data": {
      "text/plain": [
       "50"
      ]
     },
     "execution_count": 97,
     "metadata": {},
     "output_type": "execute_result"
    }
   ],
   "source": [
    "x = 25\n",
    "x << 1"
   ]
  },
  {
   "cell_type": "code",
   "execution_count": 98,
   "id": "cdf74264",
   "metadata": {},
   "outputs": [
    {
     "data": {
      "text/plain": [
       "100"
      ]
     },
     "execution_count": 98,
     "metadata": {},
     "output_type": "execute_result"
    }
   ],
   "source": [
    "x << 2"
   ]
  },
  {
   "cell_type": "code",
   "execution_count": 101,
   "id": "3b617f17",
   "metadata": {},
   "outputs": [
    {
     "data": {
      "text/plain": [
       "True"
      ]
     },
     "execution_count": 101,
     "metadata": {},
     "output_type": "execute_result"
    }
   ],
   "source": [
    "y = x << 1\n",
    "z = x * 2\n",
    "z == y"
   ]
  },
  {
   "cell_type": "code",
   "execution_count": 102,
   "id": "3ac315bc",
   "metadata": {},
   "outputs": [
    {
     "data": {
      "text/plain": [
       "12"
      ]
     },
     "execution_count": 102,
     "metadata": {},
     "output_type": "execute_result"
    }
   ],
   "source": [
    "x = 25\n",
    "x >> 1 # rightshift -> value/2"
   ]
  },
  {
   "cell_type": "code",
   "execution_count": 103,
   "id": "7e7d4ef0",
   "metadata": {},
   "outputs": [
    {
     "data": {
      "text/plain": [
       "17"
      ]
     },
     "execution_count": 103,
     "metadata": {},
     "output_type": "execute_result"
    }
   ],
   "source": [
    "x = 34\n",
    "x >> 1"
   ]
  },
  {
   "cell_type": "code",
   "execution_count": 104,
   "id": "55634639",
   "metadata": {},
   "outputs": [
    {
     "data": {
      "text/plain": [
       "8"
      ]
     },
     "execution_count": 104,
     "metadata": {},
     "output_type": "execute_result"
    }
   ],
   "source": [
    "x >> 2"
   ]
  },
  {
   "cell_type": "code",
   "execution_count": 105,
   "id": "0e4c2883",
   "metadata": {},
   "outputs": [],
   "source": [
    "y = x >> 1"
   ]
  },
  {
   "cell_type": "code",
   "execution_count": 106,
   "id": "282797ae",
   "metadata": {},
   "outputs": [
    {
     "data": {
      "text/plain": [
       "(34, 17)"
      ]
     },
     "execution_count": 106,
     "metadata": {},
     "output_type": "execute_result"
    }
   ],
   "source": [
    "x, y"
   ]
  },
  {
   "cell_type": "code",
   "execution_count": null,
   "id": "7b5697c6",
   "metadata": {},
   "outputs": [],
   "source": []
  },
  {
   "cell_type": "code",
   "execution_count": null,
   "id": "0a248058",
   "metadata": {},
   "outputs": [],
   "source": []
  },
  {
   "cell_type": "code",
   "execution_count": null,
   "id": "14848f63",
   "metadata": {},
   "outputs": [],
   "source": [
    "Round robin scheduling algorithm:-\n",
    "\n",
    "Safari 12 MB  -> 9 -> 6 -> 3 -> completed\n",
    "Terminal 20 MB -> 17 -> 14 -> 11 -> 8 -> 5 ..\n",
    "Pycharm 4 MB -> 1 -> completed\n",
    "\n",
    "Round robin (stepsize= 3 MB)\n"
   ]
  },
  {
   "cell_type": "code",
   "execution_count": 8,
   "id": "f50a8f9c",
   "metadata": {},
   "outputs": [
    {
     "name": "stdout",
     "output_type": "stream",
     "text": [
      "pass\n"
     ]
    }
   ],
   "source": [
    "x=3\n",
    "y=4\n",
    "z=-2\n",
    "\n",
    "if x > 2 and y >3 or z > -3:\n",
    "    print(\"pass\")\n",
    "else:\n",
    "    print(\"fail\")"
   ]
  },
  {
   "cell_type": "code",
   "execution_count": 18,
   "id": "fbb40199",
   "metadata": {},
   "outputs": [
    {
     "name": "stdout",
     "output_type": "stream",
     "text": [
      "invalid data\n"
     ]
    }
   ],
   "source": [
    "t = 37\n",
    "d = \"p\"\n",
    "if (d == \"c\"):\n",
    "    res = (9*t)/5+32\n",
    "    unit = \"f\"\n",
    "    rus = t+273.15\n",
    "    un = \"k\"\n",
    "    print(res,unit)\n",
    "    print(rus,un)\n",
    "elif (d == \"f\"):\n",
    "    res = (5*(t-32))/9\n",
    "    unit = \"c\"\n",
    "    rus = ((t-32)*5/9)+273.15\n",
    "    un = \"k\"\n",
    "    print(res,unit)\n",
    "    print(rus,un)\n",
    "elif (d == \"k\"):\n",
    "    res = (t-273.15)\n",
    "    unit = \"c\"\n",
    "    rus = ((t-273)*9/5)+32\n",
    "    un =\"f\"\n",
    "    print(res,unit)\n",
    "    print(rus,un)\n",
    "else:\n",
    "    print(\"invalid data\")\n",
    "    "
   ]
  },
  {
   "cell_type": "code",
   "execution_count": 34,
   "id": "0518a85b",
   "metadata": {},
   "outputs": [
    {
     "name": "stdout",
     "output_type": "stream",
     "text": [
      "VIRAT\n",
      "KOHLI\n",
      "MS\n",
      "DONI\n"
     ]
    }
   ],
   "source": [
    "data = [\"virat\",\"kohli\",\"ms\",\"doni\"]\n",
    "for name in data:\n",
    "    print(name.upper())"
   ]
  },
  {
   "cell_type": "code",
   "execution_count": 38,
   "id": "61c7f433",
   "metadata": {},
   "outputs": [
    {
     "name": "stdout",
     "output_type": "stream",
     "text": [
      "doni\n",
      "ms\n",
      "kohli\n",
      "virat\n"
     ]
    }
   ],
   "source": [
    "length = len(data)\n",
    "for i in range(length-1,-1,-1):\n",
    "    print (data[i])"
   ]
  },
  {
   "cell_type": "code",
   "execution_count": 55,
   "id": "973fead3",
   "metadata": {},
   "outputs": [
    {
     "name": "stdout",
     "output_type": "stream",
     "text": [
      "KOHLI\n",
      "SACHIN TENDULKAR\n"
     ]
    }
   ],
   "source": [
    "data = [\"virat\",\"kohli\",\"msgfhg\",\"donigf\", \"sachin tendulkar\"]\n",
    "vovels = [\"a\", \"e\",\"i\",\"o\",\"u\"]\n",
    "for name in data:\n",
    "    x = name[1]\n",
    "    y = name[4]\n",
    "    if x.lower() in vovels and y.lower() in vovels:\n",
    "        print(name.upper())\n"
   ]
  },
  {
   "cell_type": "code",
   "execution_count": 62,
   "id": "a7908d79",
   "metadata": {},
   "outputs": [
    {
     "name": "stdout",
     "output_type": "stream",
     "text": [
      "hi\n",
      "1\n",
      "____\n",
      "2\n",
      "____\n",
      "3\n",
      "____\n",
      "4\n",
      "____\n",
      "5\n",
      "loop finish\n"
     ]
    }
   ],
   "source": [
    "a = list(range(1,10))\n",
    "print (\"hi\")\n",
    "for i in a:\n",
    "    print(i)\n",
    "\n",
    "    if i>=5:\n",
    "        print (\"loop finish\")\n",
    "        break\n",
    "    \n",
    "    print (\"____\")"
   ]
  },
  {
   "cell_type": "code",
   "execution_count": 82,
   "id": "bfc964ff",
   "metadata": {},
   "outputs": [
    {
     "name": "stdout",
     "output_type": "stream",
     "text": [
      "outer loop start below\n",
      "1\n",
      "inner loop starts below\n",
      "11\n",
      "12\n",
      "13\n",
      "14\n",
      "15\n",
      "16\n",
      "17\n",
      "18\n",
      "19\n",
      "2\n",
      "inner loop starts below\n",
      "11\n",
      "12\n",
      "13\n",
      "14\n",
      "15\n",
      "16\n",
      "17\n",
      "18\n",
      "19\n",
      "3\n",
      "inner loop starts below\n",
      "11\n",
      "12\n",
      "13\n",
      "14\n",
      "15\n",
      "16\n",
      "17\n",
      "18\n",
      "19\n",
      "ravi\n",
      "4\n",
      "inner loop starts below\n",
      "11\n",
      "12\n",
      "13\n",
      "14\n",
      "15\n",
      "16\n",
      "17\n",
      "18\n",
      "19\n",
      "5\n",
      "inner loop starts below\n",
      "11\n",
      "12\n",
      "13\n",
      "14\n",
      "15\n",
      "16\n",
      "17\n",
      "18\n",
      "19\n",
      "6\n",
      "inner loop starts below\n",
      "11\n",
      "12\n",
      "13\n",
      "14\n",
      "15\n",
      "16\n",
      "17\n",
      "18\n",
      "19\n",
      "ravi\n",
      "7\n",
      "inner loop starts below\n",
      "11\n",
      "12\n",
      "13\n",
      "14\n",
      "15\n",
      "16\n",
      "17\n",
      "18\n",
      "19\n",
      "8\n",
      "inner loop starts below\n",
      "11\n",
      "12\n",
      "13\n",
      "14\n",
      "15\n",
      "16\n",
      "17\n",
      "18\n",
      "19\n",
      "9\n",
      "inner loop starts below\n",
      "11\n",
      "12\n",
      "13\n",
      "14\n",
      "15\n",
      "16\n",
      "17\n",
      "18\n",
      "19\n"
     ]
    }
   ],
   "source": [
    "b = list(range(1,10))\n",
    "c = list(range(11,20))\n",
    "print (\"outer loop start below\")\n",
    "for i in b:\n",
    "    print(i)\n",
    "    print (\"inner loop starts below\")\n",
    "    for o in c:        \n",
    "        print (o)\n",
    "    if (i==3 or i==6):\n",
    "        print (\"ravi\")\n",
    "        continue        \n",
    "        \n",
    "    \n",
    "    \n",
    "        "
   ]
  },
  {
   "cell_type": "code",
   "execution_count": 98,
   "id": "362f092a",
   "metadata": {},
   "outputs": [
    {
     "ename": "ModuleNotFoundError",
     "evalue": "No module named 'collections.Counter'",
     "output_type": "error",
     "traceback": [
      "\u001b[1;31m---------------------------------------------------------------------------\u001b[0m",
      "\u001b[1;31mModuleNotFoundError\u001b[0m                       Traceback (most recent call last)",
      "\u001b[1;32m~\\AppData\\Local\\Temp/ipykernel_10428/609282438.py\u001b[0m in \u001b[0;36m<module>\u001b[1;34m\u001b[0m\n\u001b[1;32m----> 1\u001b[1;33m \u001b[1;32mimport\u001b[0m \u001b[0mcollections\u001b[0m\u001b[1;33m.\u001b[0m\u001b[0mCounter\u001b[0m\u001b[1;33m\u001b[0m\u001b[1;33m\u001b[0m\u001b[0m\n\u001b[0m",
      "\u001b[1;31mModuleNotFoundError\u001b[0m: No module named 'collections.Counter'"
     ]
    }
   ],
   "source": [
    "import collections.Counter"
   ]
  },
  {
   "cell_type": "code",
   "execution_count": 97,
   "id": "b8ff0b00",
   "metadata": {},
   "outputs": [
    {
     "ename": "NameError",
     "evalue": "name 'Counter' is not defined",
     "output_type": "error",
     "traceback": [
      "\u001b[1;31m---------------------------------------------------------------------------\u001b[0m",
      "\u001b[1;31mNameError\u001b[0m                                 Traceback (most recent call last)",
      "\u001b[1;32m~\\AppData\\Local\\Temp/ipykernel_10428/3877995947.py\u001b[0m in \u001b[0;36m<module>\u001b[1;34m\u001b[0m\n\u001b[1;32m----> 1\u001b[1;33m \u001b[0mCounter\u001b[0m\u001b[1;33m(\u001b[0m\u001b[1;33m[\u001b[0m\u001b[1;34m\"1\"\u001b[0m\u001b[1;33m,\u001b[0m\u001b[1;34m\"xyz\"\u001b[0m\u001b[1;33m]\u001b[0m\u001b[1;33m)\u001b[0m\u001b[1;33m\u001b[0m\u001b[1;33m\u001b[0m\u001b[0m\n\u001b[0m",
      "\u001b[1;31mNameError\u001b[0m: name 'Counter' is not defined"
     ]
    }
   ],
   "source": [
    "Counter([\"1\",\"xyz\"])"
   ]
  },
  {
   "cell_type": "code",
   "execution_count": 91,
   "id": "000694a9",
   "metadata": {},
   "outputs": [],
   "source": [
    "s = \"virat kohlivv\""
   ]
  },
  {
   "cell_type": "code",
   "execution_count": 93,
   "id": "2310299f",
   "metadata": {},
   "outputs": [
    {
     "data": {
      "text/plain": [
       "3"
      ]
     },
     "execution_count": 93,
     "metadata": {},
     "output_type": "execute_result"
    }
   ],
   "source": [
    "s.count(\"v\")"
   ]
  },
  {
   "cell_type": "code",
   "execution_count": 94,
   "id": "18beeee9",
   "metadata": {},
   "outputs": [
    {
     "data": {
      "text/plain": [
       "1"
      ]
     },
     "execution_count": 94,
     "metadata": {},
     "output_type": "execute_result"
    }
   ],
   "source": [
    "s.index(\"i\")"
   ]
  },
  {
   "cell_type": "code",
   "execution_count": 95,
   "id": "a5fcaae6",
   "metadata": {},
   "outputs": [
    {
     "data": {
      "text/plain": [
       "False"
      ]
     },
     "execution_count": 95,
     "metadata": {},
     "output_type": "execute_result"
    }
   ],
   "source": [
    "s.startswith(\"i\")"
   ]
  },
  {
   "cell_type": "code",
   "execution_count": 99,
   "id": "67acd4ad",
   "metadata": {},
   "outputs": [
    {
     "data": {
      "text/plain": [
       "4.0"
      ]
     },
     "execution_count": 99,
     "metadata": {},
     "output_type": "execute_result"
    }
   ],
   "source": [
    "(100/25)"
   ]
  },
  {
   "cell_type": "code",
   "execution_count": 132,
   "id": "2ae19dd8",
   "metadata": {},
   "outputs": [
    {
     "name": "stdout",
     "output_type": "stream",
     "text": [
      "even numbers in above list 4\n",
      "odd no in above list  5\n"
     ]
    }
   ],
   "source": [
    "no=(range(1,10))\n",
    "even_count = 0\n",
    "odd_count = 0\n",
    "for i in no:\n",
    "    if i %2 == 0:\n",
    "        even_count += 1\n",
    "    else:\n",
    "        odd_count += 1\n",
    "print(\"even numbers in above list\" , even_count)\n",
    "print(\"odd no in above list \" , odd_count)\n"
   ]
  },
  {
   "cell_type": "code",
   "execution_count": 18,
   "id": "b31e55d5",
   "metadata": {},
   "outputs": [
    {
     "name": "stdout",
     "output_type": "stream",
     "text": [
      "P\n",
      "u\n",
      "l\n",
      "k\n",
      "a\n"
     ]
    }
   ],
   "source": [
    "name = (\"Pulka\")\n",
    "for i in name:\n",
    "    print (i[::-1])"
   ]
  },
  {
   "cell_type": "code",
   "execution_count": 15,
   "id": "8f11b6c7",
   "metadata": {},
   "outputs": [
    {
     "data": {
      "text/plain": [
       "'idnag ajet ivar'"
      ]
     },
     "execution_count": 15,
     "metadata": {},
     "output_type": "execute_result"
    }
   ],
   "source": [
    "l=\"ravi teja gandi\"\n",
    "l[::-1]"
   ]
  },
  {
   "cell_type": "code",
   "execution_count": 146,
   "id": "ba61568b",
   "metadata": {},
   "outputs": [
    {
     "name": "stdout",
     "output_type": "stream",
     "text": [
      "nohtyP\n"
     ]
    }
   ],
   "source": [
    "s=\"Python\" # initial string\n",
    "stringlength=len(s) # calculate length of the list\n",
    "slicedString=s[stringlength :: -1] # slicing \n",
    "print (slicedString)"
   ]
  },
  {
   "cell_type": "code",
   "execution_count": 147,
   "id": "f35506bb",
   "metadata": {},
   "outputs": [
    {
     "name": "stdout",
     "output_type": "stream",
     "text": [
      "['n', 'o', 'h', 't', 'y', 'P']\n"
     ]
    }
   ],
   "source": [
    "s = \"Python\" # initial string\n",
    "reversedString=[]\n",
    "index = len(s) # calculate length of string and save in index\n",
    "while index > 0: \n",
    "    reversedString += s[ index - 1 ] # save the value of str[index-1] in reverseString\n",
    "    index = index - 1 # decrement index\n",
    "print(reversedString)"
   ]
  },
  {
   "cell_type": "code",
   "execution_count": 11,
   "id": "bca182f0",
   "metadata": {},
   "outputs": [
    {
     "name": "stdout",
     "output_type": "stream",
     "text": [
      "1\n",
      "3\n",
      "5\n",
      "7\n",
      "9\n",
      "11\n",
      "13\n",
      "15\n",
      "17\n",
      "19\n"
     ]
    }
   ],
   "source": [
    "no=range(10)\n",
    "for i in no:\n",
    "    i += (i+1)\n",
    "    print(i)\n",
    "    "
   ]
  },
  {
   "cell_type": "code",
   "execution_count": 2,
   "id": "ad869c72",
   "metadata": {},
   "outputs": [
    {
     "name": "stdout",
     "output_type": "stream",
     "text": [
      "0\n",
      "1\n",
      "1 2 3 5 8 13 21 34 55 89 144 233 377 610 987 1597 2584 4181 "
     ]
    }
   ],
   "source": [
    "def fib(n):\n",
    "    a = 0\n",
    "    b = 1\n",
    "    if n == 1:\n",
    "        print(a)\n",
    "    else:\n",
    "        print(a)\n",
    "        print(b)\n",
    "        for i in range (2,n):\n",
    "            c = a + b\n",
    "            a = b\n",
    "            b = c\n",
    "            print(c, end=(\" \"))\n",
    "fib(20)\n"
   ]
  },
  {
   "cell_type": "code",
   "execution_count": 2,
   "id": "47ae00ea",
   "metadata": {},
   "outputs": [
    {
     "name": "stdout",
     "output_type": "stream",
     "text": [
      "yes\n"
     ]
    }
   ],
   "source": [
    "p =\"123\"\n",
    "t = \"12\"\n",
    "if t in p:\n",
    "    print(\"yes\")"
   ]
  },
  {
   "cell_type": "code",
   "execution_count": 25,
   "id": "a81305fe",
   "metadata": {},
   "outputs": [],
   "source": [
    "import re"
   ]
  },
  {
   "cell_type": "code",
   "execution_count": 28,
   "id": "b6e9bc9d",
   "metadata": {},
   "outputs": [
    {
     "data": {
      "text/plain": [
       "<re.Match object; span=(2, 3), match='2'>"
      ]
     },
     "execution_count": 28,
     "metadata": {},
     "output_type": "execute_result"
    }
   ],
   "source": [
    "re.search(\"[1-9]\", \"hi2\")"
   ]
  },
  {
   "cell_type": "code",
   "execution_count": 41,
   "id": "5d3329e1",
   "metadata": {},
   "outputs": [
    {
     "data": {
      "text/plain": [
       "<re.Match object; span=(0, 4), match='clay'>"
      ]
     },
     "execution_count": 41,
     "metadata": {},
     "output_type": "execute_result"
    }
   ],
   "source": [
    "re.search(\"[cC]la[py]\", \"clayjkdsbjk\")"
   ]
  },
  {
   "cell_type": "code",
   "execution_count": 77,
   "id": "3efab0ff",
   "metadata": {},
   "outputs": [
    {
     "name": "stdout",
     "output_type": "stream",
     "text": [
      "not a leap year\n"
     ]
    }
   ],
   "source": [
    "x=2100\n",
    "if (x%4) == 0:        \n",
    "    if x % 400 ==0:\n",
    "        print(x,\"its a leap year\")        \n",
    "    else:\n",
    "        print(\"not a leap year\")\n",
    "else:\n",
    "    print(\"not a leap year\")"
   ]
  },
  {
   "cell_type": "code",
   "execution_count": 81,
   "id": "c2888bc3",
   "metadata": {},
   "outputs": [
    {
     "name": "stdout",
     "output_type": "stream",
     "text": [
      "396 its a leap year\n"
     ]
    }
   ],
   "source": [
    "x=396\n",
    "if (x%4) == 0:        \n",
    "    print(x,\"its a leap year\")        \n",
    "else:\n",
    "    print(\"not a leap year\")\n"
   ]
  },
  {
   "cell_type": "code",
   "execution_count": null,
   "id": "65ebd929",
   "metadata": {},
   "outputs": [],
   "source": []
  }
 ],
 "metadata": {
  "kernelspec": {
   "display_name": "Python 3 (ipykernel)",
   "language": "python",
   "name": "python3"
  },
  "language_info": {
   "codemirror_mode": {
    "name": "ipython",
    "version": 3
   },
   "file_extension": ".py",
   "mimetype": "text/x-python",
   "name": "python",
   "nbconvert_exporter": "python",
   "pygments_lexer": "ipython3",
   "version": "3.10.0"
  }
 },
 "nbformat": 4,
 "nbformat_minor": 5
}
