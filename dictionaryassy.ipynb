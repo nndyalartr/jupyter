{
 "cells": [
  {
   "cell_type": "code",
   "execution_count": 7,
   "id": "4a936bd4",
   "metadata": {},
   "outputs": [
    {
     "name": "stdout",
     "output_type": "stream",
     "text": [
      "{'a': 97, 'b': 98, 'c': 99, 'd': 100, 'e': 101, 'f': 102, 'g': 103, 'h': 104, 'i': 105, 'j': 106, 'k': 107, 'l': 108, 'm': 109, 'n': 110, 'o': 111, 'p': 112, 'q': 113, 'r': 114, 's': 115, 't': 116, 'u': 117, 'v': 118, 'w': 119, 'x': 120, 'y': 121, 'z': 122}\n"
     ]
    }
   ],
   "source": [
    "my_dict = {}\n",
    "for i in range(97, 97 + 26):    \n",
    "    my_dict[chr(i)] = i\n",
    "print(my_dict)"
   ]
  },
  {
   "cell_type": "code",
   "execution_count": 133,
   "id": "66b3996f",
   "metadata": {},
   "outputs": [
    {
     "name": "stdout",
     "output_type": "stream",
     "text": [
      "{0: {'ravi': '10th', 'santosh': '9th', 'kiran': '7th', 'shiva': '6th'}}\n"
     ]
    }
   ],
   "source": [
    "dic = {}\n",
    "p=(\"ravi\", \"santosh\",\"kiran\",\"shiva\")\n",
    "k = (\"10th\", \"9th\",\"7th\",\"6th\")\n",
    "for i in range(1):\n",
    "    dic[i] = dict(zip(p,k))\n",
    "    print(dic)\n"
   ]
  },
  {
   "cell_type": "code",
   "execution_count": 135,
   "id": "38a14923",
   "metadata": {},
   "outputs": [
    {
     "name": "stdout",
     "output_type": "stream",
     "text": [
      "{0: {'ravi': '10th', 'santosh': '9th', 'kiran': '7th', 'shiva': '6th'}}\n"
     ]
    }
   ],
   "source": [
    "print(dic)"
   ]
  },
  {
   "cell_type": "code",
   "execution_count": 141,
   "id": "4e104b58",
   "metadata": {},
   "outputs": [
    {
     "name": "stdout",
     "output_type": "stream",
     "text": [
      "{0: 5, 1: 6, 2: 7, 3: 8, 4: 9}\n"
     ]
    }
   ],
   "source": [
    "k=range(5,10)\n",
    "l=range(5)\n",
    "h=dict(zip(l,k))\n",
    "print(h)"
   ]
  },
  {
   "cell_type": "code",
   "execution_count": 137,
   "id": "df104831",
   "metadata": {},
   "outputs": [
    {
     "data": {
      "text/plain": [
       "{'ravi': '10th', 'santosh': '9th', 'kiran': '7th', 'shiva': '6th'}"
      ]
     },
     "execution_count": 137,
     "metadata": {},
     "output_type": "execute_result"
    }
   ],
   "source": [
    "dic[0]"
   ]
  },
  {
   "cell_type": "code",
   "execution_count": 23,
   "id": "ec39fdb0",
   "metadata": {},
   "outputs": [],
   "source": [
    "l = list(range(97, 97+26))\n"
   ]
  },
  {
   "cell_type": "code",
   "execution_count": 31,
   "id": "25ae9151",
   "metadata": {},
   "outputs": [
    {
     "data": {
      "text/plain": [
       "'A'"
      ]
     },
     "execution_count": 31,
     "metadata": {},
     "output_type": "execute_result"
    }
   ],
   "source": [
    "i = chr(65)\n",
    "i"
   ]
  },
  {
   "cell_type": "code",
   "execution_count": 147,
   "id": "58ac27f5",
   "metadata": {},
   "outputs": [
    {
     "name": "stdout",
     "output_type": "stream",
     "text": [
      "{0: 'gomathi', 1: 'langalodu', 2: 'pulka', 3: 'tamukutamari'}\n",
      "4\n",
      "4\n"
     ]
    }
   ],
   "source": [
    "a=range(len(b))\n",
    "b=(\"gomathi\", \"langalodu\", \"pulka\", \"tamukutamari\")\n",
    "dictionary=dict(zip(a,b))\n",
    "print(dictionary)\n",
    "print(len(b))\n",
    "print(len(a))"
   ]
  },
  {
   "cell_type": "code",
   "execution_count": null,
   "id": "0fac8a46",
   "metadata": {},
   "outputs": [],
   "source": []
  }
 ],
 "metadata": {
  "kernelspec": {
   "display_name": "Python 3 (ipykernel)",
   "language": "python",
   "name": "python3"
  },
  "language_info": {
   "codemirror_mode": {
    "name": "ipython",
    "version": 3
   },
   "file_extension": ".py",
   "mimetype": "text/x-python",
   "name": "python",
   "nbconvert_exporter": "python",
   "pygments_lexer": "ipython3",
   "version": "3.10.0"
  }
 },
 "nbformat": 4,
 "nbformat_minor": 5
}
