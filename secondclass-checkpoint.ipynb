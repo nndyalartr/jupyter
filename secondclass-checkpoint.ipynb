{
 "cells": [
  {
   "cell_type": "code",
   "execution_count": null,
   "id": "47c32b3d",
   "metadata": {},
   "outputs": [],
   "source": [
    "# jupyter notebook"
   ]
  },
  {
   "cell_type": "code",
   "execution_count": 2,
   "id": "9e00d81e",
   "metadata": {},
   "outputs": [],
   "source": [
    "data1 = [\"kiwi\", \"pulka\", \"mango\"]"
   ]
  },
  {
   "cell_type": "code",
   "execution_count": 3,
   "id": "4007e038",
   "metadata": {},
   "outputs": [
    {
     "data": {
      "text/plain": [
       "['kiwi', 'pulka', 'mango']"
      ]
     },
     "execution_count": 3,
     "metadata": {},
     "output_type": "execute_result"
    }
   ],
   "source": [
    "data1"
   ]
  },
  {
   "cell_type": "code",
   "execution_count": 7,
   "id": "f53104d6",
   "metadata": {},
   "outputs": [
    {
     "data": {
      "text/plain": [
       "3"
      ]
     },
     "execution_count": 7,
     "metadata": {},
     "output_type": "execute_result"
    }
   ],
   "source": [
    "len(data1)"
   ]
  },
  {
   "cell_type": "code",
   "execution_count": 28,
   "id": "e980e5c6",
   "metadata": {},
   "outputs": [
    {
     "data": {
      "text/plain": [
       "120"
      ]
     },
     "execution_count": 28,
     "metadata": {},
     "output_type": "execute_result"
    }
   ],
   "source": [
    "sys.getsizeof(data1)"
   ]
  },
  {
   "cell_type": "code",
   "execution_count": 14,
   "id": "8f0705ea",
   "metadata": {},
   "outputs": [],
   "source": [
    "x=53\n"
   ]
  },
  {
   "cell_type": "code",
   "execution_count": 15,
   "id": "74103b5d",
   "metadata": {},
   "outputs": [
    {
     "data": {
      "text/plain": [
       "2305801258864"
      ]
     },
     "execution_count": 15,
     "metadata": {},
     "output_type": "execute_result"
    }
   ],
   "source": [
    "id(x)"
   ]
  },
  {
   "cell_type": "code",
   "execution_count": 17,
   "id": "9b0ab4f4",
   "metadata": {},
   "outputs": [],
   "source": [
    "a=\"hellow\""
   ]
  },
  {
   "cell_type": "code",
   "execution_count": 20,
   "id": "5af97d17",
   "metadata": {},
   "outputs": [],
   "source": [
    "id(a)\n",
    "import sys"
   ]
  },
  {
   "cell_type": "code",
   "execution_count": 21,
   "id": "702f4c6d",
   "metadata": {},
   "outputs": [
    {
     "data": {
      "text/plain": [
       "55"
      ]
     },
     "execution_count": 21,
     "metadata": {},
     "output_type": "execute_result"
    }
   ],
   "source": [
    "sys.getsizeof(a)"
   ]
  },
  {
   "cell_type": "code",
   "execution_count": 26,
   "id": "8888bb71",
   "metadata": {},
   "outputs": [],
   "source": [
    "vals ={\"abc\", 1235, \"kiran\",-356,\"bb\"} #this is sets&dictionary model"
   ]
  },
  {
   "cell_type": "code",
   "execution_count": 27,
   "id": "8d7a9974",
   "metadata": {},
   "outputs": [
    {
     "data": {
      "text/plain": [
       "{-356, 1235, 'abc', 'bb', 'kiran'}"
      ]
     },
     "execution_count": 27,
     "metadata": {},
     "output_type": "execute_result"
    }
   ],
   "source": [
    "vals"
   ]
  },
  {
   "cell_type": "code",
   "execution_count": 29,
   "id": "5b9d4005",
   "metadata": {},
   "outputs": [],
   "source": [
    "k=(\"pldf\",\"jjhg\",\"jhhgj\")"
   ]
  },
  {
   "cell_type": "code",
   "execution_count": 36,
   "id": "99d9a513",
   "metadata": {},
   "outputs": [
    {
     "data": {
      "text/plain": [
       "tuple"
      ]
     },
     "execution_count": 36,
     "metadata": {},
     "output_type": "execute_result"
    }
   ],
   "source": [
    "type(k)"
   ]
  },
  {
   "cell_type": "code",
   "execution_count": 30,
   "id": "c24162e3",
   "metadata": {},
   "outputs": [],
   "source": [
    "p=set(k)"
   ]
  },
  {
   "cell_type": "code",
   "execution_count": 33,
   "id": "f376301a",
   "metadata": {},
   "outputs": [
    {
     "data": {
      "text/plain": [
       "{'jhhgj', 'jjhg', 'pldf'}"
      ]
     },
     "execution_count": 33,
     "metadata": {},
     "output_type": "execute_result"
    }
   ],
   "source": [
    "p"
   ]
  },
  {
   "cell_type": "code",
   "execution_count": 35,
   "id": "a4630891",
   "metadata": {},
   "outputs": [
    {
     "data": {
      "text/plain": [
       "set"
      ]
     },
     "execution_count": 35,
     "metadata": {},
     "output_type": "execute_result"
    }
   ],
   "source": [
    "type(p)"
   ]
  },
  {
   "cell_type": "code",
   "execution_count": 37,
   "id": "e15f123d",
   "metadata": {},
   "outputs": [],
   "source": [
    "l=tuple(p)"
   ]
  },
  {
   "cell_type": "code",
   "execution_count": 38,
   "id": "ad93dd28",
   "metadata": {},
   "outputs": [
    {
     "data": {
      "text/plain": [
       "('jhhgj', 'pldf', 'jjhg')"
      ]
     },
     "execution_count": 38,
     "metadata": {},
     "output_type": "execute_result"
    }
   ],
   "source": [
    "l"
   ]
  },
  {
   "cell_type": "code",
   "execution_count": 42,
   "id": "d25ef50d",
   "metadata": {},
   "outputs": [],
   "source": [
    "h=\"abc 121 defg\""
   ]
  },
  {
   "cell_type": "code",
   "execution_count": 43,
   "id": "0e1271a7",
   "metadata": {},
   "outputs": [],
   "source": [
    "y=list(h)"
   ]
  },
  {
   "cell_type": "code",
   "execution_count": 44,
   "id": "2e5ea83a",
   "metadata": {},
   "outputs": [
    {
     "data": {
      "text/plain": [
       "['a', 'b', 'c', ' ', '1', '2', '1', ' ', 'd', 'e', 'f', 'g']"
      ]
     },
     "execution_count": 44,
     "metadata": {},
     "output_type": "execute_result"
    }
   ],
   "source": [
    "y"
   ]
  },
  {
   "cell_type": "code",
   "execution_count": 45,
   "id": "577fba09",
   "metadata": {},
   "outputs": [],
   "source": [
    "pulka={\"jako\", \"langalodu\", \"tamukutamari\",\"donganayalu\",\"gomathi\"}"
   ]
  },
  {
   "cell_type": "code",
   "execution_count": 46,
   "id": "2bbae6b0",
   "metadata": {},
   "outputs": [
    {
     "data": {
      "text/plain": [
       "{'donganayalu', 'gomathi', 'jako', 'langalodu', 'tamukutamari'}"
      ]
     },
     "execution_count": 46,
     "metadata": {},
     "output_type": "execute_result"
    }
   ],
   "source": [
    "pulka"
   ]
  },
  {
   "cell_type": "code",
   "execution_count": 48,
   "id": "0cc32526",
   "metadata": {},
   "outputs": [
    {
     "data": {
      "text/plain": [
       "set"
      ]
     },
     "execution_count": 48,
     "metadata": {},
     "output_type": "execute_result"
    }
   ],
   "source": [
    "type(pulka)"
   ]
  },
  {
   "cell_type": "code",
   "execution_count": 104,
   "id": "02baf0b9",
   "metadata": {},
   "outputs": [],
   "source": [
    "ap={102.5:{\"name\":\"ravi\",\"sl_no\":102,\"grade\":\"b\",\"class\":5},\n",
    "    \"pa\":{\"name\":\"santosh\",\"sl_no\":103,\"grade\":\"b\",\"class\":5},\n",
    "    \"pf\":{\"name\":\"chandu\",\"sl_no\":104,\"grade\":\"d\",\"class\":5},\n",
    "    \"pd\":{\"sl_no\":102,\"grade\":\"b\",\"class\":5,\"name\":\"ravi\"}}"
   ]
  },
  {
   "cell_type": "code",
   "execution_count": 105,
   "id": "5c0dc6f6",
   "metadata": {},
   "outputs": [
    {
     "data": {
      "text/plain": [
       "{102.5: {'name': 'ravi', 'sl_no': 102, 'grade': 'b', 'class': 5},\n",
       " 'pa': {'name': 'santosh', 'sl_no': 103, 'grade': 'b', 'class': 5},\n",
       " 'pf': {'name': 'chandu', 'sl_no': 104, 'grade': 'd', 'class': 5},\n",
       " 'pd': {'sl_no': 102, 'grade': 'b', 'class': 5, 'name': 'ravi'}}"
      ]
     },
     "execution_count": 105,
     "metadata": {},
     "output_type": "execute_result"
    }
   ],
   "source": [
    "ap"
   ]
  },
  {
   "cell_type": "code",
   "execution_count": 107,
   "id": "4faade77",
   "metadata": {},
   "outputs": [
    {
     "data": {
      "text/plain": [
       "{'name': 'ravi', 'sl_no': 102, 'grade': 'b', 'class': 5}"
      ]
     },
     "execution_count": 107,
     "metadata": {},
     "output_type": "execute_result"
    }
   ],
   "source": [
    "ap[102.5]"
   ]
  },
  {
   "cell_type": "code",
   "execution_count": 98,
   "id": "cd7e46b9",
   "metadata": {},
   "outputs": [
    {
     "data": {
      "text/plain": [
       "102"
      ]
     },
     "execution_count": 98,
     "metadata": {},
     "output_type": "execute_result"
    }
   ],
   "source": [
    "ap[102.5][\"sl_no\"]"
   ]
  },
  {
   "cell_type": "code",
   "execution_count": 100,
   "id": "20b1f603",
   "metadata": {},
   "outputs": [
    {
     "data": {
      "text/plain": [
       "102.5"
      ]
     },
     "execution_count": 100,
     "metadata": {},
     "output_type": "execute_result"
    }
   ],
   "source": []
  },
  {
   "cell_type": "code",
   "execution_count": 99,
   "id": "178fb0f8",
   "metadata": {},
   "outputs": [
    {
     "data": {
      "text/plain": [
       "float"
      ]
     },
     "execution_count": 99,
     "metadata": {},
     "output_type": "execute_result"
    }
   ],
   "source": [
    "type(102.5)"
   ]
  },
  {
   "cell_type": "code",
   "execution_count": 75,
   "id": "1f8fb949",
   "metadata": {},
   "outputs": [
    {
     "data": {
      "text/plain": [
       "{'name': 'ravi', 'sl_no': 102, 'grade': 'b', 'class': 5}"
      ]
     },
     "execution_count": 75,
     "metadata": {},
     "output_type": "execute_result"
    }
   ],
   "source": [
    "pp"
   ]
  },
  {
   "cell_type": "code",
   "execution_count": 76,
   "id": "9f215779",
   "metadata": {},
   "outputs": [
    {
     "data": {
      "text/plain": [
       "'ravi'"
      ]
     },
     "execution_count": 76,
     "metadata": {},
     "output_type": "execute_result"
    }
   ],
   "source": [
    "pp[\"name\"]"
   ]
  },
  {
   "cell_type": "code",
   "execution_count": null,
   "id": "193df442",
   "metadata": {},
   "outputs": [],
   "source": []
  },
  {
   "cell_type": "code",
   "execution_count": 80,
   "id": "a35bcdbd",
   "metadata": {},
   "outputs": [
    {
     "data": {
      "text/plain": [
       "{'name': 'ravi', 'sl_no': 102, 'grade': 'b', 'class': 5}"
      ]
     },
     "execution_count": 80,
     "metadata": {},
     "output_type": "execute_result"
    }
   ],
   "source": [
    "pp"
   ]
  },
  {
   "cell_type": "code",
   "execution_count": 60,
   "id": "ca7c490a",
   "metadata": {},
   "outputs": [
    {
     "data": {
      "text/plain": [
       "dict"
      ]
     },
     "execution_count": 60,
     "metadata": {},
     "output_type": "execute_result"
    }
   ],
   "source": [
    "type(pp)"
   ]
  },
  {
   "cell_type": "code",
   "execution_count": 61,
   "id": "f8695925",
   "metadata": {},
   "outputs": [
    {
     "data": {
      "text/plain": [
       "'ravi'"
      ]
     },
     "execution_count": 61,
     "metadata": {},
     "output_type": "execute_result"
    }
   ],
   "source": [
    "pp[\"name\"]"
   ]
  },
  {
   "cell_type": "code",
   "execution_count": null,
   "id": "db69887e",
   "metadata": {},
   "outputs": [],
   "source": [
    "langa={101:{\"name:\"}}"
   ]
  },
  {
   "cell_type": "code",
   "execution_count": 78,
   "id": "8d180d6b",
   "metadata": {},
   "outputs": [],
   "source": [
    "kp=str(\"pp\")"
   ]
  },
  {
   "cell_type": "code",
   "execution_count": 79,
   "id": "e23acd7f",
   "metadata": {},
   "outputs": [
    {
     "data": {
      "text/plain": [
       "'pp'"
      ]
     },
     "execution_count": 79,
     "metadata": {},
     "output_type": "execute_result"
    }
   ],
   "source": [
    "kp"
   ]
  },
  {
   "cell_type": "code",
   "execution_count": 81,
   "id": "95b25a9e",
   "metadata": {},
   "outputs": [
    {
     "data": {
      "text/plain": [
       "{'name': 'ravi', 'sl_no': 102, 'grade': 'b', 'class': 5}"
      ]
     },
     "execution_count": 81,
     "metadata": {},
     "output_type": "execute_result"
    }
   ],
   "source": [
    "pp"
   ]
  },
  {
   "cell_type": "code",
   "execution_count": 84,
   "id": "45975526",
   "metadata": {},
   "outputs": [],
   "source": [
    "kp=str(pp)"
   ]
  },
  {
   "cell_type": "code",
   "execution_count": 86,
   "id": "aed5c93f",
   "metadata": {},
   "outputs": [
    {
     "data": {
      "text/plain": [
       "\"{'name': 'ravi', 'sl_no': 102, 'grade': 'b', 'class': 5}\""
      ]
     },
     "execution_count": 86,
     "metadata": {},
     "output_type": "execute_result"
    }
   ],
   "source": [
    "kp"
   ]
  },
  {
   "cell_type": "code",
   "execution_count": 87,
   "id": "802ba08b",
   "metadata": {},
   "outputs": [
    {
     "data": {
      "text/plain": [
       "str"
      ]
     },
     "execution_count": 87,
     "metadata": {},
     "output_type": "execute_result"
    }
   ],
   "source": [
    "type(kp)"
   ]
  },
  {
   "cell_type": "code",
   "execution_count": 88,
   "id": "a35e346b",
   "metadata": {},
   "outputs": [],
   "source": [
    "hp=\"1025.6\""
   ]
  },
  {
   "cell_type": "code",
   "execution_count": 89,
   "id": "82c3e5b2",
   "metadata": {},
   "outputs": [],
   "source": [
    "ll=float(hp)"
   ]
  },
  {
   "cell_type": "code",
   "execution_count": 90,
   "id": "c2ea92b8",
   "metadata": {},
   "outputs": [
    {
     "data": {
      "text/plain": [
       "1025.6"
      ]
     },
     "execution_count": 90,
     "metadata": {},
     "output_type": "execute_result"
    }
   ],
   "source": [
    "ll"
   ]
  },
  {
   "cell_type": "code",
   "execution_count": 91,
   "id": "0d3fccda",
   "metadata": {},
   "outputs": [
    {
     "data": {
      "text/plain": [
       "float"
      ]
     },
     "execution_count": 91,
     "metadata": {},
     "output_type": "execute_result"
    }
   ],
   "source": [
    "type(ll)"
   ]
  },
  {
   "cell_type": "code",
   "execution_count": 92,
   "id": "5dc6030d",
   "metadata": {},
   "outputs": [
    {
     "data": {
      "text/plain": [
       "1025.6"
      ]
     },
     "execution_count": 92,
     "metadata": {},
     "output_type": "execute_result"
    }
   ],
   "source": [
    "ll"
   ]
  },
  {
   "cell_type": "code",
   "execution_count": 93,
   "id": "a8afca13",
   "metadata": {},
   "outputs": [],
   "source": [
    "hh=int(ll)"
   ]
  },
  {
   "cell_type": "code",
   "execution_count": 94,
   "id": "0df100d2",
   "metadata": {},
   "outputs": [
    {
     "data": {
      "text/plain": [
       "1025"
      ]
     },
     "execution_count": 94,
     "metadata": {},
     "output_type": "execute_result"
    }
   ],
   "source": [
    "hh"
   ]
  },
  {
   "cell_type": "code",
   "execution_count": 95,
   "id": "3b00441d",
   "metadata": {},
   "outputs": [
    {
     "data": {
      "text/plain": [
       "int"
      ]
     },
     "execution_count": 95,
     "metadata": {},
     "output_type": "execute_result"
    }
   ],
   "source": [
    "type(hh)"
   ]
  },
  {
   "cell_type": "markdown",
   "id": "4b75f482",
   "metadata": {},
   "source": [
    "important 2nd dec class"
   ]
  },
  {
   "cell_type": "code",
   "execution_count": null,
   "id": "5f257594",
   "metadata": {},
   "outputs": [],
   "source": [
    "#int(), float(), bool(), list() int/float/bool/list are the pre defined function and anythning inside () will be a method calls"
   ]
  },
  {
   "cell_type": "code",
   "execution_count": null,
   "id": "193b52c0",
   "metadata": {},
   "outputs": [],
   "source": []
  },
  {
   "cell_type": "code",
   "execution_count": null,
   "id": "2f672d09",
   "metadata": {},
   "outputs": [],
   "source": []
  }
 ],
 "metadata": {
  "kernelspec": {
   "display_name": "Python 3 (ipykernel)",
   "language": "python",
   "name": "python3"
  },
  "language_info": {
   "codemirror_mode": {
    "name": "ipython",
    "version": 3
   },
   "file_extension": ".py",
   "mimetype": "text/x-python",
   "name": "python",
   "nbconvert_exporter": "python",
   "pygments_lexer": "ipython3",
   "version": "3.10.0"
  }
 },
 "nbformat": 4,
 "nbformat_minor": 5
}
