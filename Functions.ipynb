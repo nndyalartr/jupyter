{
 "cells": [
  {
   "cell_type": "code",
   "execution_count": 3,
   "id": "b54f1008",
   "metadata": {},
   "outputs": [
    {
     "name": "stdout",
     "output_type": "stream",
     "text": [
      "0 1 2 3 4 1 2 3 4 2 3 4 3 4 4 0 1 2 3 4 1 2 3 4 2 3 4 3 4 4 "
     ]
    }
   ],
   "source": [
    "i=0\n",
    "n = 10\n",
    "for i in range(n): # n is the no. of elements: O(n)\n",
    "    while i<n/2: # O(n/2)\n",
    "        print(i, end=\" \")\n",
    "        i=i+1\n",
    "        \n",
    "# TC: O(n)*O(n/2) = O(n**2/2) = O(n**2)\n",
    "\n",
    "####################################\n",
    "\n",
    "i=0\n",
    "for i in range(10): # n is the no. of elements: O(n)\n",
    "    while i<5: # O(k) where k << n\n",
    "        print(i, end=\" \")\n",
    "        i=i+1\n",
    "        \n",
    "# O(k*n) = O(n)"
   ]
  },
  {
   "cell_type": "code",
   "execution_count": null,
   "id": "37f0e1de",
   "metadata": {},
   "outputs": [],
   "source": []
  },
  {
   "cell_type": "code",
   "execution_count": null,
   "id": "3ad54462",
   "metadata": {},
   "outputs": [],
   "source": [
    "# Assignment 1 -> extend to all assignments \n",
    "Q1. Who tested the code boundary cases # Ownership\n",
    "Q2. Who submitted more than one solution to any question # nice\n",
    "Q3. Who wrote the code, and tried to optimize it? # always something to think about\n",
    "Q4. Who wrote documentation? # strongly reccomend"
   ]
  },
  {
   "cell_type": "code",
   "execution_count": null,
   "id": "f96c7853",
   "metadata": {},
   "outputs": [],
   "source": [
    "# s[::-1]\n",
    "# for ch in s[len-1, -1, -1]: ....\n",
    "    \n",
    "# i loops from last index to first\n",
    "# i = l-1\n",
    "# while l>=1: # loop till i reaches first char,\n",
    "#     s[i]\n",
    "#     i = i-1 ..\n",
    "    \n",
    "\n",
    "# \"\".join(reversed(s)) # reverse s then join it\n",
    "\n",
    "# ...."
   ]
  },
  {
   "cell_type": "code",
   "execution_count": null,
   "id": "c07ca95e",
   "metadata": {},
   "outputs": [],
   "source": []
  },
  {
   "cell_type": "code",
   "execution_count": null,
   "id": "f40e361f",
   "metadata": {},
   "outputs": [],
   "source": [
    "sir how to directly input tuple sets in a list\n",
    "sir what is join? is it completed?"
   ]
  },
  {
   "cell_type": "code",
   "execution_count": null,
   "id": "7c1d40fd",
   "metadata": {},
   "outputs": [],
   "source": [
    "# x = [1, 2, (10, 20), 30, 40]\n",
    "x = [(1, 2), (1,4), (1,5)]\n",
    "\n",
    "n = 3 # how many tuples\n",
    "while n:\n",
    "    input <--- 1 2\n",
    "    append it to list\n",
    "    n -= 1\n",
    "    \n",
    "sort....\n",
    "\n",
    "####\n",
    "print(\"Enter -1 -1 to finish input\")\n",
    "while True:\n",
    "    input <--- 1 2\n",
    "    if x == -1 and y == -1:\n",
    "        break\n",
    "    append it to list\n",
    "    \n",
    "####\n",
    "1 2 1 4 1 5 \n"
   ]
  },
  {
   "cell_type": "code",
   "execution_count": 19,
   "id": "665e73f7",
   "metadata": {},
   "outputs": [
    {
     "name": "stdout",
     "output_type": "stream",
     "text": [
      "Enter -1 -1 to finish input\n",
      "Enter two numeric values separated by space:10 20\n",
      "Enter two numeric values separated by space:20 30\n",
      "Enter two numeric values separated by space:-1 -1\n"
     ]
    }
   ],
   "source": [
    "values = []\n",
    "print(\"Enter -1 -1 to finish input\")\n",
    "while True:\n",
    "    ip = input(\"Enter two numeric values separated by space:\")\n",
    "    x, y = ip.split(\" \")\n",
    "    if int(x) == -1 and int(y) == -1:\n",
    "        break\n",
    "    values.append((int(x), int(y)))"
   ]
  },
  {
   "cell_type": "code",
   "execution_count": 20,
   "id": "c9205ef8",
   "metadata": {},
   "outputs": [
    {
     "data": {
      "text/plain": [
       "[(10, 20), (20, 30)]"
      ]
     },
     "execution_count": 20,
     "metadata": {},
     "output_type": "execute_result"
    }
   ],
   "source": [
    "values"
   ]
  },
  {
   "cell_type": "code",
   "execution_count": 22,
   "id": "742accca",
   "metadata": {},
   "outputs": [
    {
     "data": {
      "text/plain": [
       "{(10, 20), (20, 30)}"
      ]
     },
     "execution_count": 22,
     "metadata": {},
     "output_type": "execute_result"
    }
   ],
   "source": [
    "p=set(values)\n",
    "p"
   ]
  },
  {
   "cell_type": "code",
   "execution_count": null,
   "id": "7fb13d65",
   "metadata": {},
   "outputs": [],
   "source": [
    "k=dictionary"
   ]
  },
  {
   "cell_type": "code",
   "execution_count": null,
   "id": "ac38ea5a",
   "metadata": {},
   "outputs": [],
   "source": []
  },
  {
   "cell_type": "code",
   "execution_count": 4,
   "id": "218662d5",
   "metadata": {},
   "outputs": [],
   "source": [
    "# Functions:-"
   ]
  },
  {
   "cell_type": "code",
   "execution_count": null,
   "id": "6459a3bd",
   "metadata": {},
   "outputs": [],
   "source": [
    "* Its an atomic piece of code\n",
    "* Used to perform specific tasks\n",
    "* Functions hold state and they can communicate it back\n",
    "* Functions accept values"
   ]
  },
  {
   "cell_type": "code",
   "execution_count": null,
   "id": "ccbdc5e8",
   "metadata": {},
   "outputs": [],
   "source": [
    "def custom_sort(value1, values2): # Declaring a function\n",
    "    ....  # Body of the function - defining the function\n",
    "    ...\n",
    "    \n",
    "    ...\n",
    "    return x - 5\n",
    "\n",
    "values = [..]\n",
    "ret_vals = custom_sort(values[0], values[1]) # Calling the function"
   ]
  },
  {
   "cell_type": "code",
   "execution_count": 5,
   "id": "999b7da3",
   "metadata": {},
   "outputs": [
    {
     "name": "stdout",
     "output_type": "stream",
     "text": [
      "Hi: Virat\n"
     ]
    }
   ],
   "source": [
    "def print_msg(name): # parameters\n",
    "    print(\"Hi:\", name)\n",
    "    \n",
    "print_msg(\"Virat\") # arguments"
   ]
  },
  {
   "cell_type": "code",
   "execution_count": 7,
   "id": "677f94cd",
   "metadata": {},
   "outputs": [
    {
     "data": {
      "text/plain": [
       "(<function __main__.print_msg(name)>, function)"
      ]
     },
     "execution_count": 7,
     "metadata": {},
     "output_type": "execute_result"
    }
   ],
   "source": [
    "print_msg, type(print_msg)"
   ]
  },
  {
   "cell_type": "code",
   "execution_count": 8,
   "id": "4ab2af5a",
   "metadata": {},
   "outputs": [],
   "source": [
    "def print_msg(name): # parameters\n",
    "    msg = \"Hi: \" + name\n",
    "    return msg\n",
    "    \n",
    "res = print_msg(\"Virat\") # arguments"
   ]
  },
  {
   "cell_type": "code",
   "execution_count": 9,
   "id": "250a75a1",
   "metadata": {},
   "outputs": [
    {
     "data": {
      "text/plain": [
       "'Hi: Virat'"
      ]
     },
     "execution_count": 9,
     "metadata": {},
     "output_type": "execute_result"
    }
   ],
   "source": [
    "res"
   ]
  },
  {
   "cell_type": "code",
   "execution_count": null,
   "id": "72bcfa9b",
   "metadata": {},
   "outputs": [],
   "source": [
    "def buy_groceries(grocery_list):\n",
    "    # shop\n",
    "    # shop\n",
    "#     ...\n",
    "    return shop_dict # {\"item\": \"0.5 kg\", \"..\", \"..\", \"..\"}\n",
    "\n",
    "shop_list = {...}\n",
    "shopped_items = buy_groceries(shop_list)\n",
    "\n",
    "def buy_groceries2(grocery_list):\n",
    "    ...\n",
    "shopped_items2 = buy_groceries2(shop_list)\n",
    "    \n",
    "    \n",
    "def make_batter(items1, items2):\n",
    "#     ...\n",
    "    ...\n",
    "    ..\n",
    "    return batter_state\n",
    "\n",
    "# ... #\n",
    "\n",
    "batter_made = make_batter(shopped_items, shopped_items2)\n",
    "\n",
    "# next task"
   ]
  },
  {
   "cell_type": "code",
   "execution_count": 24,
   "id": "fc8a6da4",
   "metadata": {},
   "outputs": [],
   "source": [
    "# Documentation of the function\n",
    "# value: int (or) float\n",
    "# ...\n",
    "# returns True if value is a power of 2, False otherwise\n",
    "def check_if_square_is_power_of_two(value):\n",
    "#     pass # function does nothing\n",
    "    value = value**2\n",
    "    res = value & (value - 1) # repr binary\n",
    "    if not res:\n",
    "#         msg = \"Power of 2:\", x # return msg -> Not that great\n",
    "        return value, True # ensure every code flow returns something\n",
    "    else:\n",
    "        return value, False"
   ]
  },
  {
   "cell_type": "code",
   "execution_count": 25,
   "id": "2a16cafd",
   "metadata": {},
   "outputs": [
    {
     "name": "stdout",
     "output_type": "stream",
     "text": [
      "256 True\n"
     ]
    }
   ],
   "source": [
    "x = 16 # n inputs\n",
    "val, result = check_if_square_is_power_of_two(x)\n",
    "# next task ...\n",
    "print(val, result)"
   ]
  },
  {
   "cell_type": "code",
   "execution_count": null,
   "id": "80e48516",
   "metadata": {},
   "outputs": [],
   "source": [
    "What all can functions return/accept parameters:-\n",
    "* everything (every type)\n",
    "  * int, float, bool, str, list, tuple, dict, set\n",
    "  * None # task was unsuccessful\n",
    "* Multiple of them"
   ]
  },
  {
   "cell_type": "code",
   "execution_count": 26,
   "id": "7f050fa0",
   "metadata": {
    "collapsed": true
   },
   "outputs": [
    {
     "ename": "SyntaxError",
     "evalue": "invalid syntax (3493487793.py, line 1)",
     "output_type": "error",
     "traceback": [
      "\u001b[0;36m  File \u001b[0;32m\"/var/folders/wx/bxxcv1hd2fn6pgpvlymttc680000gn/T/ipykernel_14139/3493487793.py\"\u001b[0;36m, line \u001b[0;32m1\u001b[0m\n\u001b[0;31m    def f(...):\u001b[0m\n\u001b[0m          ^\u001b[0m\n\u001b[0;31mSyntaxError\u001b[0m\u001b[0;31m:\u001b[0m invalid syntax\n"
     ]
    }
   ],
   "source": [
    "# def f(...):\n",
    "#     if do something # Cpu utilization\n",
    "#         return f1\n",
    "#     elif do something\n",
    "#         return f2\n",
    "#     ..."
   ]
  },
  {
   "cell_type": "code",
   "execution_count": 31,
   "id": "a8a455a7",
   "metadata": {},
   "outputs": [
    {
     "name": "stdout",
     "output_type": "stream",
     "text": [
      "True\n"
     ]
    }
   ],
   "source": [
    "def fun(x, y):\n",
    "    res1 = x**y\n",
    "    res2 = y**x\n",
    "    return res1 > res2\n",
    "\n",
    "a = 2\n",
    "b = 5\n",
    "res = fun(a, b) # order matters\n",
    "print(res)"
   ]
  },
  {
   "cell_type": "code",
   "execution_count": 34,
   "id": "002ac9ce",
   "metadata": {},
   "outputs": [
    {
     "name": "stdout",
     "output_type": "stream",
     "text": [
      "[False, True, False, True, False]\n"
     ]
    }
   ],
   "source": [
    "def fun1(list_a, list_b):\n",
    "    results = []\n",
    "    for x, y in zip(list_a, list_b): \n",
    "        res1 = x**y\n",
    "        res2 = y**x\n",
    "        results.append(res1 > res2)\n",
    "    return results\n",
    "\n",
    "a = [1, 3, 2, 5, 2]\n",
    "b = [3, 4, 2, 1, 3]\n",
    "res = fun1(a, b) # order matters\n",
    "print(res)"
   ]
  },
  {
   "cell_type": "code",
   "execution_count": null,
   "id": "123a4379",
   "metadata": {},
   "outputs": [],
   "source": []
  },
  {
   "cell_type": "code",
   "execution_count": 35,
   "id": "47bdad38",
   "metadata": {},
   "outputs": [],
   "source": [
    "# Scope:-"
   ]
  },
  {
   "cell_type": "code",
   "execution_count": null,
   "id": "e548a674",
   "metadata": {},
   "outputs": [],
   "source": [
    "2 types:-\n",
    "* global scope (inside a python file)\n",
    "* local scope (inside a function)"
   ]
  },
  {
   "cell_type": "code",
   "execution_count": null,
   "id": "bdb94c23",
   "metadata": {},
   "outputs": [],
   "source": [
    "z = 25 # gs\n",
    "\n",
    "def fun(x, y): # x, y, res1, res2 local scopes\n",
    "    res1 = x**y\n",
    "    res2 = y**x\n",
    "    return res1 > res2\n",
    "\n",
    "a = 2 # gs\n",
    "b = 5 # gs\n",
    "res = fun(a, b) # res gs\n",
    "print(res)"
   ]
  },
  {
   "cell_type": "code",
   "execution_count": null,
   "id": "fd5b3bb6",
   "metadata": {},
   "outputs": [],
   "source": []
  },
  {
   "cell_type": "code",
   "execution_count": null,
   "id": "a527b4d8",
   "metadata": {},
   "outputs": [],
   "source": [
    "Advantages of functions:-\n",
    "* Code reusability -> Code quality (improve)\n",
    "* Ease to use, precise\n",
    "* Reduces (global) memory \n",
    "* Understanding, Debugging becomes easier\n",
    "* Break problem into sub-problem\n",
    "* Information abstraction\n",
    "* They provide a mechanism to define the behaviour of code\n",
    "* Functions can help you reduce the time taken (parallelize)\n",
    "    * 1000 tuples (parallelize call across these 1000 tuples)\n",
    "\n",
    "    \n",
    "Disadvantages:-\n",
    "* Introduces something called a black box\n",
    "* Scope needs to be monitored (references)"
   ]
  },
  {
   "cell_type": "code",
   "execution_count": null,
   "id": "f7c39968",
   "metadata": {},
   "outputs": [],
   "source": []
  },
  {
   "cell_type": "code",
   "execution_count": 37,
   "id": "73206fa8",
   "metadata": {},
   "outputs": [],
   "source": [
    "Pass by value & Pass by reference:-\n",
    "\n",
    "Pass by value:-\n",
    "* Mech to pass parameters to a function by value\n",
    "* Any modification inside the function does not affect the\n",
    "  global variables"
   ]
  },
  {
   "cell_type": "code",
   "execution_count": 38,
   "id": "a94db637",
   "metadata": {},
   "outputs": [
    {
     "name": "stdout",
     "output_type": "stream",
     "text": [
      "10\n",
      "25\n",
      "10\n"
     ]
    }
   ],
   "source": [
    "def no_modify(x):\n",
    "    print(x)\n",
    "    x = 25\n",
    "    print(x)\n",
    "\n",
    "y = 10\n",
    "no_modify(y) # int, float, bool is passed by value\n",
    "print(y)"
   ]
  },
  {
   "cell_type": "code",
   "execution_count": null,
   "id": "67d81c3f",
   "metadata": {},
   "outputs": [],
   "source": [
    "Pass by reference:-\n",
    "* Its a mech by which a new_reference is created to an existing value\n",
    "* Sequence types are PBR - list, tuple, set, str, dict\n",
    "* Objects are PBR\n",
    "\n",
    "Adv:-\n",
    "* Space saver\n",
    "\n",
    "Disadv:-\n",
    "* Affects the global vars (updated without knowledge- UHHHH)"
   ]
  },
  {
   "cell_type": "code",
   "execution_count": 39,
   "id": "23f4e865",
   "metadata": {},
   "outputs": [
    {
     "name": "stdout",
     "output_type": "stream",
     "text": [
      "140406884543360\n",
      "[1, 23, 12, 323]\n",
      "140406884543360\n",
      "[1, 23, 12, 323, 25]\n"
     ]
    }
   ],
   "source": [
    "def modify(list_a):\n",
    "    print(id(list_a))\n",
    "    list_a.append(25)\n",
    "    \n",
    "a = [1, 23, 12, 323]\n",
    "print(id(a))\n",
    "print(a)\n",
    "modify(a)\n",
    "print(a)"
   ]
  },
  {
   "cell_type": "code",
   "execution_count": 42,
   "id": "c78d17f9",
   "metadata": {},
   "outputs": [
    {
     "name": "stdout",
     "output_type": "stream",
     "text": [
      "140406898508672\n",
      "[1, 23, 12, 323]\n",
      "140406883313280\n",
      "[1, 23, 12, 323, 25]\n",
      "[1, 23, 12, 323]\n"
     ]
    }
   ],
   "source": [
    "def no_modify(list_a):\n",
    "    print(id(list_a))\n",
    "    list_a.append(25)\n",
    "    print(list_a)\n",
    "    \n",
    "a = [1, 23, 12, 323]\n",
    "print(id(a))\n",
    "print(a)\n",
    "no_modify(a.copy()) # a.copy(), list(a), a[:]\n",
    "print(a)"
   ]
  },
  {
   "cell_type": "code",
   "execution_count": 43,
   "id": "bb0000cb",
   "metadata": {},
   "outputs": [
    {
     "name": "stdout",
     "output_type": "stream",
     "text": [
      "140406886415712\n",
      "{1, 323, 12, 23}\n",
      "140406886415712\n",
      "{1, 323, 12, 23, 25}\n"
     ]
    }
   ],
   "source": [
    "def modify(x):\n",
    "    print(id(x))\n",
    "    x.add(25)\n",
    "    \n",
    "a = {1, 23, 12, 323}\n",
    "print(id(a))\n",
    "print(a)\n",
    "modify(a) # IF PBV - set(a), a.copy()\n",
    "print(a)"
   ]
  },
  {
   "cell_type": "code",
   "execution_count": 44,
   "id": "3c36d7fb",
   "metadata": {},
   "outputs": [
    {
     "name": "stdout",
     "output_type": "stream",
     "text": [
      "140406880482384\n",
      "140406880482384\n",
      "140406885159168\n",
      "(1, 23, 12, 323, 10, 20)\n",
      "(1, 23, 12, 323)\n"
     ]
    }
   ],
   "source": [
    "def modify(x):\n",
    "    print(id(x))\n",
    "    x = x + (10, 20)\n",
    "    print(id(x))\n",
    "    print(x)\n",
    "\n",
    "    \n",
    "a = (1, 23, 12, 323)\n",
    "print(id(a))\n",
    "modify(a)\n",
    "print(a)"
   ]
  },
  {
   "cell_type": "code",
   "execution_count": 47,
   "id": "7f0f858e",
   "metadata": {},
   "outputs": [
    {
     "name": "stdout",
     "output_type": "stream",
     "text": [
      "140406850489072\n",
      "hello\n",
      "140406884738864\n",
      "hello world\n"
     ]
    }
   ],
   "source": [
    "def modify(x):\n",
    "    print(id(x))\n",
    "    x = x + \" world\"\n",
    "    print(id(x))\n",
    "    print(x)\n",
    "\n",
    "    \n",
    "a = \"hello\"\n",
    "print(id(a))\n",
    "print(a)\n",
    "modify(a)\n",
    "print(a)"
   ]
  },
  {
   "cell_type": "code",
   "execution_count": 49,
   "id": "be912d42",
   "metadata": {},
   "outputs": [],
   "source": [
    "# list, tuple, int\n",
    "#  PBR,   PBR, PBV\n",
    "\n",
    "def fun(y):\n",
    "    pass # use when we dont know what the behaviour"
   ]
  },
  {
   "cell_type": "code",
   "execution_count": 51,
   "id": "df793293",
   "metadata": {},
   "outputs": [
    {
     "name": "stdout",
     "output_type": "stream",
     "text": [
      "None\n"
     ]
    }
   ],
   "source": [
    "x = 25\n",
    "res = fun(x)\n",
    "print(res)"
   ]
  },
  {
   "cell_type": "code",
   "execution_count": null,
   "id": "2defb1f9",
   "metadata": {},
   "outputs": [],
   "source": []
  }
 ],
 "metadata": {
  "kernelspec": {
   "display_name": "Python 3 (ipykernel)",
   "language": "python",
   "name": "python3"
  },
  "language_info": {
   "codemirror_mode": {
    "name": "ipython",
    "version": 3
   },
   "file_extension": ".py",
   "mimetype": "text/x-python",
   "name": "python",
   "nbconvert_exporter": "python",
   "pygments_lexer": "ipython3",
   "version": "3.10.0"
  }
 },
 "nbformat": 4,
 "nbformat_minor": 5
}
