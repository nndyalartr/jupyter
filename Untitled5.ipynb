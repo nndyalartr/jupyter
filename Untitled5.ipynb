{
 "cells": [
  {
   "cell_type": "code",
   "execution_count": 7,
   "id": "f61ba940",
   "metadata": {},
   "outputs": [
    {
     "name": "stdout",
     "output_type": "stream",
     "text": [
      "[1, 3, 5, 7, 9]\n"
     ]
    }
   ],
   "source": [
    "i = list(range(1,10,2))\n",
    "print(i)"
   ]
  },
  {
   "cell_type": "code",
   "execution_count": 75,
   "id": "feb0a782",
   "metadata": {},
   "outputs": [
    {
     "name": "stdout",
     "output_type": "stream",
     "text": [
      "2, 3, 5, 7, 11, 13, 17, 19, 23, 29, 31, 37, 41, 43, 47, 53, 59, 61, 67, 71, 73, 79, 83, 89, 97, "
     ]
    }
   ],
   "source": [
    "for num in range(1,100,1):\n",
    "    if num > 1:\n",
    "        for i in range(2,num):\n",
    "            if((num % i)==0):\n",
    "                break\n",
    "        else:\n",
    "            print(num,end=', ')  \n",
    "\n",
    "        "
   ]
  },
  {
   "cell_type": "code",
   "execution_count": 55,
   "id": "ccc2618f",
   "metadata": {},
   "outputs": [
    {
     "name": "stdout",
     "output_type": "stream",
     "text": [
      "1 7,1 9,1 11,2 7,2 9,2 11,3 7,3 9,3 11,4 7,4 9,4 11,5 7,5 9,5 11,6 7,6 9,6 11,7 7,7 9,7 11,8 7,8 9,8 11,9 7,9 9,9 11,10 7,10 9,10 11,11 7,11 9,11 11,12 7,12 9,12 11,13 7,13 9,13 11,14 7,14 9,14 11,15 7,15 9,15 11,16 7,16 9,16 11,17 7,17 9,17 11,18 7,18 9,18 11,19 7,19 9,19 11,"
     ]
    }
   ],
   "source": [
    "a = (range(1,20))\n",
    "b = (range(7,12,2))\n",
    "\n",
    "for i in range(len(a)):\n",
    "    count = 0\n",
    "    while count <len(b):\n",
    "        print(a[i],b[count],end=',')\n",
    "        count +=1"
   ]
  },
  {
   "cell_type": "code",
   "execution_count": 101,
   "id": "1745cd65",
   "metadata": {},
   "outputs": [
    {
     "name": "stdout",
     "output_type": "stream",
     "text": [
      "outer loop start\n",
      "1\n",
      "inner loop start\n",
      "12\n",
      "13\n",
      "14\n",
      "15\n",
      "outer loop start\n",
      "2\n",
      "inner loop start\n",
      "12\n",
      "13\n",
      "14\n",
      "15\n",
      "ravi\n",
      "outer loop start\n",
      "3\n",
      "inner loop start\n",
      "12\n",
      "13\n",
      "14\n",
      "15\n",
      "outer loop start\n",
      "4\n",
      "inner loop start\n",
      "12\n",
      "13\n",
      "14\n",
      "15\n",
      "ravi\n"
     ]
    }
   ],
   "source": [
    "for p in range(1,5):\n",
    "    print(\"outer loop start\")\n",
    "    print ( p)\n",
    "    print (\"inner loop start\")\n",
    "    for k in range(12,16):         \n",
    "        print(k)        \n",
    "    if (p==2 or p==4):\n",
    "        print(\"ravi\")\n",
    "    continue\n",
    "    "
   ]
  },
  {
   "cell_type": "code",
   "execution_count": null,
   "id": "4d0a9176",
   "metadata": {},
   "outputs": [],
   "source": []
  }
 ],
 "metadata": {
  "kernelspec": {
   "display_name": "Python 3 (ipykernel)",
   "language": "python",
   "name": "python3"
  },
  "language_info": {
   "codemirror_mode": {
    "name": "ipython",
    "version": 3
   },
   "file_extension": ".py",
   "mimetype": "text/x-python",
   "name": "python",
   "nbconvert_exporter": "python",
   "pygments_lexer": "ipython3",
   "version": "3.10.0"
  }
 },
 "nbformat": 4,
 "nbformat_minor": 5
}
