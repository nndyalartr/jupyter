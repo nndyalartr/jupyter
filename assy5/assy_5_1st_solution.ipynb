{
 "cells": [
  {
   "cell_type": "code",
   "execution_count": 1,
   "id": "b1fe7d38",
   "metadata": {},
   "outputs": [
    {
     "name": "stdout",
     "output_type": "stream",
     "text": [
      "10  power of  2  is :  100\n",
      "10  power of  3  is :  1000\n"
     ]
    }
   ],
   "source": [
    "class power:\n",
    "    def __init__(self,p,n):\n",
    "        self.number = p\n",
    "        self.exponent = n\n",
    "        self.po()\n",
    "    def po(self):\n",
    "        print(self.number, \" power of \", self.exponent, \" is : \",(self.number**self.exponent))\n",
    "k = power(10,2)\n",
    "l = power(10,3)"
   ]
  },
  {
   "cell_type": "code",
   "execution_count": null,
   "id": "cb2801d0",
   "metadata": {},
   "outputs": [],
   "source": []
  }
 ],
 "metadata": {
  "kernelspec": {
   "display_name": "Python 3 (ipykernel)",
   "language": "python",
   "name": "python3"
  },
  "language_info": {
   "codemirror_mode": {
    "name": "ipython",
    "version": 3
   },
   "file_extension": ".py",
   "mimetype": "text/x-python",
   "name": "python",
   "nbconvert_exporter": "python",
   "pygments_lexer": "ipython3",
   "version": "3.10.0"
  }
 },
 "nbformat": 4,
 "nbformat_minor": 5
}
