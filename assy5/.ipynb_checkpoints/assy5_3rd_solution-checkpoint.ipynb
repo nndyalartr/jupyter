{
 "cells": [
  {
   "cell_type": "code",
   "execution_count": 1,
   "id": "40f47379",
   "metadata": {},
   "outputs": [
    {
     "name": "stdout",
     "output_type": "stream",
     "text": [
      "1000\n",
      "None\n"
     ]
    }
   ],
   "source": [
    "class power:\n",
    "    def __init__(self,p,n):\n",
    "        self.number = p\n",
    "        self.exponent = n\n",
    "    def po(self):\n",
    "        powerof = (self.number**self.exponent)\n",
    "        print(\"power of the \", powerof)\n",
    "k = power(10,2)\n",
    "l = power(10,3)\n",
    "print(l.po())"
   ]
  },
  {
   "cell_type": "code",
   "execution_count": null,
   "id": "fa70e0fc",
   "metadata": {},
   "outputs": [],
   "source": []
  }
 ],
 "metadata": {
  "kernelspec": {
   "display_name": "Python 3 (ipykernel)",
   "language": "python",
   "name": "python3"
  },
  "language_info": {
   "codemirror_mode": {
    "name": "ipython",
    "version": 3
   },
   "file_extension": ".py",
   "mimetype": "text/x-python",
   "name": "python",
   "nbconvert_exporter": "python",
   "pygments_lexer": "ipython3",
   "version": "3.10.0"
  }
 },
 "nbformat": 4,
 "nbformat_minor": 5
}
