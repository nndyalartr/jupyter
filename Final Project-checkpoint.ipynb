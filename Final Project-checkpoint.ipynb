{
 "cells": [
  {
   "cell_type": "code",
   "execution_count": 14,
   "id": "ef5a5724",
   "metadata": {},
   "outputs": [],
   "source": [
    "class Restaurent:\n",
    "    def __init__(self):\n",
    "        self.food = {}\n",
    "        self.food_id = len(self.food)+1\n",
    "        #self.ordered_item = []\n",
    "        #self.personal_details = {}\n",
    "        self.food_items()\n",
    "        \n",
    "    def food_items(self):\n",
    "        self.name = input(\"Enter the food name\")\n",
    "        self.quantity = int(input(\"Enter the quantity : \"))\n",
    "        self.price = float(input(\"Enter the price : \"))\n",
    "        self.stock = int(input(\"Enter the stock in kg\"))\n",
    "        self.discount = int(input(\"Enter discount value\"))\n",
    "        self.item = {\"name\":self.name , \"quantity\":self.quantity , \"price\":self.price , \"stock\":self.stock ,\"discount\":self.discount}\n",
    "        self.food[self.food_id] = self.item\n",
    "        self.food_id = len(self.food)+1        \n",
    "        print(\"Item added successfully \\n\", self.food)\n",
    "        \n",
    "   "
   ]
  },
  {
   "cell_type": "code",
   "execution_count": 15,
   "id": "1b3d2aff",
   "metadata": {},
   "outputs": [
    {
     "name": "stdout",
     "output_type": "stream",
     "text": [
      "Enter the food namepappu\n",
      "Enter the quantity : 5\n",
      "Enter the price : 10\n",
      "Enter the stock in kg2\n",
      "Enter discount value3\n",
      "Item added successfully \n",
      " {1: {'name': 'pappu', 'quantity': 5, 'price': 10.0, 'stock': 2, 'discount': 3}}\n"
     ]
    }
   ],
   "source": [
    "c1 = Restaurent()\n",
    "#c1.food_items()"
   ]
  },
  {
   "cell_type": "code",
   "execution_count": 17,
   "id": "dbd16f82",
   "metadata": {},
   "outputs": [
    {
     "name": "stdout",
     "output_type": "stream",
     "text": [
      "Welcome to Food Ordering App\n",
      "\n",
      "Choose any one option from the following :\n",
      "1.Admin login \n",
      "2.User Login \n",
      "3.Exit\n",
      "\n",
      "2\n",
      "Enter your full name: esd\n",
      "Enter your phone number: 56\n",
      "Enter your email address: dfx\n",
      "Enter your address: fda\n",
      "Enter your password: dff\n"
     ]
    },
    {
     "ename": "TypeError",
     "evalue": "user() takes no arguments",
     "output_type": "error",
     "traceback": [
      "\u001b[1;31m---------------------------------------------------------------------------\u001b[0m",
      "\u001b[1;31mTypeError\u001b[0m                                 Traceback (most recent call last)",
      "\u001b[1;32m~\\AppData\\Local\\Temp/ipykernel_6248/2257343964.py\u001b[0m in \u001b[0;36m<module>\u001b[1;34m\u001b[0m\n\u001b[0;32m    287\u001b[0m \u001b[1;33m\u001b[0m\u001b[0m\n\u001b[0;32m    288\u001b[0m \u001b[0mprint\u001b[0m\u001b[1;33m(\u001b[0m\u001b[1;34m\"Welcome to Food Ordering App\"\u001b[0m\u001b[1;33m)\u001b[0m\u001b[1;33m\u001b[0m\u001b[1;33m\u001b[0m\u001b[0m\n\u001b[1;32m--> 289\u001b[1;33m \u001b[0mchoose\u001b[0m\u001b[1;33m(\u001b[0m\u001b[1;33m)\u001b[0m\u001b[1;33m\u001b[0m\u001b[1;33m\u001b[0m\u001b[0m\n\u001b[0m",
      "\u001b[1;32m~\\AppData\\Local\\Temp/ipykernel_6248/2257343964.py\u001b[0m in \u001b[0;36mchoose\u001b[1;34m()\u001b[0m\n\u001b[0;32m    281\u001b[0m     \u001b[0mprint\u001b[0m\u001b[1;33m(\u001b[0m\u001b[1;34m\"\\nChoose any one option from the following :\"\u001b[0m\u001b[1;33m)\u001b[0m\u001b[1;33m\u001b[0m\u001b[1;33m\u001b[0m\u001b[0m\n\u001b[0;32m    282\u001b[0m     \u001b[0mprint\u001b[0m\u001b[1;33m(\u001b[0m\u001b[1;34m\"1.Admin login \\n2.User Login \\n3.Exit\\n\"\u001b[0m\u001b[1;33m)\u001b[0m\u001b[1;33m\u001b[0m\u001b[1;33m\u001b[0m\u001b[0m\n\u001b[1;32m--> 283\u001b[1;33m     take_input([[\"Tandoori Chicken\",\"4 pieces\",\"INR 240\",\"10% OFF\",2],\n\u001b[0m\u001b[0;32m    284\u001b[0m     \u001b[1;33m[\u001b[0m\u001b[1;34m\"Vegan Burger\"\u001b[0m\u001b[1;33m,\u001b[0m\u001b[1;34m\"1 piece\"\u001b[0m\u001b[1;33m,\u001b[0m\u001b[1;34m\"INR 320\"\u001b[0m\u001b[1;33m,\u001b[0m\u001b[1;34m\"10% OFF\"\u001b[0m\u001b[1;33m,\u001b[0m\u001b[1;36m2\u001b[0m\u001b[1;33m]\u001b[0m\u001b[1;33m,\u001b[0m\u001b[1;33m\u001b[0m\u001b[1;33m\u001b[0m\u001b[0m\n\u001b[0;32m    285\u001b[0m     [\"Truffle Cake\",\"500 gm\",\"INR 900\",\"10% OFF\",2]],[])\n",
      "\u001b[1;32m~\\AppData\\Local\\Temp/ipykernel_6248/2257343964.py\u001b[0m in \u001b[0;36mtake_input\u001b[1;34m(food_data, prev_orders)\u001b[0m\n\u001b[0;32m    267\u001b[0m             \u001b[0maddress\u001b[0m\u001b[1;33m=\u001b[0m\u001b[0minput\u001b[0m\u001b[1;33m(\u001b[0m\u001b[1;34m\"Enter your address: \"\u001b[0m\u001b[1;33m)\u001b[0m\u001b[1;33m\u001b[0m\u001b[1;33m\u001b[0m\u001b[0m\n\u001b[0;32m    268\u001b[0m             \u001b[0mpassword\u001b[0m\u001b[1;33m=\u001b[0m\u001b[0minput\u001b[0m\u001b[1;33m(\u001b[0m\u001b[1;34m\"Enter your password: \"\u001b[0m\u001b[1;33m)\u001b[0m\u001b[1;33m\u001b[0m\u001b[1;33m\u001b[0m\u001b[0m\n\u001b[1;32m--> 269\u001b[1;33m             \u001b[0mcreate_user\u001b[0m\u001b[1;33m=\u001b[0m\u001b[0muser\u001b[0m\u001b[1;33m(\u001b[0m\u001b[0memail\u001b[0m\u001b[1;33m,\u001b[0m\u001b[0mpassword\u001b[0m\u001b[1;33m,\u001b[0m\u001b[0mfull_name\u001b[0m\u001b[1;33m,\u001b[0m\u001b[0mphone\u001b[0m\u001b[1;33m,\u001b[0m\u001b[0maddress\u001b[0m\u001b[1;33m,\u001b[0m\u001b[0mfood_data\u001b[0m\u001b[1;33m,\u001b[0m\u001b[0mprev_orders\u001b[0m\u001b[1;33m)\u001b[0m\u001b[1;33m\u001b[0m\u001b[1;33m\u001b[0m\u001b[0m\n\u001b[0m\u001b[0;32m    270\u001b[0m             \u001b[0mcreate_user\u001b[0m\u001b[1;33m.\u001b[0m\u001b[0mcreate\u001b[0m\u001b[1;33m(\u001b[0m\u001b[1;33m)\u001b[0m\u001b[1;33m\u001b[0m\u001b[1;33m\u001b[0m\u001b[0m\n\u001b[0;32m    271\u001b[0m         \u001b[1;32melif\u001b[0m \u001b[0muser_input\u001b[0m\u001b[1;33m==\u001b[0m\u001b[1;34m\"3\"\u001b[0m\u001b[1;33m:\u001b[0m\u001b[1;33m\u001b[0m\u001b[1;33m\u001b[0m\u001b[0m\n",
      "\u001b[1;31mTypeError\u001b[0m: user() takes no arguments"
     ]
    }
   ],
   "source": []
  },
  {
   "cell_type": "code",
   "execution_count": null,
   "id": "57246b87",
   "metadata": {},
   "outputs": [],
   "source": []
  }
 ],
 "metadata": {
  "kernelspec": {
   "display_name": "Python 3 (ipykernel)",
   "language": "python",
   "name": "python3"
  },
  "language_info": {
   "codemirror_mode": {
    "name": "ipython",
    "version": 3
   },
   "file_extension": ".py",
   "mimetype": "text/x-python",
   "name": "python",
   "nbconvert_exporter": "python",
   "pygments_lexer": "ipython3",
   "version": "3.10.0"
  }
 },
 "nbformat": 4,
 "nbformat_minor": 5
}
