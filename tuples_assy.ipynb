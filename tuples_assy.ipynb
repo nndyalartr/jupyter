{
 "cells": [
  {
   "cell_type": "code",
   "execution_count": 85,
   "id": "92007660",
   "metadata": {},
   "outputs": [
    {
     "name": "stdout",
     "output_type": "stream",
     "text": [
      "[(2, 1), (1, 2), (2, 3), (4, 4), (2, 5)]\n"
     ]
    }
   ],
   "source": [
    "def last(n): return n[-1]\n",
    "\n",
    "def sort_list_last(tuples):\n",
    "  return sorted(tuples, key=last)\n",
    "p=[(2, 5), (1, 2), (4, 4), (2, 3), (2, 1)]\n",
    "print(sort_list_last(p))\n"
   ]
  },
  {
   "cell_type": "code",
   "execution_count": null,
   "id": "ac485fa9",
   "metadata": {},
   "outputs": [],
   "source": [
    "values = []\n",
    "print(\"Enter -1 -1 to finish input\")\n",
    "while True:\n",
    "    ip = input(\"Enter two numeric values separated by space:\")\n",
    "    x, y = ip.split(\" \")\n",
    "    if int(x) == -1 and int(y) == -1:\n",
    "        break\n",
    "    values.append((int(x), int(y)))"
   ]
  },
  {
   "cell_type": "code",
   "execution_count": 7,
   "id": "5d2ee279",
   "metadata": {},
   "outputs": [
    {
     "data": {
      "text/plain": [
       "[(1, 2), (2, 8)]"
      ]
     },
     "execution_count": 7,
     "metadata": {},
     "output_type": "execute_result"
    }
   ],
   "source": [
    "values"
   ]
  },
  {
   "cell_type": "code",
   "execution_count": 86,
   "id": "bf87396d",
   "metadata": {},
   "outputs": [
    {
     "name": "stdout",
     "output_type": "stream",
     "text": [
      "aklup\n"
     ]
    }
   ],
   "source": [
    "def pk(rev):\n",
    "    reverse = rev[::-1]\n",
    "    print(reverse)\n",
    "s = (\"pulka\")\n",
    "result = pk(s)"
   ]
  },
  {
   "cell_type": "code",
   "execution_count": 90,
   "id": "49f2c76c",
   "metadata": {},
   "outputs": [
    {
     "name": "stdout",
     "output_type": "stream",
     "text": [
      "3 5 7 11 13 17 19 23 29 31 37 41 43 47 "
     ]
    }
   ],
   "source": [
    "def rrr():\n",
    "    for i in range(50):\n",
    "        if i>2:\n",
    "            for k in range(2,i):\n",
    "                if (i % k)==0:\n",
    "                    break\n",
    "            else:\n",
    "                print(i, end=\" \")\n",
    "rrr()"
   ]
  },
  {
   "cell_type": "code",
   "execution_count": 74,
   "id": "5935fdb7",
   "metadata": {},
   "outputs": [
    {
     "name": "stdout",
     "output_type": "stream",
     "text": [
      "{0, 1, 2, 3, 4, 5, 6, 7, 8, 9, 10, 11, 12, 13, 14, 15, 16, 17, 18, 19, 20, 21, 22, 23, 24, 25, 26, 27, 28, 29, 30, 31, 32, 33, 34, 35, 36, 37, 38, 39, 40, 41, 42, 43, 44, 45, 46, 47, 48, 49}\n"
     ]
    }
   ],
   "source": [
    "k = set(range(50))\n",
    "print(k)"
   ]
  },
  {
   "cell_type": "code",
   "execution_count": 88,
   "id": "d16b282a",
   "metadata": {},
   "outputs": [
    {
     "name": "stdout",
     "output_type": "stream",
     "text": [
      "3 5 7 11 13 17 19 23 29 31 37 41 43 47 None\n"
     ]
    }
   ],
   "source": [
    "print(rrr())"
   ]
  },
  {
   "cell_type": "code",
   "execution_count": 91,
   "id": "0a586724",
   "metadata": {},
   "outputs": [],
   "source": [
    "import math\n"
   ]
  },
  {
   "cell_type": "code",
   "execution_count": 93,
   "id": "aa04be23",
   "metadata": {},
   "outputs": [
    {
     "ename": "SyntaxError",
     "evalue": "invalid syntax (Temp/ipykernel_12332/3065929434.py, line 1)",
     "output_type": "error",
     "traceback": [
      "\u001b[1;36m  File \u001b[1;32m\"C:\\Users\\LENOVO\\AppData\\Local\\Temp/ipykernel_12332/3065929434.py\"\u001b[1;36m, line \u001b[1;32m1\u001b[0m\n\u001b[1;33m    print(.asin(7))\u001b[0m\n\u001b[1;37m          ^\u001b[0m\n\u001b[1;31mSyntaxError\u001b[0m\u001b[1;31m:\u001b[0m invalid syntax\n"
     ]
    }
   ],
   "source": [
    "print(.asin(7))"
   ]
  },
  {
   "cell_type": "code",
   "execution_count": null,
   "id": "3dedf0ec",
   "metadata": {},
   "outputs": [],
   "source": []
  }
 ],
 "metadata": {
  "kernelspec": {
   "display_name": "Python 3 (ipykernel)",
   "language": "python",
   "name": "python3"
  },
  "language_info": {
   "codemirror_mode": {
    "name": "ipython",
    "version": 3
   },
   "file_extension": ".py",
   "mimetype": "text/x-python",
   "name": "python",
   "nbconvert_exporter": "python",
   "pygments_lexer": "ipython3",
   "version": "3.10.0"
  }
 },
 "nbformat": 4,
 "nbformat_minor": 5
}
