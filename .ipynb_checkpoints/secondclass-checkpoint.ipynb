{
 "cells": [
  {
   "cell_type": "code",
   "execution_count": null,
   "id": "66660d11",
   "metadata": {},
   "outputs": [],
   "source": [
    "# jupyter notebook"
   ]
  },
  {
   "cell_type": "code",
   "execution_count": 2,
   "id": "cecc536d",
   "metadata": {},
   "outputs": [],
   "source": [
    "data1 = [\"kiwi\", \"pulka\", \"mango\"]"
   ]
  },
  {
   "cell_type": "code",
   "execution_count": 3,
   "id": "0c359a9a",
   "metadata": {},
   "outputs": [
    {
     "data": {
      "text/plain": [
       "['kiwi', 'pulka', 'mango']"
      ]
     },
     "execution_count": 3,
     "metadata": {},
     "output_type": "execute_result"
    }
   ],
   "source": [
    "data1"
   ]
  },
  {
   "cell_type": "code",
   "execution_count": 7,
   "id": "5e7aa670",
   "metadata": {},
   "outputs": [
    {
     "data": {
      "text/plain": [
       "3"
      ]
     },
     "execution_count": 7,
     "metadata": {},
     "output_type": "execute_result"
    }
   ],
   "source": [
    "len(data1)"
   ]
  },
  {
   "cell_type": "code",
   "execution_count": 28,
   "id": "1b00f988",
   "metadata": {},
   "outputs": [
    {
     "data": {
      "text/plain": [
       "120"
      ]
     },
     "execution_count": 28,
     "metadata": {},
     "output_type": "execute_result"
    }
   ],
   "source": [
    "sys.getsizeof(data1)"
   ]
  },
  {
   "cell_type": "code",
   "execution_count": 14,
   "id": "c9a9b938",
   "metadata": {},
   "outputs": [],
   "source": [
    "x=53\n"
   ]
  },
  {
   "cell_type": "code",
   "execution_count": 15,
   "id": "73dae6d7",
   "metadata": {},
   "outputs": [
    {
     "data": {
      "text/plain": [
       "2305801258864"
      ]
     },
     "execution_count": 15,
     "metadata": {},
     "output_type": "execute_result"
    }
   ],
   "source": [
    "id(x)"
   ]
  },
  {
   "cell_type": "code",
   "execution_count": 17,
   "id": "45c17ca1",
   "metadata": {},
   "outputs": [],
   "source": [
    "a=\"hellow\""
   ]
  },
  {
   "cell_type": "code",
   "execution_count": 20,
   "id": "3d38dee4",
   "metadata": {},
   "outputs": [],
   "source": [
    "id(a)\n",
    "import sys"
   ]
  },
  {
   "cell_type": "code",
   "execution_count": 21,
   "id": "f2222d8b",
   "metadata": {},
   "outputs": [
    {
     "data": {
      "text/plain": [
       "55"
      ]
     },
     "execution_count": 21,
     "metadata": {},
     "output_type": "execute_result"
    }
   ],
   "source": [
    "sys.getsizeof(a)"
   ]
  },
  {
   "cell_type": "code",
   "execution_count": 26,
   "id": "cf8f1b12",
   "metadata": {},
   "outputs": [],
   "source": [
    "vals ={\"abc\", 1235, \"kiran\",-356,\"bb\"} #this is sets&dictionary model"
   ]
  },
  {
   "cell_type": "code",
   "execution_count": 27,
   "id": "45953ba9",
   "metadata": {},
   "outputs": [
    {
     "data": {
      "text/plain": [
       "{-356, 1235, 'abc', 'bb', 'kiran'}"
      ]
     },
     "execution_count": 27,
     "metadata": {},
     "output_type": "execute_result"
    }
   ],
   "source": [
    "vals"
   ]
  },
  {
   "cell_type": "code",
   "execution_count": 29,
   "id": "235c4f6d",
   "metadata": {},
   "outputs": [],
   "source": [
    "k=(\"pldf\",\"jjhg\",\"jhhgj\")"
   ]
  },
  {
   "cell_type": "code",
   "execution_count": 36,
   "id": "3d37a59b",
   "metadata": {},
   "outputs": [
    {
     "data": {
      "text/plain": [
       "tuple"
      ]
     },
     "execution_count": 36,
     "metadata": {},
     "output_type": "execute_result"
    }
   ],
   "source": [
    "type(k)"
   ]
  },
  {
   "cell_type": "code",
   "execution_count": 30,
   "id": "9b56372d",
   "metadata": {},
   "outputs": [],
   "source": [
    "p=set(k)"
   ]
  },
  {
   "cell_type": "code",
   "execution_count": 33,
   "id": "b34f7037",
   "metadata": {},
   "outputs": [
    {
     "data": {
      "text/plain": [
       "{'jhhgj', 'jjhg', 'pldf'}"
      ]
     },
     "execution_count": 33,
     "metadata": {},
     "output_type": "execute_result"
    }
   ],
   "source": [
    "p"
   ]
  },
  {
   "cell_type": "code",
   "execution_count": 35,
   "id": "0d6c3645",
   "metadata": {},
   "outputs": [
    {
     "data": {
      "text/plain": [
       "set"
      ]
     },
     "execution_count": 35,
     "metadata": {},
     "output_type": "execute_result"
    }
   ],
   "source": [
    "type(p)"
   ]
  },
  {
   "cell_type": "code",
   "execution_count": 37,
   "id": "4fe27f57",
   "metadata": {},
   "outputs": [],
   "source": [
    "l=tuple(p)"
   ]
  },
  {
   "cell_type": "code",
   "execution_count": 38,
   "id": "4138d0d9",
   "metadata": {},
   "outputs": [
    {
     "data": {
      "text/plain": [
       "('jhhgj', 'pldf', 'jjhg')"
      ]
     },
     "execution_count": 38,
     "metadata": {},
     "output_type": "execute_result"
    }
   ],
   "source": [
    "l"
   ]
  },
  {
   "cell_type": "code",
   "execution_count": 42,
   "id": "30c8ea7b",
   "metadata": {},
   "outputs": [],
   "source": [
    "h=\"abc 121 defg\""
   ]
  },
  {
   "cell_type": "code",
   "execution_count": 43,
   "id": "96951e3e",
   "metadata": {},
   "outputs": [],
   "source": [
    "y=list(h)"
   ]
  },
  {
   "cell_type": "code",
   "execution_count": 44,
   "id": "d9190085",
   "metadata": {},
   "outputs": [
    {
     "data": {
      "text/plain": [
       "['a', 'b', 'c', ' ', '1', '2', '1', ' ', 'd', 'e', 'f', 'g']"
      ]
     },
     "execution_count": 44,
     "metadata": {},
     "output_type": "execute_result"
    }
   ],
   "source": [
    "y"
   ]
  },
  {
   "cell_type": "code",
   "execution_count": 45,
   "id": "7776637b",
   "metadata": {},
   "outputs": [],
   "source": [
    "pulka={\"jako\", \"langalodu\", \"tamukutamari\",\"donganayalu\",\"gomathi\"}"
   ]
  },
  {
   "cell_type": "code",
   "execution_count": 46,
   "id": "8e80febe",
   "metadata": {},
   "outputs": [
    {
     "data": {
      "text/plain": [
       "{'donganayalu', 'gomathi', 'jako', 'langalodu', 'tamukutamari'}"
      ]
     },
     "execution_count": 46,
     "metadata": {},
     "output_type": "execute_result"
    }
   ],
   "source": [
    "pulka"
   ]
  },
  {
   "cell_type": "code",
   "execution_count": 48,
   "id": "127191f0",
   "metadata": {},
   "outputs": [
    {
     "data": {
      "text/plain": [
       "set"
      ]
     },
     "execution_count": 48,
     "metadata": {},
     "output_type": "execute_result"
    }
   ],
   "source": [
    "type(pulka)"
   ]
  },
  {
   "cell_type": "code",
   "execution_count": 104,
   "id": "1184866a",
   "metadata": {},
   "outputs": [],
   "source": [
    "ap={102.5:{\"name\":\"ravi\",\"sl_no\":102,\"grade\":\"b\",\"class\":5},\n",
    "    \"pa\":{\"name\":\"santosh\",\"sl_no\":103,\"grade\":\"b\",\"class\":5},\n",
    "    \"pf\":{\"name\":\"chandu\",\"sl_no\":104,\"grade\":\"d\",\"class\":5},\n",
    "    \"pd\":{\"sl_no\":102,\"grade\":\"b\",\"class\":5,\"name\":\"ravi\"}}"
   ]
  },
  {
   "cell_type": "code",
   "execution_count": 105,
   "id": "b96d244c",
   "metadata": {},
   "outputs": [
    {
     "data": {
      "text/plain": [
       "{102.5: {'name': 'ravi', 'sl_no': 102, 'grade': 'b', 'class': 5},\n",
       " 'pa': {'name': 'santosh', 'sl_no': 103, 'grade': 'b', 'class': 5},\n",
       " 'pf': {'name': 'chandu', 'sl_no': 104, 'grade': 'd', 'class': 5},\n",
       " 'pd': {'sl_no': 102, 'grade': 'b', 'class': 5, 'name': 'ravi'}}"
      ]
     },
     "execution_count": 105,
     "metadata": {},
     "output_type": "execute_result"
    }
   ],
   "source": [
    "ap"
   ]
  },
  {
   "cell_type": "code",
   "execution_count": 107,
   "id": "427a74d5",
   "metadata": {},
   "outputs": [
    {
     "data": {
      "text/plain": [
       "{'name': 'ravi', 'sl_no': 102, 'grade': 'b', 'class': 5}"
      ]
     },
     "execution_count": 107,
     "metadata": {},
     "output_type": "execute_result"
    }
   ],
   "source": [
    "ap[102.5]"
   ]
  },
  {
   "cell_type": "code",
   "execution_count": 98,
   "id": "affe6fc5",
   "metadata": {},
   "outputs": [
    {
     "data": {
      "text/plain": [
       "102"
      ]
     },
     "execution_count": 98,
     "metadata": {},
     "output_type": "execute_result"
    }
   ],
   "source": [
    "ap[102.5][\"sl_no\"]"
   ]
  },
  {
   "cell_type": "code",
   "execution_count": 100,
   "id": "a8647e96",
   "metadata": {},
   "outputs": [
    {
     "data": {
      "text/plain": [
       "102.5"
      ]
     },
     "execution_count": 100,
     "metadata": {},
     "output_type": "execute_result"
    }
   ],
   "source": []
  },
  {
   "cell_type": "code",
   "execution_count": 99,
   "id": "7e6856b5",
   "metadata": {},
   "outputs": [
    {
     "data": {
      "text/plain": [
       "float"
      ]
     },
     "execution_count": 99,
     "metadata": {},
     "output_type": "execute_result"
    }
   ],
   "source": [
    "type(102.5)"
   ]
  },
  {
   "cell_type": "code",
   "execution_count": 75,
   "id": "84c69b64",
   "metadata": {},
   "outputs": [
    {
     "data": {
      "text/plain": [
       "{'name': 'ravi', 'sl_no': 102, 'grade': 'b', 'class': 5}"
      ]
     },
     "execution_count": 75,
     "metadata": {},
     "output_type": "execute_result"
    }
   ],
   "source": [
    "pp"
   ]
  },
  {
   "cell_type": "code",
   "execution_count": 76,
   "id": "c877c871",
   "metadata": {},
   "outputs": [
    {
     "data": {
      "text/plain": [
       "'ravi'"
      ]
     },
     "execution_count": 76,
     "metadata": {},
     "output_type": "execute_result"
    }
   ],
   "source": [
    "pp[\"name\"]"
   ]
  },
  {
   "cell_type": "code",
   "execution_count": null,
   "id": "ef9b1ffc",
   "metadata": {},
   "outputs": [],
   "source": []
  },
  {
   "cell_type": "code",
   "execution_count": 6,
   "id": "5480d1a4",
   "metadata": {},
   "outputs": [
    {
     "ename": "NameError",
     "evalue": "name 'pp' is not defined",
     "output_type": "error",
     "traceback": [
      "\u001b[1;31m---------------------------------------------------------------------------\u001b[0m",
      "\u001b[1;31mNameError\u001b[0m                                 Traceback (most recent call last)",
      "\u001b[1;32m~\\AppData\\Local\\Temp/ipykernel_12684/3633189688.py\u001b[0m in \u001b[0;36m<module>\u001b[1;34m\u001b[0m\n\u001b[1;32m----> 1\u001b[1;33m \u001b[0mpp\u001b[0m\u001b[1;33m\u001b[0m\u001b[1;33m\u001b[0m\u001b[0m\n\u001b[0m",
      "\u001b[1;31mNameError\u001b[0m: name 'pp' is not defined"
     ]
    }
   ],
   "source": [
    "pp"
   ]
  },
  {
   "cell_type": "code",
   "execution_count": 60,
   "id": "03cfd1ea",
   "metadata": {},
   "outputs": [
    {
     "data": {
      "text/plain": [
       "dict"
      ]
     },
     "execution_count": 60,
     "metadata": {},
     "output_type": "execute_result"
    }
   ],
   "source": [
    "type(pp)"
   ]
  },
  {
   "cell_type": "code",
   "execution_count": 61,
   "id": "5f31ad41",
   "metadata": {},
   "outputs": [
    {
     "data": {
      "text/plain": [
       "'ravi'"
      ]
     },
     "execution_count": 61,
     "metadata": {},
     "output_type": "execute_result"
    }
   ],
   "source": [
    "pp[\"name\"]"
   ]
  },
  {
   "cell_type": "code",
   "execution_count": null,
   "id": "7323f48a",
   "metadata": {},
   "outputs": [],
   "source": [
    "langa={101:{\"name:\"}}"
   ]
  },
  {
   "cell_type": "code",
   "execution_count": 78,
   "id": "8025497d",
   "metadata": {},
   "outputs": [],
   "source": [
    "kp=str(\"pp\")"
   ]
  },
  {
   "cell_type": "code",
   "execution_count": 5,
   "id": "79aca848",
   "metadata": {},
   "outputs": [
    {
     "ename": "NameError",
     "evalue": "name 'kp' is not defined",
     "output_type": "error",
     "traceback": [
      "\u001b[1;31m---------------------------------------------------------------------------\u001b[0m",
      "\u001b[1;31mNameError\u001b[0m                                 Traceback (most recent call last)",
      "\u001b[1;32m~\\AppData\\Local\\Temp/ipykernel_12684/3144644393.py\u001b[0m in \u001b[0;36m<module>\u001b[1;34m\u001b[0m\n\u001b[1;32m----> 1\u001b[1;33m \u001b[0mkp\u001b[0m\u001b[1;33m\u001b[0m\u001b[1;33m\u001b[0m\u001b[0m\n\u001b[0m",
      "\u001b[1;31mNameError\u001b[0m: name 'kp' is not defined"
     ]
    }
   ],
   "source": [
    "kp"
   ]
  },
  {
   "cell_type": "code",
   "execution_count": 2,
   "id": "21086d38",
   "metadata": {},
   "outputs": [
    {
     "ename": "NameError",
     "evalue": "name 'pp' is not defined",
     "output_type": "error",
     "traceback": [
      "\u001b[1;31m---------------------------------------------------------------------------\u001b[0m",
      "\u001b[1;31mNameError\u001b[0m                                 Traceback (most recent call last)",
      "\u001b[1;32m~\\AppData\\Local\\Temp/ipykernel_12684/3633189688.py\u001b[0m in \u001b[0;36m<module>\u001b[1;34m\u001b[0m\n\u001b[1;32m----> 1\u001b[1;33m \u001b[0mpp\u001b[0m\u001b[1;33m\u001b[0m\u001b[1;33m\u001b[0m\u001b[0m\n\u001b[0m",
      "\u001b[1;31mNameError\u001b[0m: name 'pp' is not defined"
     ]
    }
   ],
   "source": [
    "pp"
   ]
  },
  {
   "cell_type": "code",
   "execution_count": 3,
   "id": "f11a0a08",
   "metadata": {},
   "outputs": [
    {
     "ename": "NameError",
     "evalue": "name 'pp' is not defined",
     "output_type": "error",
     "traceback": [
      "\u001b[1;31m---------------------------------------------------------------------------\u001b[0m",
      "\u001b[1;31mNameError\u001b[0m                                 Traceback (most recent call last)",
      "\u001b[1;32m~\\AppData\\Local\\Temp/ipykernel_12684/1838032113.py\u001b[0m in \u001b[0;36m<module>\u001b[1;34m\u001b[0m\n\u001b[1;32m----> 1\u001b[1;33m \u001b[0mkp\u001b[0m\u001b[1;33m=\u001b[0m\u001b[0mlist\u001b[0m\u001b[1;33m(\u001b[0m\u001b[0mpp\u001b[0m\u001b[1;33m)\u001b[0m\u001b[1;33m\u001b[0m\u001b[1;33m\u001b[0m\u001b[0m\n\u001b[0m",
      "\u001b[1;31mNameError\u001b[0m: name 'pp' is not defined"
     ]
    }
   ],
   "source": [
    "kp=list(pp)"
   ]
  },
  {
   "cell_type": "code",
   "execution_count": 4,
   "id": "28b0abc4",
   "metadata": {},
   "outputs": [
    {
     "ename": "NameError",
     "evalue": "name 'kp' is not defined",
     "output_type": "error",
     "traceback": [
      "\u001b[1;31m---------------------------------------------------------------------------\u001b[0m",
      "\u001b[1;31mNameError\u001b[0m                                 Traceback (most recent call last)",
      "\u001b[1;32m~\\AppData\\Local\\Temp/ipykernel_12684/3144644393.py\u001b[0m in \u001b[0;36m<module>\u001b[1;34m\u001b[0m\n\u001b[1;32m----> 1\u001b[1;33m \u001b[0mkp\u001b[0m\u001b[1;33m\u001b[0m\u001b[1;33m\u001b[0m\u001b[0m\n\u001b[0m",
      "\u001b[1;31mNameError\u001b[0m: name 'kp' is not defined"
     ]
    }
   ],
   "source": [
    "kp"
   ]
  },
  {
   "cell_type": "code",
   "execution_count": 87,
   "id": "79cf76ef",
   "metadata": {},
   "outputs": [
    {
     "data": {
      "text/plain": [
       "str"
      ]
     },
     "execution_count": 87,
     "metadata": {},
     "output_type": "execute_result"
    }
   ],
   "source": [
    "type(kp)"
   ]
  },
  {
   "cell_type": "code",
   "execution_count": 88,
   "id": "1a9de954",
   "metadata": {},
   "outputs": [],
   "source": [
    "hp=\"1025.6\""
   ]
  },
  {
   "cell_type": "code",
   "execution_count": 89,
   "id": "5fce08fe",
   "metadata": {},
   "outputs": [],
   "source": [
    "ll=float(hp)"
   ]
  },
  {
   "cell_type": "code",
   "execution_count": 90,
   "id": "7a856453",
   "metadata": {},
   "outputs": [
    {
     "data": {
      "text/plain": [
       "1025.6"
      ]
     },
     "execution_count": 90,
     "metadata": {},
     "output_type": "execute_result"
    }
   ],
   "source": [
    "ll"
   ]
  },
  {
   "cell_type": "code",
   "execution_count": 91,
   "id": "9d1786d4",
   "metadata": {},
   "outputs": [
    {
     "data": {
      "text/plain": [
       "float"
      ]
     },
     "execution_count": 91,
     "metadata": {},
     "output_type": "execute_result"
    }
   ],
   "source": [
    "type(ll)"
   ]
  },
  {
   "cell_type": "code",
   "execution_count": 92,
   "id": "4aaa8ae1",
   "metadata": {},
   "outputs": [
    {
     "data": {
      "text/plain": [
       "1025.6"
      ]
     },
     "execution_count": 92,
     "metadata": {},
     "output_type": "execute_result"
    }
   ],
   "source": [
    "ll"
   ]
  },
  {
   "cell_type": "code",
   "execution_count": 93,
   "id": "159796f2",
   "metadata": {},
   "outputs": [],
   "source": [
    "hh=int(ll)"
   ]
  },
  {
   "cell_type": "code",
   "execution_count": 94,
   "id": "72d20c78",
   "metadata": {},
   "outputs": [
    {
     "data": {
      "text/plain": [
       "1025"
      ]
     },
     "execution_count": 94,
     "metadata": {},
     "output_type": "execute_result"
    }
   ],
   "source": [
    "hh"
   ]
  },
  {
   "cell_type": "code",
   "execution_count": 95,
   "id": "5c28eb67",
   "metadata": {},
   "outputs": [
    {
     "data": {
      "text/plain": [
       "int"
      ]
     },
     "execution_count": 95,
     "metadata": {},
     "output_type": "execute_result"
    }
   ],
   "source": [
    "type(hh)"
   ]
  },
  {
   "cell_type": "markdown",
   "id": "64dc738d",
   "metadata": {},
   "source": [
    "# memory allocation 2nd dec class"
   ]
  },
  {
   "cell_type": "code",
   "execution_count": null,
   "id": "c2a57726",
   "metadata": {},
   "outputs": [],
   "source": [
    "#int(), float(), bool(), list() int/float/bool/list are the pre defined function and anythning inside () will be a method calls"
   ]
  },
  {
   "cell_type": "code",
   "execution_count": null,
   "id": "8bf02dd2",
   "metadata": {},
   "outputs": [],
   "source": [
    "#php is hyper text preprocessor. use to code server side. used to manage, dynamic content, databases, sesion tracking"
   ]
  },
  {
   "cell_type": "code",
   "execution_count": 108,
   "id": "cb32295c",
   "metadata": {},
   "outputs": [
    {
     "data": {
      "text/plain": [
       "97"
      ]
     },
     "execution_count": 108,
     "metadata": {},
     "output_type": "execute_result"
    }
   ],
   "source": [
    "ord(\"a\")"
   ]
  },
  {
   "cell_type": "code",
   "execution_count": 109,
   "id": "182d6be5",
   "metadata": {},
   "outputs": [
    {
     "data": {
      "text/plain": [
       "38"
      ]
     },
     "execution_count": 109,
     "metadata": {},
     "output_type": "execute_result"
    }
   ],
   "source": [
    "ord(\"&\")"
   ]
  },
  {
   "cell_type": "code",
   "execution_count": 114,
   "id": "ad9854ff",
   "metadata": {},
   "outputs": [
    {
     "data": {
      "text/plain": [
       "120"
      ]
     },
     "execution_count": 114,
     "metadata": {},
     "output_type": "execute_result"
    }
   ],
   "source": [
    "ord(\"x\")"
   ]
  },
  {
   "cell_type": "code",
   "execution_count": 115,
   "id": "e2ee08fc",
   "metadata": {},
   "outputs": [
    {
     "data": {
      "text/plain": [
       "121"
      ]
     },
     "execution_count": 115,
     "metadata": {},
     "output_type": "execute_result"
    }
   ],
   "source": [
    "ord(\"y\")"
   ]
  },
  {
   "cell_type": "code",
   "execution_count": 116,
   "id": "84b96341",
   "metadata": {},
   "outputs": [],
   "source": [
    "x=5"
   ]
  },
  {
   "cell_type": "code",
   "execution_count": 117,
   "id": "38267879",
   "metadata": {},
   "outputs": [
    {
     "data": {
      "text/plain": [
       "False"
      ]
     },
     "execution_count": 117,
     "metadata": {},
     "output_type": "execute_result"
    }
   ],
   "source": [
    "x==6"
   ]
  },
  {
   "cell_type": "code",
   "execution_count": 118,
   "id": "a227b7b0",
   "metadata": {},
   "outputs": [
    {
     "data": {
      "text/plain": [
       "2"
      ]
     },
     "execution_count": 118,
     "metadata": {},
     "output_type": "execute_result"
    }
   ],
   "source": [
    "12%5"
   ]
  },
  {
   "cell_type": "code",
   "execution_count": 119,
   "id": "9c87eea9",
   "metadata": {},
   "outputs": [
    {
     "data": {
      "text/plain": [
       "2.4"
      ]
     },
     "execution_count": 119,
     "metadata": {},
     "output_type": "execute_result"
    }
   ],
   "source": [
    "12/5"
   ]
  },
  {
   "cell_type": "code",
   "execution_count": 120,
   "id": "2a1676dd",
   "metadata": {},
   "outputs": [],
   "source": [
    "k=12345\n",
    "l=12345"
   ]
  },
  {
   "cell_type": "code",
   "execution_count": 121,
   "id": "6bda83f1",
   "metadata": {},
   "outputs": [
    {
     "data": {
      "text/plain": [
       "False"
      ]
     },
     "execution_count": 121,
     "metadata": {},
     "output_type": "execute_result"
    }
   ],
   "source": [
    "k is l"
   ]
  },
  {
   "cell_type": "code",
   "execution_count": 122,
   "id": "b72f5beb",
   "metadata": {},
   "outputs": [
    {
     "data": {
      "text/plain": [
       "(2305918422160, 2305918422960)"
      ]
     },
     "execution_count": 122,
     "metadata": {},
     "output_type": "execute_result"
    }
   ],
   "source": [
    "id(k), id(l)"
   ]
  },
  {
   "cell_type": "code",
   "execution_count": 129,
   "id": "3001f0d8",
   "metadata": {},
   "outputs": [],
   "source": [
    "i=1"
   ]
  },
  {
   "cell_type": "code",
   "execution_count": 132,
   "id": "7e210b09",
   "metadata": {},
   "outputs": [
    {
     "data": {
      "text/plain": [
       "1"
      ]
     },
     "execution_count": 132,
     "metadata": {},
     "output_type": "execute_result"
    }
   ],
   "source": [
    "i"
   ]
  },
  {
   "cell_type": "code",
   "execution_count": 133,
   "id": "e252ec78",
   "metadata": {},
   "outputs": [
    {
     "data": {
      "text/plain": [
       "True"
      ]
     },
     "execution_count": 133,
     "metadata": {},
     "output_type": "execute_result"
    }
   ],
   "source": [
    "\"i\" ==\"i\""
   ]
  },
  {
   "cell_type": "code",
   "execution_count": 134,
   "id": "5473e9dc",
   "metadata": {},
   "outputs": [
    {
     "name": "stderr",
     "output_type": "stream",
     "text": [
      "<>:1: SyntaxWarning: \"is\" with a literal. Did you mean \"==\"?\n",
      "<>:1: SyntaxWarning: \"is\" with a literal. Did you mean \"==\"?\n",
      "C:\\Users\\LENOVO\\AppData\\Local\\Temp/ipykernel_380/1398373664.py:1: SyntaxWarning: \"is\" with a literal. Did you mean \"==\"?\n",
      "  \"l\"is\"l\"\n"
     ]
    },
    {
     "data": {
      "text/plain": [
       "True"
      ]
     },
     "execution_count": 134,
     "metadata": {},
     "output_type": "execute_result"
    }
   ],
   "source": [
    "\"l\"is\"l\""
   ]
  },
  {
   "cell_type": "code",
   "execution_count": null,
   "id": "666f5ac1",
   "metadata": {},
   "outputs": [],
   "source": []
  }
 ],
 "metadata": {
  "kernelspec": {
   "display_name": "Python 3 (ipykernel)",
   "language": "python",
   "name": "python3"
  },
  "language_info": {
   "codemirror_mode": {
    "name": "ipython",
    "version": 3
   },
   "file_extension": ".py",
   "mimetype": "text/x-python",
   "name": "python",
   "nbconvert_exporter": "python",
   "pygments_lexer": "ipython3",
   "version": "3.10.0"
  }
 },
 "nbformat": 4,
 "nbformat_minor": 5
}
