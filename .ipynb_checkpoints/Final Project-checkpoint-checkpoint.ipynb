{
 "cells": [
  {
   "cell_type": "code",
   "execution_count": 5,
   "id": "ef5a5724",
   "metadata": {},
   "outputs": [],
   "source": [
    "class Restaurent:\n",
    "    def __init__(self):\n",
    "        self.food = {}\n",
    "        self.food_id = len(self.food)+1\n",
    "        self.ordered_item = []\n",
    "        self.personal_details = {}\n",
    "        \n",
    "        \n",
    "    def food_items(self):\n",
    "        self.name = input(\"Enter the food name\")\n",
    "        self.quantity = int(input(\"Enter the quantity : \"))\n",
    "        self.price = float(input(\"Enter the price : \"))\n",
    "        self.stock = int(input(\"Enter the stock in kg\"))\n",
    "        self.discount = int(input(\"Enter discount value\"))\n",
    "        self.item = {\"name\":self.name , \"quantity\":self.quantity , \"price\":self.price , \"stock\":self.stock ,\"discount\":self.discount}\n",
    "        self.food_id = len(self.food)+1\n",
    "        self.food[self.food_id] = self.item\n",
    "        print(\"Item added successfully \\n\", self.food)\n",
    "        \n",
    "    def remove_items(self):\n",
    "        del self.food[int(input(\"Enter the food id you want to delete : \"))]\n",
    "        print(\"Item is deleted successfully\")\n",
    "        print(\"Remaining food items are :\", self.food)\n",
    "        \n",
    "    def edit_food_items(self):\n",
    "        f_id = int(input(\"Enter the food id you want to update : \"))\n",
    "        for i in self.food[f_id]:\n",
    "            self.food[f_id] = input(\"Enter the\"+i+ \"you want to update : \")\n",
    "        print(\"Food item is updated sucessfully \\n\", self.food)\n",
    "        \n",
    "    def all_food_items(self):\n",
    "        print(\"List of all food items are : \")\n",
    "        for i in self.food:\n",
    "            print(\"Food id :\",i,\"\\n\")\n",
    "            for j in self.food[i]:\n",
    "                print(j,\":\",self.food[i][j])"
   ]
  },
  {
   "cell_type": "code",
   "execution_count": null,
   "id": "3401c57b",
   "metadata": {},
   "outputs": [],
   "source": []
  }
 ],
 "metadata": {
  "kernelspec": {
   "display_name": "Python 3 (ipykernel)",
   "language": "python",
   "name": "python3"
  },
  "language_info": {
   "codemirror_mode": {
    "name": "ipython",
    "version": 3
   },
   "file_extension": ".py",
   "mimetype": "text/x-python",
   "name": "python",
   "nbconvert_exporter": "python",
   "pygments_lexer": "ipython3",
   "version": "3.10.0"
  }
 },
 "nbformat": 4,
 "nbformat_minor": 5
}
