{
 "cells": [
  {
   "cell_type": "code",
   "execution_count": 1,
   "id": "a0ea7e9d",
   "metadata": {},
   "outputs": [],
   "source": [
    "# strings is a sequence data type\n",
    "# strings are immutable (you cannot update a string)"
   ]
  },
  {
   "cell_type": "code",
   "execution_count": 2,
   "id": "63dace25",
   "metadata": {},
   "outputs": [],
   "source": [
    "data = \"virat kohli\""
   ]
  },
  {
   "cell_type": "code",
   "execution_count": 4,
   "id": "cc0e3df5",
   "metadata": {},
   "outputs": [
    {
     "data": {
      "text/plain": [
       "str"
      ]
     },
     "execution_count": 4,
     "metadata": {},
     "output_type": "execute_result"
    }
   ],
   "source": [
    "type(data)"
   ]
  },
  {
   "cell_type": "code",
   "execution_count": 5,
   "id": "5f1a7a1c",
   "metadata": {},
   "outputs": [
    {
     "data": {
      "text/plain": [
       "11"
      ]
     },
     "execution_count": 5,
     "metadata": {},
     "output_type": "execute_result"
    }
   ],
   "source": [
    "len(data)"
   ]
  },
  {
   "cell_type": "code",
   "execution_count": 6,
   "id": "2cdd8982",
   "metadata": {},
   "outputs": [
    {
     "data": {
      "text/plain": [
       "140629552908528"
      ]
     },
     "execution_count": 6,
     "metadata": {},
     "output_type": "execute_result"
    }
   ],
   "source": [
    "id(data)"
   ]
  },
  {
   "cell_type": "code",
   "execution_count": null,
   "id": "e91c08ff",
   "metadata": {},
   "outputs": [],
   "source": [
    "# Immutability\n",
    "# * means you cannot change the contents of the variable\n",
    "# * with every operation that tries to change the contents \n",
    "#   of the variable -> a new variable is created"
   ]
  },
  {
   "cell_type": "code",
   "execution_count": 7,
   "id": "f472cd69",
   "metadata": {},
   "outputs": [],
   "source": [
    "data = \"Mr. \" + data"
   ]
  },
  {
   "cell_type": "code",
   "execution_count": 8,
   "id": "d4a9c544",
   "metadata": {},
   "outputs": [
    {
     "data": {
      "text/plain": [
       "'Mr. virat kohli'"
      ]
     },
     "execution_count": 8,
     "metadata": {},
     "output_type": "execute_result"
    }
   ],
   "source": [
    "data"
   ]
  },
  {
   "cell_type": "code",
   "execution_count": 9,
   "id": "71e15a70",
   "metadata": {},
   "outputs": [
    {
     "data": {
      "text/plain": [
       "140629553162992"
      ]
     },
     "execution_count": 9,
     "metadata": {},
     "output_type": "execute_result"
    }
   ],
   "source": [
    "id(data)"
   ]
  },
  {
   "cell_type": "code",
   "execution_count": 13,
   "id": "d0e6b834",
   "metadata": {},
   "outputs": [],
   "source": [
    "t = data.upper()"
   ]
  },
  {
   "cell_type": "code",
   "execution_count": 11,
   "id": "9c96e052",
   "metadata": {},
   "outputs": [
    {
     "data": {
      "text/plain": [
       "('Mr. virat kohli', 140629553162992)"
      ]
     },
     "execution_count": 11,
     "metadata": {},
     "output_type": "execute_result"
    }
   ],
   "source": [
    "data, id(data)"
   ]
  },
  {
   "cell_type": "code",
   "execution_count": 14,
   "id": "bce1033f",
   "metadata": {},
   "outputs": [
    {
     "data": {
      "text/plain": [
       "('MR. VIRAT KOHLI', 140629553160944)"
      ]
     },
     "execution_count": 14,
     "metadata": {},
     "output_type": "execute_result"
    }
   ],
   "source": [
    "t, id(t)"
   ]
  },
  {
   "cell_type": "code",
   "execution_count": null,
   "id": "195f1fcb",
   "metadata": {},
   "outputs": [],
   "source": []
  },
  {
   "cell_type": "code",
   "execution_count": null,
   "id": "504eca98",
   "metadata": {},
   "outputs": [],
   "source": [
    "# print and input\n",
    "with every application in your system \n",
    "* there are 3 pipes (pipe: a hw and sw component, that transfer data)\n",
    "* Standard input (pipe 0):\n",
    "* Standard output (pipe 1):\n",
    "* Standard error (pipe 2):\n",
    "\n",
    "Pipe / Bus\n",
    "UART -> Receiver transmitter module (between 2 components)\n",
    "Pipe class (sw component in bash)\n",
    "I2C, .."
   ]
  },
  {
   "cell_type": "code",
   "execution_count": 16,
   "id": "256db907",
   "metadata": {},
   "outputs": [
    {
     "name": "stdout",
     "output_type": "stream",
     "text": [
      "adada \n",
      " 1231231 13.1223123\n"
     ]
    }
   ],
   "source": [
    "print(\"adada\", \"\\n\", 1231231, 13.1223123) # cmd = print\n",
    "                                          # data = ....\n",
    "                                          # Std o/p pipe"
   ]
  },
  {
   "cell_type": "code",
   "execution_count": null,
   "id": "4438341d",
   "metadata": {},
   "outputs": [],
   "source": []
  },
  {
   "cell_type": "code",
   "execution_count": null,
   "id": "7eeae43f",
   "metadata": {},
   "outputs": [],
   "source": [
    "# program to work with a DB \n",
    "# Read, Write, Update, Delete (operations)\n",
    "# Profiles -> DB Admin (all), SE (RWU), User (R)\n",
    "# Provide different Access Levels (ACL - Access Control Levels)\n",
    "\n",
    "# Run this program:- Profile? Operation?\n",
    "# python db_ops.py User read --> Allow\n",
    "# python db_ops.py User write --> Stop\n",
    "# python db_ops.py SE Delete --> Stop\n",
    "# python db_ops.py DBA update -> Allow"
   ]
  },
  {
   "cell_type": "code",
   "execution_count": null,
   "id": "7f49d16a",
   "metadata": {},
   "outputs": [],
   "source": []
  },
  {
   "cell_type": "code",
   "execution_count": 21,
   "id": "fb5ddcc3",
   "metadata": {},
   "outputs": [
    {
     "name": "stdout",
     "output_type": "stream",
     "text": [
      "Enter a name:Virat\n"
     ]
    }
   ],
   "source": [
    "x = input(\"Enter a name: \")"
   ]
  },
  {
   "cell_type": "code",
   "execution_count": 22,
   "id": "62a9ef35",
   "metadata": {},
   "outputs": [
    {
     "data": {
      "text/plain": [
       "'Virat'"
      ]
     },
     "execution_count": 22,
     "metadata": {},
     "output_type": "execute_result"
    }
   ],
   "source": [
    "x"
   ]
  },
  {
   "cell_type": "code",
   "execution_count": 23,
   "id": "4c7ad0ec",
   "metadata": {},
   "outputs": [
    {
     "name": "stdout",
     "output_type": "stream",
     "text": [
      "Enter a number: 24\n"
     ]
    }
   ],
   "source": [
    "x = input(\"Enter a number: \")"
   ]
  },
  {
   "cell_type": "code",
   "execution_count": 24,
   "id": "b9445524",
   "metadata": {},
   "outputs": [
    {
     "data": {
      "text/plain": [
       "('24', str)"
      ]
     },
     "execution_count": 24,
     "metadata": {},
     "output_type": "execute_result"
    }
   ],
   "source": [
    "x, type(x)"
   ]
  },
  {
   "cell_type": "code",
   "execution_count": null,
   "id": "a54177bb",
   "metadata": {},
   "outputs": [],
   "source": [
    "\"{k: v}\", \"{}\", \"[]\", \"()\", \"123\", \"-23.3\", \"True\", \"Virat\"\n",
    "\n",
    "Empty value in each data type:\n",
    "dict - {}\n",
    "set - set()\n",
    "list - []\n",
    "tuple - ()\n",
    "int - 0\n",
    "str - \"\", None  # \"0\" -> True, \"True\" -> True\n",
    "float - 0.0"
   ]
  },
  {
   "cell_type": "code",
   "execution_count": 51,
   "id": "f9013ff9",
   "metadata": {},
   "outputs": [
    {
     "name": "stdout",
     "output_type": "stream",
     "text": [
      "Enter a number:  \n"
     ]
    }
   ],
   "source": [
    "x = bool(input(\"Enter a number: \"))"
   ]
  },
  {
   "cell_type": "code",
   "execution_count": 52,
   "id": "b57ecb22",
   "metadata": {},
   "outputs": [
    {
     "name": "stdout",
     "output_type": "stream",
     "text": [
      "True <class 'bool'>\n"
     ]
    }
   ],
   "source": [
    "print(x, type(x))"
   ]
  },
  {
   "cell_type": "code",
   "execution_count": null,
   "id": "69a417c5",
   "metadata": {},
   "outputs": [],
   "source": []
  },
  {
   "cell_type": "code",
   "execution_count": null,
   "id": "230210d7",
   "metadata": {},
   "outputs": [],
   "source": []
  },
  {
   "cell_type": "code",
   "execution_count": 39,
   "id": "cc0074ae",
   "metadata": {},
   "outputs": [],
   "source": [
    "# operations on Strings"
   ]
  },
  {
   "cell_type": "code",
   "execution_count": 45,
   "id": "b92199fb",
   "metadata": {},
   "outputs": [],
   "source": [
    "s1 = \"virat\"\n",
    "s2 = \"kohli\"\n",
    "s3 = s1 + \" \" + s2"
   ]
  },
  {
   "cell_type": "code",
   "execution_count": 46,
   "id": "34d0e197",
   "metadata": {},
   "outputs": [
    {
     "data": {
      "text/plain": [
       "'virat kohli'"
      ]
     },
     "execution_count": 46,
     "metadata": {},
     "output_type": "execute_result"
    }
   ],
   "source": [
    "s3"
   ]
  },
  {
   "cell_type": "code",
   "execution_count": 47,
   "id": "f5da0456",
   "metadata": {},
   "outputs": [
    {
     "data": {
      "text/plain": [
       "'viratviratvirat'"
      ]
     },
     "execution_count": 47,
     "metadata": {},
     "output_type": "execute_result"
    }
   ],
   "source": [
    "s1 * 3 # %, / **, -"
   ]
  },
  {
   "cell_type": "code",
   "execution_count": 48,
   "id": "f0df5a32",
   "metadata": {},
   "outputs": [
    {
     "ename": "TypeError",
     "evalue": "unsupported operand type(s) for -: 'str' and 'str'",
     "output_type": "error",
     "traceback": [
      "\u001b[0;31m---------------------------------------------------------------------------\u001b[0m",
      "\u001b[0;31mTypeError\u001b[0m                                 Traceback (most recent call last)",
      "\u001b[0;32m/var/folders/wx/bxxcv1hd2fn6pgpvlymttc680000gn/T/ipykernel_12063/1155266932.py\u001b[0m in \u001b[0;36m<module>\u001b[0;34m\u001b[0m\n\u001b[0;32m----> 1\u001b[0;31m \u001b[0ms1\u001b[0m \u001b[0;34m-\u001b[0m \u001b[0ms2\u001b[0m\u001b[0;34m\u001b[0m\u001b[0;34m\u001b[0m\u001b[0m\n\u001b[0m",
      "\u001b[0;31mTypeError\u001b[0m: unsupported operand type(s) for -: 'str' and 'str'"
     ]
    }
   ],
   "source": [
    "s1 - s2"
   ]
  },
  {
   "cell_type": "code",
   "execution_count": null,
   "id": "b7a5442f",
   "metadata": {},
   "outputs": [],
   "source": []
  },
  {
   "cell_type": "code",
   "execution_count": null,
   "id": "c6e38e05",
   "metadata": {},
   "outputs": [],
   "source": []
  },
  {
   "cell_type": "code",
   "execution_count": 53,
   "id": "78e3b7c9",
   "metadata": {},
   "outputs": [
    {
     "name": "stdout",
     "output_type": "stream",
     "text": [
      "virat kohli VIRAT KOHLI\n"
     ]
    }
   ],
   "source": [
    "# functions on Strings\n",
    "\n",
    "s = \"virat kohli\"\n",
    "print(s.lower(), s.upper())"
   ]
  },
  {
   "cell_type": "code",
   "execution_count": 54,
   "id": "0de9b06b",
   "metadata": {},
   "outputs": [
    {
     "name": "stdout",
     "output_type": "stream",
     "text": [
      "True False\n"
     ]
    }
   ],
   "source": [
    "# predefined functions -> start with is.....\n",
    "# it means that they will return bool value (by checking some condition)\n",
    "print(s.islower(), s.isupper())"
   ]
  },
  {
   "cell_type": "code",
   "execution_count": 56,
   "id": "16f0575a",
   "metadata": {},
   "outputs": [
    {
     "data": {
      "text/plain": [
       "True"
      ]
     },
     "execution_count": 56,
     "metadata": {},
     "output_type": "execute_result"
    }
   ],
   "source": [
    "\"ABCD\".isupper()"
   ]
  },
  {
   "cell_type": "code",
   "execution_count": 57,
   "id": "ad636878",
   "metadata": {},
   "outputs": [
    {
     "data": {
      "text/plain": [
       "'Virat Kohli'"
      ]
     },
     "execution_count": 57,
     "metadata": {},
     "output_type": "execute_result"
    }
   ],
   "source": [
    "s.title()"
   ]
  },
  {
   "cell_type": "code",
   "execution_count": 59,
   "id": "721c0610",
   "metadata": {},
   "outputs": [
    {
     "data": {
      "text/plain": [
       "False"
      ]
     },
     "execution_count": 59,
     "metadata": {},
     "output_type": "execute_result"
    }
   ],
   "source": [
    "'Virat kohli'.istitle()"
   ]
  },
  {
   "cell_type": "code",
   "execution_count": null,
   "id": "b40e927a",
   "metadata": {},
   "outputs": [],
   "source": []
  },
  {
   "cell_type": "code",
   "execution_count": null,
   "id": "f65b8d3e",
   "metadata": {},
   "outputs": [],
   "source": [
    "alphabets -> [a-z] [A-Z]\n",
    "numerics -> [0-9]\n",
    "special characters -> ./*()% (and many more)\n",
    "spaces -> \" \", \"\\t\" (tab key), \"\\n\" (enter key)"
   ]
  },
  {
   "cell_type": "code",
   "execution_count": 62,
   "id": "4577c7e0",
   "metadata": {},
   "outputs": [
    {
     "data": {
      "text/plain": [
       "True"
      ]
     },
     "execution_count": 62,
     "metadata": {},
     "output_type": "execute_result"
    }
   ],
   "source": [
    "\"h345i123\".isalnum() # alphanumeric"
   ]
  },
  {
   "cell_type": "code",
   "execution_count": 63,
   "id": "b937af5a",
   "metadata": {},
   "outputs": [
    {
     "data": {
      "text/plain": [
       "False"
      ]
     },
     "execution_count": 63,
     "metadata": {},
     "output_type": "execute_result"
    }
   ],
   "source": [
    "\"123nadndkmd$\".isalnum()"
   ]
  },
  {
   "cell_type": "code",
   "execution_count": 64,
   "id": "69fced95",
   "metadata": {},
   "outputs": [
    {
     "data": {
      "text/plain": [
       "True"
      ]
     },
     "execution_count": 64,
     "metadata": {},
     "output_type": "execute_result"
    }
   ],
   "source": [
    "\"     \".isspace()"
   ]
  },
  {
   "cell_type": "code",
   "execution_count": 66,
   "id": "daaf363b",
   "metadata": {},
   "outputs": [
    {
     "data": {
      "text/plain": [
       "True"
      ]
     },
     "execution_count": 66,
     "metadata": {},
     "output_type": "execute_result"
    }
   ],
   "source": [
    "\"hiiII\".isalnum()"
   ]
  },
  {
   "cell_type": "code",
   "execution_count": 71,
   "id": "6c566d54",
   "metadata": {},
   "outputs": [
    {
     "data": {
      "text/plain": [
       "True"
      ]
     },
     "execution_count": 71,
     "metadata": {},
     "output_type": "execute_result"
    }
   ],
   "source": [
    "\"123123\".isnumeric()"
   ]
  },
  {
   "cell_type": "code",
   "execution_count": 72,
   "id": "ecefebd5",
   "metadata": {},
   "outputs": [
    {
     "data": {
      "text/plain": [
       "True"
      ]
     },
     "execution_count": 72,
     "metadata": {},
     "output_type": "execute_result"
    }
   ],
   "source": [
    "\"abs\".isalpha()"
   ]
  },
  {
   "cell_type": "code",
   "execution_count": null,
   "id": "b59a2778",
   "metadata": {},
   "outputs": [],
   "source": []
  },
  {
   "cell_type": "code",
   "execution_count": null,
   "id": "bc951a3d",
   "metadata": {},
   "outputs": [],
   "source": []
  },
  {
   "cell_type": "code",
   "execution_count": 73,
   "id": "9aa8771e",
   "metadata": {},
   "outputs": [
    {
     "data": {
      "text/plain": [
       "'virat kohli'"
      ]
     },
     "execution_count": 73,
     "metadata": {},
     "output_type": "execute_result"
    }
   ],
   "source": [
    "s = \"virat kohli\"\n",
    "s"
   ]
  },
  {
   "cell_type": "code",
   "execution_count": 74,
   "id": "78cad7cf",
   "metadata": {},
   "outputs": [
    {
     "data": {
      "text/plain": [
       "2"
      ]
     },
     "execution_count": 74,
     "metadata": {},
     "output_type": "execute_result"
    }
   ],
   "source": [
    "s.count(\"i\")"
   ]
  },
  {
   "cell_type": "code",
   "execution_count": 75,
   "id": "f184e8cc",
   "metadata": {},
   "outputs": [
    {
     "data": {
      "text/plain": [
       "1"
      ]
     },
     "execution_count": 75,
     "metadata": {},
     "output_type": "execute_result"
    }
   ],
   "source": [
    "s.count(\" \")"
   ]
  },
  {
   "cell_type": "code",
   "execution_count": 76,
   "id": "5a729923",
   "metadata": {},
   "outputs": [
    {
     "data": {
      "text/plain": [
       "0"
      ]
     },
     "execution_count": 76,
     "metadata": {},
     "output_type": "execute_result"
    }
   ],
   "source": [
    "s.count(\"V\")"
   ]
  },
  {
   "cell_type": "code",
   "execution_count": 77,
   "id": "809dcc7e",
   "metadata": {},
   "outputs": [
    {
     "data": {
      "text/plain": [
       "6"
      ]
     },
     "execution_count": 77,
     "metadata": {},
     "output_type": "execute_result"
    }
   ],
   "source": [
    "s.index(\"k\")"
   ]
  },
  {
   "cell_type": "code",
   "execution_count": 78,
   "id": "b87a4ea7",
   "metadata": {},
   "outputs": [
    {
     "data": {
      "text/plain": [
       "1"
      ]
     },
     "execution_count": 78,
     "metadata": {},
     "output_type": "execute_result"
    }
   ],
   "source": [
    "s.index(\"i\")"
   ]
  },
  {
   "cell_type": "code",
   "execution_count": 79,
   "id": "26bab60a",
   "metadata": {
    "collapsed": true
   },
   "outputs": [
    {
     "ename": "ValueError",
     "evalue": "substring not found",
     "output_type": "error",
     "traceback": [
      "\u001b[0;31m---------------------------------------------------------------------------\u001b[0m",
      "\u001b[0;31mValueError\u001b[0m                                Traceback (most recent call last)",
      "\u001b[0;32m/var/folders/wx/bxxcv1hd2fn6pgpvlymttc680000gn/T/ipykernel_12063/1132275585.py\u001b[0m in \u001b[0;36m<module>\u001b[0;34m\u001b[0m\n\u001b[0;32m----> 1\u001b[0;31m \u001b[0ms\u001b[0m\u001b[0;34m.\u001b[0m\u001b[0mindex\u001b[0m\u001b[0;34m(\u001b[0m\u001b[0;34m\"V\"\u001b[0m\u001b[0;34m)\u001b[0m\u001b[0;34m\u001b[0m\u001b[0;34m\u001b[0m\u001b[0m\n\u001b[0m",
      "\u001b[0;31mValueError\u001b[0m: substring not found"
     ]
    }
   ],
   "source": [
    "s.index(\"V\") # Error - use carefully"
   ]
  },
  {
   "cell_type": "code",
   "execution_count": null,
   "id": "051b88bd",
   "metadata": {},
   "outputs": [],
   "source": []
  },
  {
   "cell_type": "code",
   "execution_count": 82,
   "id": "98059579",
   "metadata": {},
   "outputs": [
    {
     "data": {
      "text/plain": [
       "False"
      ]
     },
     "execution_count": 82,
     "metadata": {},
     "output_type": "execute_result"
    }
   ],
   "source": [
    "s.startswith(\"virat\") # read a file you want to know all the lines that start with virat"
   ]
  },
  {
   "cell_type": "code",
   "execution_count": 84,
   "id": "dd9167ce",
   "metadata": {},
   "outputs": [
    {
     "data": {
      "text/plain": [
       "True"
      ]
     },
     "execution_count": 84,
     "metadata": {},
     "output_type": "execute_result"
    }
   ],
   "source": [
    "s.endswith(\" kohli\")"
   ]
  },
  {
   "cell_type": "code",
   "execution_count": 87,
   "id": "b6b5b97c",
   "metadata": {},
   "outputs": [
    {
     "data": {
      "text/plain": [
       "6"
      ]
     },
     "execution_count": 87,
     "metadata": {},
     "output_type": "execute_result"
    }
   ],
   "source": [
    "s.index(\"kohli\")"
   ]
  },
  {
   "cell_type": "code",
   "execution_count": 88,
   "id": "453c12f8",
   "metadata": {},
   "outputs": [
    {
     "data": {
      "text/plain": [
       "'Virat kohli'"
      ]
     },
     "execution_count": 88,
     "metadata": {},
     "output_type": "execute_result"
    }
   ],
   "source": [
    "s.replace(\"v\", \"V\")"
   ]
  },
  {
   "cell_type": "code",
   "execution_count": 89,
   "id": "8d916749",
   "metadata": {},
   "outputs": [
    {
     "data": {
      "text/plain": [
       "'vIrat kohlI'"
      ]
     },
     "execution_count": 89,
     "metadata": {},
     "output_type": "execute_result"
    }
   ],
   "source": [
    "s.replace(\"i\", \"I\")"
   ]
  },
  {
   "cell_type": "code",
   "execution_count": 90,
   "id": "710d0d3b",
   "metadata": {},
   "outputs": [
    {
     "data": {
      "text/plain": [
       "'virat kohli'"
      ]
     },
     "execution_count": 90,
     "metadata": {},
     "output_type": "execute_result"
    }
   ],
   "source": [
    "s"
   ]
  },
  {
   "cell_type": "code",
   "execution_count": null,
   "id": "cbb368ae",
   "metadata": {},
   "outputs": [],
   "source": []
  },
  {
   "cell_type": "code",
   "execution_count": 107,
   "id": "3d828dd9",
   "metadata": {},
   "outputs": [
    {
     "data": {
      "text/plain": [
       "'Hi. I am Virat Kohli, the ex-captain of the indian team'"
      ]
     },
     "execution_count": 107,
     "metadata": {},
     "output_type": "execute_result"
    }
   ],
   "source": [
    "# split and join\n",
    "\n",
    "msg = \"Hi. I am Virat Kohli, the ex-captain of the indian team\"\n",
    "msg"
   ]
  },
  {
   "cell_type": "code",
   "execution_count": 108,
   "id": "de26d750",
   "metadata": {},
   "outputs": [],
   "source": [
    "words = msg.split(\" \")"
   ]
  },
  {
   "cell_type": "code",
   "execution_count": 109,
   "id": "e63b50ed",
   "metadata": {},
   "outputs": [
    {
     "name": "stdout",
     "output_type": "stream",
     "text": [
      "['Hi.', 'I', 'am', 'Virat', 'Kohli,', 'the', 'ex-captain', 'of', 'the', 'indian', 'team']\n"
     ]
    }
   ],
   "source": [
    "print(words) # tokenization [\"Hi\", \".\", \"I\", \"am\", ...]"
   ]
  },
  {
   "cell_type": "code",
   "execution_count": 110,
   "id": "df7e6162",
   "metadata": {},
   "outputs": [
    {
     "data": {
      "text/plain": [
       "True"
      ]
     },
     "execution_count": 110,
     "metadata": {},
     "output_type": "execute_result"
    }
   ],
   "source": [
    "msg.index(\"Virat\")\n",
    "# \"Virat\" in words # costly, you need to split first"
   ]
  },
  {
   "cell_type": "code",
   "execution_count": 112,
   "id": "73b64750",
   "metadata": {},
   "outputs": [],
   "source": [
    "words = msg.split(\"!\")"
   ]
  },
  {
   "cell_type": "code",
   "execution_count": 113,
   "id": "47c91eec",
   "metadata": {},
   "outputs": [
    {
     "name": "stdout",
     "output_type": "stream",
     "text": [
      "['Hi. I am Virat Kohli, the ex-captain of the indian team']\n"
     ]
    }
   ],
   "source": [
    "print(words)"
   ]
  },
  {
   "cell_type": "code",
   "execution_count": 103,
   "id": "968c56fe",
   "metadata": {},
   "outputs": [],
   "source": [
    "words = msg.split(\"Virat\")"
   ]
  },
  {
   "cell_type": "code",
   "execution_count": 104,
   "id": "e7ad3f38",
   "metadata": {},
   "outputs": [
    {
     "data": {
      "text/plain": [
       "['Hi. I am ', ' Kohli, the ex-captain of the indian team']"
      ]
     },
     "execution_count": 104,
     "metadata": {},
     "output_type": "execute_result"
    }
   ],
   "source": [
    "words"
   ]
  },
  {
   "cell_type": "code",
   "execution_count": 114,
   "id": "eaad996b",
   "metadata": {},
   "outputs": [],
   "source": [
    "words = msg.split(\" \")"
   ]
  },
  {
   "cell_type": "code",
   "execution_count": 116,
   "id": "f7bd4e4f",
   "metadata": {},
   "outputs": [
    {
     "name": "stdout",
     "output_type": "stream",
     "text": [
      "['Hi.', 'I', 'am', 'Virat', 'Kohli,', 'the', 'ex-captain', 'of', 'the', 'indian', 'team']\n"
     ]
    }
   ],
   "source": [
    "print(words)"
   ]
  },
  {
   "cell_type": "code",
   "execution_count": 121,
   "id": "48e28b9a",
   "metadata": {},
   "outputs": [
    {
     "data": {
      "text/plain": [
       "'Hi. $$ I $$ am $$ Virat $$ Kohli, $$ the $$ ex-captain $$ of $$ the $$ indian $$ team $$ '"
      ]
     },
     "execution_count": 121,
     "metadata": {},
     "output_type": "execute_result"
    }
   ],
   "source": [
    "# Join \n",
    "\n",
    "msg_back = \"\"\n",
    "for word in words:\n",
    "#     msg_back = msg_back + \" $$ \" + word # beginning UHH\n",
    "    msg_back = msg_back + word + \" $$ \" # end UHH\n",
    "msg_back"
   ]
  },
  {
   "cell_type": "code",
   "execution_count": 124,
   "id": "06e8191d",
   "metadata": {},
   "outputs": [],
   "source": [
    "delimeter = \" $$ \"\n",
    "msg_back = delimeter.join(words)"
   ]
  },
  {
   "cell_type": "code",
   "execution_count": 125,
   "id": "7efa2281",
   "metadata": {},
   "outputs": [
    {
     "data": {
      "text/plain": [
       "'Hi. $$ I $$ am $$ Virat $$ Kohli, $$ the $$ ex-captain $$ of $$ the $$ indian $$ team'"
      ]
     },
     "execution_count": 125,
     "metadata": {},
     "output_type": "execute_result"
    }
   ],
   "source": [
    "msg_back"
   ]
  },
  {
   "cell_type": "code",
   "execution_count": 126,
   "id": "63ea5b0d",
   "metadata": {},
   "outputs": [],
   "source": [
    "new_msg = \" \".join(words)"
   ]
  },
  {
   "cell_type": "code",
   "execution_count": 127,
   "id": "400b774d",
   "metadata": {},
   "outputs": [
    {
     "data": {
      "text/plain": [
       "'Hi. I am Virat Kohli, the ex-captain of the indian team'"
      ]
     },
     "execution_count": 127,
     "metadata": {},
     "output_type": "execute_result"
    }
   ],
   "source": [
    "new_msg"
   ]
  },
  {
   "cell_type": "code",
   "execution_count": 128,
   "id": "9f666cc9",
   "metadata": {},
   "outputs": [
    {
     "data": {
      "text/plain": [
       "True"
      ]
     },
     "execution_count": 128,
     "metadata": {},
     "output_type": "execute_result"
    }
   ],
   "source": [
    "msg == new_msg"
   ]
  },
  {
   "cell_type": "code",
   "execution_count": null,
   "id": "0c5ec4b2",
   "metadata": {},
   "outputs": [],
   "source": []
  },
  {
   "cell_type": "code",
   "execution_count": null,
   "id": "74eeab21",
   "metadata": {},
   "outputs": [],
   "source": []
  },
  {
   "cell_type": "code",
   "execution_count": 129,
   "id": "8855261a",
   "metadata": {},
   "outputs": [
    {
     "data": {
      "text/plain": [
       "'virat kohli'"
      ]
     },
     "execution_count": 129,
     "metadata": {},
     "output_type": "execute_result"
    }
   ],
   "source": [
    "# update a string\n",
    "\n",
    "s"
   ]
  },
  {
   "cell_type": "code",
   "execution_count": 132,
   "id": "63a4ac86",
   "metadata": {},
   "outputs": [
    {
     "data": {
      "text/plain": [
       "140629579268720"
      ]
     },
     "execution_count": 132,
     "metadata": {},
     "output_type": "execute_result"
    }
   ],
   "source": [
    "id(s)"
   ]
  },
  {
   "cell_type": "code",
   "execution_count": 134,
   "id": "636ad736",
   "metadata": {},
   "outputs": [
    {
     "data": {
      "text/plain": [
       "('Vvirat kohli', 140629581940464)"
      ]
     },
     "execution_count": 134,
     "metadata": {},
     "output_type": "execute_result"
    }
   ],
   "source": [
    "s = \"V\" + s\n",
    "s, id(s)"
   ]
  },
  {
   "cell_type": "code",
   "execution_count": 135,
   "id": "0fb6b7ad",
   "metadata": {},
   "outputs": [
    {
     "name": "stdout",
     "output_type": "stream",
     "text": [
      "V\n"
     ]
    }
   ],
   "source": [
    "print(s[0]) # s[0] = \"V\" C (allow)"
   ]
  },
  {
   "cell_type": "code",
   "execution_count": 137,
   "id": "98020437",
   "metadata": {},
   "outputs": [
    {
     "data": {
      "text/plain": [
       "'Virat Kohli'"
      ]
     },
     "execution_count": 137,
     "metadata": {},
     "output_type": "execute_result"
    }
   ],
   "source": [
    "\"  Virat Kohli    \".strip()"
   ]
  },
  {
   "cell_type": "code",
   "execution_count": 138,
   "id": "01155fd1",
   "metadata": {},
   "outputs": [
    {
     "data": {
      "text/plain": [
       "'Virat Kohli    '"
      ]
     },
     "execution_count": 138,
     "metadata": {},
     "output_type": "execute_result"
    }
   ],
   "source": [
    "\"  Virat Kohli    \".lstrip() # rstrip()"
   ]
  },
  {
   "cell_type": "code",
   "execution_count": 153,
   "id": "af9cc770",
   "metadata": {},
   "outputs": [
    {
     "name": "stdout",
     "output_type": "stream",
     "text": [
      "no, data has space(s)\n"
     ]
    }
   ],
   "source": [
    "# 4 categories -> (alpha, numerics, special), spaces\n",
    "\n",
    "s = \"abc123...@@@ \"\n",
    "if \" \" in s:  # if s.index(\" \"):\n",
    "    print(\"no, data has space(s)\")\n",
    "else:\n",
    "    print(\"good data\")"
   ]
  },
  {
   "cell_type": "code",
   "execution_count": 154,
   "id": "eb6e40c5",
   "metadata": {},
   "outputs": [
    {
     "data": {
      "text/plain": [
       "True"
      ]
     },
     "execution_count": 154,
     "metadata": {},
     "output_type": "execute_result"
    }
   ],
   "source": [
    "not s.isspace()"
   ]
  },
  {
   "cell_type": "code",
   "execution_count": null,
   "id": "e8971f1d",
   "metadata": {},
   "outputs": [],
   "source": [
    "# s.endswith() # 1"
   ]
  },
  {
   "cell_type": "code",
   "execution_count": 156,
   "id": "65647d74",
   "metadata": {},
   "outputs": [
    {
     "name": "stdout",
     "output_type": "stream",
     "text": [
      "Help on method_descriptor:\n",
      "\n",
      "endswith(...)\n",
      "    S.endswith(suffix[, start[, end]]) -> bool\n",
      "    \n",
      "    Return True if S ends with the specified suffix, False otherwise.\n",
      "    With optional start, test S beginning at that position.\n",
      "    With optional end, stop comparing S at that position.\n",
      "    suffix can also be a tuple of strings to try.\n",
      "\n"
     ]
    }
   ],
   "source": [
    "help(str.endswith)"
   ]
  },
  {
   "cell_type": "code",
   "execution_count": null,
   "id": "31c5d637",
   "metadata": {},
   "outputs": [],
   "source": []
  }
 ],
 "metadata": {
  "kernelspec": {
   "display_name": "Python 3 (ipykernel)",
   "language": "python",
   "name": "python3"
  },
  "language_info": {
   "codemirror_mode": {
    "name": "ipython",
    "version": 3
   },
   "file_extension": ".py",
   "mimetype": "text/x-python",
   "name": "python",
   "nbconvert_exporter": "python",
   "pygments_lexer": "ipython3",
   "version": "3.10.0"
  }
 },
 "nbformat": 4,
 "nbformat_minor": 5
}
