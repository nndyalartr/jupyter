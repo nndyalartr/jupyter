{
 "cells": [
  {
   "cell_type": "code",
   "execution_count": 49,
   "id": "1e3ee69c",
   "metadata": {},
   "outputs": [
    {
     "data": {
      "text/plain": [
       "'\"dcba4321\"'"
      ]
     },
     "execution_count": 49,
     "metadata": {},
     "output_type": "execute_result"
    }
   ],
   "source": [
    "k=('\"1234abcd\"')\n",
    "k[::-1]\n"
   ]
  },
  {
   "cell_type": "code",
   "execution_count": 50,
   "id": "52534e55",
   "metadata": {},
   "outputs": [
    {
     "name": "stdout",
     "output_type": "stream",
     "text": [
      "\"ydder rahkes ardnahc\"\n"
     ]
    }
   ],
   "source": [
    "def ty(p):\n",
    "    for i in p:        \n",
    "        res = p[::-1]\n",
    "    return res\n",
    "r =  ('\"chandra sekhar reddy\"')\n",
    "ress = ty(r)\n",
    "print (ress)\n"
   ]
  },
  {
   "cell_type": "code",
   "execution_count": 22,
   "id": "06d71953",
   "metadata": {},
   "outputs": [
    {
     "name": "stdout",
     "output_type": "stream",
     "text": [
      "15\n"
     ]
    }
   ],
   "source": [
    "def su(z):\n",
    "    sum=0\n",
    "    for l in z:\n",
    "        sum += l\n",
    "    return sum\n",
    "u = (1,2,3,4,5)\n",
    "res = su(u)\n",
    "print (res)"
   ]
  },
  {
   "cell_type": "code",
   "execution_count": 6,
   "id": "e2005e58",
   "metadata": {},
   "outputs": [],
   "source": [
    "o = (1,2,1,2,3,3,3,3,3,3,3,1,1,4,5)\n",
    "l = len(o)\n",
    "for i in o:\n",
    "    if i > (l//2):      \n",
    "        print(\"highest itrated number is\", i,\"and the itrated no is\")\n",
    "        \n"
   ]
  },
  {
   "cell_type": "code",
   "execution_count": 11,
   "id": "fe145fbf",
   "metadata": {},
   "outputs": [
    {
     "name": "stdout",
     "output_type": "stream",
     "text": [
      "dict_values([2, 4, 4])\n"
     ]
    }
   ],
   "source": [
    "t = {1:2,5:4,3:4}\n",
    "p = (t.values())\n",
    "print (p)"
   ]
  },
  {
   "cell_type": "code",
   "execution_count": 1,
   "id": "58091644",
   "metadata": {},
   "outputs": [
    {
     "name": "stdout",
     "output_type": "stream",
     "text": [
      "{'a': 97, 'b': 98, 'c': 99}\n",
      "dict_keys(['a', 'b', 'c'])\n",
      "{'a': 'apple', 'b': 'banana', 'c': 'cherry'}\n"
     ]
    }
   ],
   "source": [
    "fruits = [\"apple\", \"banana\", \"cherry\"]\n",
    "my_dict = {}\n",
    "for i in range(97,97+3):\n",
    "    my_dict[chr(i)] = i\n",
    "print(my_dict)\n",
    "print(my_dict.keys())\n",
    "k= (my_dict.keys())\n",
    "l = [\"apple\", \"banana\", \"cherry\"]\n",
    "dictionary = dict(zip(k,l))\n",
    "print(dictionary)"
   ]
  },
  {
   "cell_type": "code",
   "execution_count": 13,
   "id": "e885d142",
   "metadata": {},
   "outputs": [
    {
     "name": "stdout",
     "output_type": "stream",
     "text": [
      "{0: 11, 1: 12, 2: 13, 3: 14, 4: 15, 5: 16, 6: 17, 7: 18, 8: 19, 9: 20}\n"
     ]
    }
   ],
   "source": [
    "y= range(10)\n",
    "r= range(11,21,1)\n",
    "df = dict(zip(y,r))\n",
    "print (df)"
   ]
  },
  {
   "cell_type": "code",
   "execution_count": 15,
   "id": "749cd8c9",
   "metadata": {},
   "outputs": [
    {
     "name": "stdout",
     "output_type": "stream",
     "text": [
      "Rahul Gandhi\n",
      "{'name': 'Rahul Gandhi'}\n"
     ]
    }
   ],
   "source": [
    "class Employee:\n",
    "    \n",
    "    def setName(self,name):\n",
    "        self.name = name\n",
    "        \n",
    "    def getName(self):\n",
    "        return self.name\n",
    "        \n",
    "\n",
    "e1 = Employee()\n",
    "e1.setName(\"Rahul Gandhi\")\n",
    "print(e1.getName())\n",
    "print(e1.__dict__)"
   ]
  },
  {
   "cell_type": "code",
   "execution_count": 16,
   "id": "7b1de227",
   "metadata": {},
   "outputs": [
    {
     "name": "stdout",
     "output_type": "stream",
     "text": [
      "['False', 'None', 'True', 'and', 'as', 'assert', 'async', 'await', 'break', 'class', 'continue', 'def', 'del', 'elif', 'else', 'except', 'finally', 'for', 'from', 'global', 'if', 'import', 'in', 'is', 'lambda', 'nonlocal', 'not', 'or', 'pass', 'raise', 'return', 'try', 'while', 'with', 'yield']\n"
     ]
    }
   ],
   "source": [
    "import keyword\n",
    "print(keyword.kwlist)"
   ]
  },
  {
   "cell_type": "code",
   "execution_count": 27,
   "id": "5361baea",
   "metadata": {},
   "outputs": [
    {
     "name": "stdout",
     "output_type": "stream",
     "text": [
      "{}\n",
      "{'__module__': '__main__', 'min_Bal': 500, '__dict__': <attribute '__dict__' of 'Bank' objects>, '__weakref__': <attribute '__weakref__' of 'Bank' objects>, '__doc__': None}\n"
     ]
    }
   ],
   "source": [
    "class Bank:\n",
    "    min_Bal = 500\n",
    "    \n",
    "\n",
    "c1 = Bank()\n",
    "print(c1.__dict__)    # {}  - no instance variable\n",
    "print(Bank.__dict__)"
   ]
  },
  {
   "cell_type": "code",
   "execution_count": 16,
   "id": "5048659a",
   "metadata": {},
   "outputs": [
    {
     "name": "stdout",
     "output_type": "stream",
     "text": [
      " hi  Rahul  your account balence is  50500\n",
      "{'name': 'Rahul', 'deposite_amount': 50000, 'location': 'delhi'}\n",
      " hi  Priyanka  your account balence is  49500\n",
      "{'name': 'Priyanka', 'deposite_amount': 49000, 'location': 'mumbai'}\n"
     ]
    }
   ],
   "source": [
    "class Bank:\n",
    "    min_Bal = 500     # static variable\n",
    "    def __init__(self,a,b,c):\n",
    "        self.name = a\n",
    "        self.deposite_amount = b\n",
    "        self.location = c       \n",
    "        self.balence()\n",
    "        #print(\"Constructor executing automatically\")\n",
    "    def balence(self):\n",
    "        print(\" hi \", self.name, \" your account balence is \", (self.deposite_amount + self.min_Bal))         \n",
    "c1 = Bank(\"Rahul\", 50000, \"delhi\")\n",
    "print(c1.__dict__)\n",
    "c2 = Bank(\"Priyanka\", 49000, \"mumbai\")\n",
    "print(c2.__dict__)"
   ]
  },
  {
   "cell_type": "code",
   "execution_count": 14,
   "id": "7c018716",
   "metadata": {},
   "outputs": [
    {
     "name": "stdout",
     "output_type": "stream",
     "text": [
      "child Class - Contrcutor\n",
      "Parent class - Constructor\n",
      "1922514329392\n",
      "1922514329392\n",
      "1922514329392\n"
     ]
    }
   ],
   "source": [
    "class Parent:\n",
    "    def __init__(self):\n",
    "        print(\"Parent class - Constructor\")\n",
    "        print(id(self))\n",
    "       \n",
    "\n",
    "class Child(Parent):\n",
    "    def __init__(self):\n",
    "        print(\"child Class - Contrcutor\")\n",
    "        super().__init__()\n",
    "        print(id(self))\n",
    "        \n",
    "c = Child()\n",
    "print(id(c))"
   ]
  },
  {
   "cell_type": "code",
   "execution_count": null,
   "id": "72927396",
   "metadata": {},
   "outputs": [],
   "source": []
  }
 ],
 "metadata": {
  "kernelspec": {
   "display_name": "Python 3 (ipykernel)",
   "language": "python",
   "name": "python3"
  },
  "language_info": {
   "codemirror_mode": {
    "name": "ipython",
    "version": 3
   },
   "file_extension": ".py",
   "mimetype": "text/x-python",
   "name": "python",
   "nbconvert_exporter": "python",
   "pygments_lexer": "ipython3",
   "version": "3.10.0"
  }
 },
 "nbformat": 4,
 "nbformat_minor": 5
}
