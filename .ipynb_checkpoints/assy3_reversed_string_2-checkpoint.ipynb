{
 "cells": [
  {
   "cell_type": "code",
   "execution_count": 1,
   "id": "e520db4b",
   "metadata": {},
   "outputs": [
    {
     "name": "stdout",
     "output_type": "stream",
     "text": [
      "\"ivar\"\n"
     ]
    }
   ],
   "source": [
    "def ty(p):\n",
    "    for i in p:        \n",
    "        res = p[::-1]\n",
    "    return res\n",
    "r =  ('\"ravi\"')\n",
    "ress = ty(r)\n",
    "print (ress)"
   ]
  },
  {
   "cell_type": "code",
   "execution_count": null,
   "id": "66743bc6",
   "metadata": {},
   "outputs": [],
   "source": []
  }
 ],
 "metadata": {
  "kernelspec": {
   "display_name": "Python 3 (ipykernel)",
   "language": "python",
   "name": "python3"
  },
  "language_info": {
   "codemirror_mode": {
    "name": "ipython",
    "version": 3
   },
   "file_extension": ".py",
   "mimetype": "text/x-python",
   "name": "python",
   "nbconvert_exporter": "python",
   "pygments_lexer": "ipython3",
   "version": "3.10.0"
  }
 },
 "nbformat": 4,
 "nbformat_minor": 5
}
