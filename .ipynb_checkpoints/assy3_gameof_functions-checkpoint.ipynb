{
 "cells": [
  {
   "cell_type": "code",
   "execution_count": 2,
   "id": "afec0933",
   "metadata": {},
   "outputs": [
    {
     "name": "stdout",
     "output_type": "stream",
     "text": [
      "10\n"
     ]
    }
   ],
   "source": [
    "def su(l):\n",
    "    res = sum(l)\n",
    "    return res\n",
    "k=(1,2,3,4)\n",
    "re = su(k)\n",
    "print (re)"
   ]
  },
  {
   "cell_type": "code",
   "execution_count": null,
   "id": "88f74fe8",
   "metadata": {},
   "outputs": [],
   "source": []
  }
 ],
 "metadata": {
  "kernelspec": {
   "display_name": "Python 3 (ipykernel)",
   "language": "python",
   "name": "python3"
  },
  "language_info": {
   "codemirror_mode": {
    "name": "ipython",
    "version": 3
   },
   "file_extension": ".py",
   "mimetype": "text/x-python",
   "name": "python",
   "nbconvert_exporter": "python",
   "pygments_lexer": "ipython3",
   "version": "3.10.0"
  }
 },
 "nbformat": 4,
 "nbformat_minor": 5
}
