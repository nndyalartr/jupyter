{
 "cells": [
  {
   "cell_type": "code",
   "execution_count": 1,
   "id": "68d50d01",
   "metadata": {},
   "outputs": [
    {
     "name": "stdout",
     "output_type": "stream",
     "text": [
      "1\n",
      "1\n",
      "2\n",
      "3\n",
      "5\n",
      "8\n",
      "13\n",
      "21\n",
      "34\n"
     ]
    }
   ],
   "source": [
    "m = 0\n",
    "n = 1\n",
    "while n<50:\n",
    "    print(n)\n",
    "    m,n = n,m+n"
   ]
  },
  {
   "cell_type": "code",
   "execution_count": 2,
   "id": "a2405273",
   "metadata": {},
   "outputs": [],
   "source": [
    "s=\"sherlock holmes\""
   ]
  },
  {
   "cell_type": "code",
   "execution_count": 6,
   "id": "33071497",
   "metadata": {},
   "outputs": [
    {
     "data": {
      "text/plain": [
       "'sherlock'"
      ]
     },
     "execution_count": 6,
     "metadata": {},
     "output_type": "execute_result"
    }
   ],
   "source": [
    "s[0:8]"
   ]
  },
  {
   "cell_type": "code",
   "execution_count": 20,
   "id": "a8018d2b",
   "metadata": {},
   "outputs": [],
   "source": [
    "k =list[1:10]"
   ]
  },
  {
   "cell_type": "code",
   "execution_count": 18,
   "id": "f38a229c",
   "metadata": {},
   "outputs": [
    {
     "name": "stdout",
     "output_type": "stream",
     "text": [
      "[1, 2, 3, 4, 5, 6, 7, 8, 9]\n"
     ]
    }
   ],
   "source": [
    "print(k)"
   ]
  },
  {
   "cell_type": "code",
   "execution_count": 21,
   "id": "869e1a20",
   "metadata": {},
   "outputs": [
    {
     "name": "stdout",
     "output_type": "stream",
     "text": [
      "[1, 2, 3, 4, 5, 6, 7, 8, 9]\n"
     ]
    }
   ],
   "source": [
    "l=list(range(1,10))\n",
    "print(l)"
   ]
  },
  {
   "cell_type": "code",
   "execution_count": 48,
   "id": "6bb37592",
   "metadata": {},
   "outputs": [
    {
     "data": {
      "text/plain": [
       "'kcolrehs'"
      ]
     },
     "execution_count": 48,
     "metadata": {},
     "output_type": "execute_result"
    }
   ],
   "source": [
    "o=\"sherlock\"\n",
    "o[-1:-9:-1]"
   ]
  },
  {
   "cell_type": "code",
   "execution_count": 53,
   "id": "ef09cb68",
   "metadata": {},
   "outputs": [
    {
     "data": {
      "text/plain": [
       "'alayan avlah'"
      ]
     },
     "execution_count": 53,
     "metadata": {},
     "output_type": "execute_result"
    }
   ],
   "source": [
    "t=\"halva nayala\"\n",
    "t[::-1]"
   ]
  },
  {
   "cell_type": "code",
   "execution_count": 54,
   "id": "89b25845",
   "metadata": {},
   "outputs": [
    {
     "data": {
      "text/plain": [
       "'aisaaga'"
      ]
     },
     "execution_count": 54,
     "metadata": {},
     "output_type": "execute_result"
    }
   ],
   "source": [
    "y=\"langgala shiva\"\n",
    "y[::-2]"
   ]
  },
  {
   "cell_type": "code",
   "execution_count": 56,
   "id": "39c8a682",
   "metadata": {},
   "outputs": [],
   "source": [
    "k=\"gomathi\""
   ]
  },
  {
   "cell_type": "code",
   "execution_count": 63,
   "id": "f8a42ac4",
   "metadata": {},
   "outputs": [
    {
     "data": {
      "text/plain": [
       "'ihtamog'"
      ]
     },
     "execution_count": 63,
     "metadata": {},
     "output_type": "execute_result"
    }
   ],
   "source": [
    "k[::-1]\n"
   ]
  },
  {
   "cell_type": "code",
   "execution_count": 86,
   "id": "14f42257",
   "metadata": {},
   "outputs": [
    {
     "name": "stdout",
     "output_type": "stream",
     "text": [
      "moom is a pallindrome\n"
     ]
    }
   ],
   "source": [
    "s=\"moom\"\n",
    "k=s[::-1]\n",
    "if s==k:    \n",
    "    print(s + \" is a pallindrome\")\n",
    "else:\n",
    "    print(s +\" is not a pallindrome\")"
   ]
  },
  {
   "cell_type": "code",
   "execution_count": 98,
   "id": "b1bbd69e",
   "metadata": {},
   "outputs": [],
   "source": [
    "avrscore={\"test_score\":75,\"oneday\":66}"
   ]
  },
  {
   "cell_type": "code",
   "execution_count": 99,
   "id": "8011d3b1",
   "metadata": {},
   "outputs": [],
   "source": [
    "p={\"name\":\"ravi\",\"no\":5,\"grade\":\"a\",\"avg_score\":avrscore}"
   ]
  },
  {
   "cell_type": "code",
   "execution_count": 96,
   "id": "e4da1d1e",
   "metadata": {},
   "outputs": [
    {
     "data": {
      "text/plain": [
       "{'name': 'ravi',\n",
       " 'no': 5,\n",
       " 'grade': 'a',\n",
       " 'avg_score': {'test_score': 75, 'oneday': 66}}"
      ]
     },
     "execution_count": 96,
     "metadata": {},
     "output_type": "execute_result"
    }
   ],
   "source": [
    "p"
   ]
  },
  {
   "cell_type": "code",
   "execution_count": 100,
   "id": "11cbbc71",
   "metadata": {},
   "outputs": [
    {
     "data": {
      "text/plain": [
       "list"
      ]
     },
     "execution_count": 100,
     "metadata": {},
     "output_type": "execute_result"
    }
   ],
   "source": [
    "k=[1,2,3]\n",
    "type(k)"
   ]
  },
  {
   "cell_type": "code",
   "execution_count": 101,
   "id": "175d18f6",
   "metadata": {},
   "outputs": [
    {
     "data": {
      "text/plain": [
       "tuple"
      ]
     },
     "execution_count": 101,
     "metadata": {},
     "output_type": "execute_result"
    }
   ],
   "source": [
    "o=(1,2,3)\n",
    "type(o)"
   ]
  },
  {
   "cell_type": "code",
   "execution_count": 102,
   "id": "d63719c6",
   "metadata": {},
   "outputs": [
    {
     "data": {
      "text/plain": [
       "set"
      ]
     },
     "execution_count": 102,
     "metadata": {},
     "output_type": "execute_result"
    }
   ],
   "source": [
    "g={1,2,30}\n",
    "type(g)"
   ]
  },
  {
   "cell_type": "code",
   "execution_count": null,
   "id": "fca37f06",
   "metadata": {},
   "outputs": [],
   "source": []
  }
 ],
 "metadata": {
  "kernelspec": {
   "display_name": "Python 3 (ipykernel)",
   "language": "python",
   "name": "python3"
  },
  "language_info": {
   "codemirror_mode": {
    "name": "ipython",
    "version": 3
   },
   "file_extension": ".py",
   "mimetype": "text/x-python",
   "name": "python",
   "nbconvert_exporter": "python",
   "pygments_lexer": "ipython3",
   "version": "3.10.0"
  }
 },
 "nbformat": 4,
 "nbformat_minor": 5
}
